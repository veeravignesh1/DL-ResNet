{
  "nbformat": 4,
  "nbformat_minor": 0,
  "metadata": {
    "colab": {
      "name": "RESNET_18_60_adam.ipynb",
      "provenance": [],
      "collapsed_sections": []
    },
    "kernelspec": {
      "name": "python3",
      "display_name": "Python 3"
    },
    "accelerator": "GPU"
  },
  "cells": [
    {
      "cell_type": "code",
      "metadata": {
        "id": "sJZZ9hNj7Ys1",
        "colab_type": "code",
        "outputId": "e8d87eb8-166d-439a-faba-5e130b546c96",
        "colab": {
          "base_uri": "https://localhost:8080/",
          "height": 34
        }
      },
      "source": [
        "# ---------------------------------------------------------------------------- #\n",
        "# An implementation of https://arxiv.org/pdf/1512.03385.pdf                    #\n",
        "# See section 4.2 for the model architecture on CIFAR-10                       #\n",
        "# Some part of the code was referenced from below                              #\n",
        "# https://github.com/pytorch/vision/blob/master/torchvision/models/resnet.py   #\n",
        "# ---------------------------------------------------------------------------- #\n",
        "!pip install ipython-autotime\n",
        "%load_ext autotime\n",
        "import matplotlib.pyplot as plt\n",
        "import numpy as np\n",
        "import torch\n",
        "import torch.nn as nn\n",
        "import torch.nn.functional as F\n",
        "import torchvision\n",
        "import torchvision.transforms as transforms\n",
        "\n",
        "\n",
        "# Device configuration\n",
        "device = torch.device('cuda' if torch.cuda.is_available() else 'cpu')\n",
        "\n"
      ],
      "execution_count": 1,
      "outputs": [
        {
          "output_type": "stream",
          "text": [
            "Requirement already satisfied: ipython-autotime in /usr/local/lib/python3.6/dist-packages (0.1)\n"
          ],
          "name": "stdout"
        }
      ]
    },
    {
      "cell_type": "code",
      "metadata": {
        "id": "ixieggsE7eQR",
        "colab_type": "code",
        "outputId": "20e79a73-824c-4623-a98f-10adfbb608aa",
        "colab": {
          "base_uri": "https://localhost:8080/",
          "height": 34
        }
      },
      "source": [
        "# Hyper-parameters\n",
        "num_epochs = 60\n",
        "learning_rate = 0.01\n",
        "batch_size=256"
      ],
      "execution_count": 2,
      "outputs": [
        {
          "output_type": "stream",
          "text": [
            "time: 1.65 ms\n"
          ],
          "name": "stdout"
        }
      ]
    },
    {
      "cell_type": "code",
      "metadata": {
        "id": "-RJoy91C7eTd",
        "colab_type": "code",
        "outputId": "9cef02fe-365b-456a-b58f-cdf96c240f82",
        "colab": {
          "base_uri": "https://localhost:8080/",
          "height": 34
        }
      },
      "source": [
        "# Image preprocessing modules\n",
        "transform = transforms.Compose([\n",
        "    transforms.Pad(4),\n",
        "    transforms.RandomHorizontalFlip(),\n",
        "    transforms.RandomCrop(32),\n",
        "    #transforms.ColorJitter(brightness=0, contrast=0, saturation=0, hue=0),\n",
        "    #transforms.RandomRotation(degrees=[-10,10], resample=False, expand=False, center=None, fill=0),\n",
        "    transforms.ToTensor(),\n",
        "    #transforms.Normalize((0.4914, 0.4822, 0.4465), (0.2023, 0.1994, 0.2010)),\n",
        "    #transforms.Normalize((0.5, 0.5, 0.5), (0.5, 0.5, 0.5))\n",
        "    ])"
      ],
      "execution_count": 3,
      "outputs": [
        {
          "output_type": "stream",
          "text": [
            "time: 18.8 ms\n"
          ],
          "name": "stdout"
        }
      ]
    },
    {
      "cell_type": "code",
      "metadata": {
        "id": "AKqgCvcN3G86",
        "colab_type": "code",
        "colab": {}
      },
      "source": [
        "#transform_train = transforms.Compose([\n",
        "#    transforms.RandomCrop(32, padding=4),\n",
        "#    transforms.RandomHorizontalFlip(),\n",
        "#    transforms.ToTensor(),\n",
        "#    transforms.Normalize((0.4914, 0.4822, 0.4465), (0.2023, 0.1994, 0.2010)),\n",
        "#])\n",
        "\n",
        "#transform_test = transforms.Compose([\n",
        "#    transforms.ToTensor(),\n",
        "#    transforms.Normalize((0.4914, 0.4822, 0.4465), (0.2023, 0.1994, 0.2010)),\n",
        "#])\n"
      ],
      "execution_count": 0,
      "outputs": []
    },
    {
      "cell_type": "code",
      "metadata": {
        "id": "4vFQ-c_D7eWp",
        "colab_type": "code",
        "outputId": "b87f8a1f-154a-456d-8d80-c8d18abab63d",
        "colab": {
          "base_uri": "https://localhost:8080/",
          "height": 51
        }
      },
      "source": [
        "# CIFAR-10 dataset\n",
        "train_dataset = torchvision.datasets.CIFAR10(root='../../data/',\n",
        "                                             train=True, \n",
        "                                             transform=transform,\n",
        "                                             download=True)\n",
        "\n",
        "test_dataset = torchvision.datasets.CIFAR10(root='../../data/',\n",
        "                                            train=False, \n",
        "                                            transform=transforms.ToTensor())"
      ],
      "execution_count": 4,
      "outputs": [
        {
          "output_type": "stream",
          "text": [
            "Files already downloaded and verified\n",
            "time: 1.32 s\n"
          ],
          "name": "stdout"
        }
      ]
    },
    {
      "cell_type": "code",
      "metadata": {
        "id": "78eYeI8H7eZi",
        "colab_type": "code",
        "outputId": "9b5ecf2f-3754-4571-8145-f355ceeaba9f",
        "colab": {
          "base_uri": "https://localhost:8080/",
          "height": 34
        }
      },
      "source": [
        "# Data loader\n",
        "train_loader = torch.utils.data.DataLoader(dataset=train_dataset,\n",
        "                                           batch_size=batch_size, \n",
        "                                           shuffle=True)\n",
        "\n",
        "test_loader = torch.utils.data.DataLoader(dataset=test_dataset,\n",
        "                                          batch_size=batch_size, \n",
        "                                          shuffle=False)\n",
        "\n",
        "classes = ('plane', 'car', 'bird', 'cat',\n",
        "           'deer', 'dog', 'frog', 'horse', 'ship', 'truck')\n",
        "\n"
      ],
      "execution_count": 5,
      "outputs": [
        {
          "output_type": "stream",
          "text": [
            "time: 3.48 ms\n"
          ],
          "name": "stdout"
        }
      ]
    },
    {
      "cell_type": "code",
      "metadata": {
        "id": "7hW9WNjPii86",
        "colab_type": "code",
        "outputId": "ed938776-b264-4399-d89e-779528ff3edb",
        "colab": {
          "base_uri": "https://localhost:8080/",
          "height": 303
        }
      },
      "source": [
        "# functions to show an image\n",
        "\n",
        "\n",
        "def imshow(img):\n",
        "    img = img / 2 + 0.5     # unnormalize\n",
        "    npimg = img.numpy()\n",
        "    plt.imshow(np.transpose(npimg, (1, 2, 0)))\n",
        "    plt.show()\n",
        "\n",
        "\n",
        "# get some random training images\n",
        "dataiter = iter(train_loader)\n",
        "images, labels = dataiter.next()\n",
        "\n",
        "# show images\n",
        "imshow(torchvision.utils.make_grid(images))\n",
        "# print labels\n",
        "print(' '.join('%5s' % classes[labels[j]] for j in range(4)))"
      ],
      "execution_count": 6,
      "outputs": [
        {
          "output_type": "display_data",
          "data": {
            "image/png": "[encoded data removed]",
            "text/plain": [
              "<Figure size 432x288 with 1 Axes>"
            ]
          },
          "metadata": {
            "tags": []
          }
        },
        {
          "output_type": "stream",
          "text": [
            "  dog  deer  ship plane\n",
            "time: 201 ms\n"
          ],
          "name": "stdout"
        }
      ]
    },
    {
      "cell_type": "code",
      "metadata": {
        "id": "-YJAT2jCimio",
        "colab_type": "code",
        "outputId": "0522a02e-4427-4a50-d8ca-55781ac6cbf5",
        "colab": {
          "base_uri": "https://localhost:8080/",
          "height": 34
        }
      },
      "source": [
        "# 3x3 convolution\n",
        "def conv3x3(in_channels, out_channels, stride=1):\n",
        "    return nn.Conv2d(in_channels, out_channels, kernel_size=3, \n",
        "                     stride=stride, padding=1, bias=False)"
      ],
      "execution_count": 7,
      "outputs": [
        {
          "output_type": "stream",
          "text": [
            "time: 1.41 ms\n"
          ],
          "name": "stdout"
        }
      ]
    },
    {
      "cell_type": "code",
      "metadata": {
        "id": "xd6Th-OF7emh",
        "colab_type": "code",
        "outputId": "fc0ff9a1-a13f-4a9b-bf7e-0d6316fea2cd",
        "colab": {
          "base_uri": "https://localhost:8080/",
          "height": 34
        }
      },
      "source": [
        "class BasicBlock(nn.Module):\n",
        "    expansion = 1\n",
        "\n",
        "    def __init__(self, in_planes, planes, stride=1):\n",
        "        super(BasicBlock, self).__init__()\n",
        "        #dropout=0.4\n",
        "        #dropout = 0 if dropout is None else dropout\n",
        "        self.conv1 = nn.Conv2d(in_planes, planes, kernel_size=3, stride=stride, padding=1, bias=False)\n",
        "        self.bn1 = nn.BatchNorm2d(planes)\n",
        "        self.conv2 = nn.Conv2d(planes, planes, kernel_size=3, stride=1, padding=1, bias=False)\n",
        "        self.bn2 = nn.BatchNorm2d(planes)\n",
        "        #self.dropout = nn.Dropout(dropout)\n",
        "\n",
        "        self.shortcut = nn.Sequential()\n",
        "        if stride != 1 or in_planes != self.expansion*planes:\n",
        "            self.shortcut = nn.Sequential(\n",
        "                nn.Conv2d(in_planes, self.expansion*planes, kernel_size=1, stride=stride, bias=False),\n",
        "                nn.BatchNorm2d(self.expansion*planes)\n",
        "            )\n",
        "\n",
        "    def forward(self, x):\n",
        "        out = F.relu(self.bn1(self.conv1(x)))\n",
        "        out = self.bn2(self.conv2(out))\n",
        "        #out = self.dropout(out)\n",
        "        out += self.shortcut(x)\n",
        "        out = F.relu(out)\n",
        "        \n",
        "        return out"
      ],
      "execution_count": 8,
      "outputs": [
        {
          "output_type": "stream",
          "text": [
            "time: 26.8 ms\n"
          ],
          "name": "stdout"
        }
      ]
    },
    {
      "cell_type": "code",
      "metadata": {
        "id": "J0_toKu87e3j",
        "colab_type": "code",
        "outputId": "672e1ed4-1a19-48e4-d78f-e3c023f70521",
        "colab": {
          "base_uri": "https://localhost:8080/",
          "height": 34
        }
      },
      "source": [
        "class Bottleneck(nn.Module):\n",
        "    expansion = 4\n",
        "\n",
        "    def __init__(self, in_planes, planes, stride=1):\n",
        "        super(Bottleneck, self).__init__()\n",
        "        dropout=0.30\n",
        "        self.conv1 = nn.Conv2d(in_planes, planes, kernel_size=1, bias=False)\n",
        "        self.bn1 = nn.BatchNorm2d(planes)\n",
        "        self.conv2 = nn.Conv2d(planes, planes, kernel_size=3, stride=stride, padding=1, bias=False)\n",
        "        self.bn2 = nn.BatchNorm2d(planes)\n",
        "        self.conv3 = nn.Conv2d(planes, self.expansion*planes, kernel_size=1, bias=False)\n",
        "        self.bn3 = nn.BatchNorm2d(self.expansion*planes)\n",
        "        self.dropout = nn.Dropout(dropout)\n",
        "\n",
        "        self.shortcut = nn.Sequential()\n",
        "        if stride != 1 or in_planes != self.expansion*planes:\n",
        "            self.shortcut = nn.Sequential(\n",
        "                nn.Conv2d(in_planes, self.expansion*planes, kernel_size=1, stride=stride, bias=False),\n",
        "                nn.BatchNorm2d(self.expansion*planes)\n",
        "            )\n",
        "\n",
        "    def forward(self, x):\n",
        "        out = F.relu(self.bn1(self.conv1(x)))\n",
        "        out = F.relu(self.bn2(self.conv2(out)))\n",
        "        out = self.bn3(self.conv3(out))\n",
        "        out = self.dropout(out)\n",
        "        out += self.shortcut(x)\n",
        "        out = F.relu(out)\n",
        "        return out"
      ],
      "execution_count": 9,
      "outputs": [
        {
          "output_type": "stream",
          "text": [
            "time: 18 ms\n"
          ],
          "name": "stdout"
        }
      ]
    },
    {
      "cell_type": "code",
      "metadata": {
        "id": "HpFNWO6-7ejB",
        "colab_type": "code",
        "outputId": "43939794-ed1e-490f-8f0e-fcb29a957f1e",
        "colab": {
          "base_uri": "https://localhost:8080/",
          "height": 34
        }
      },
      "source": [
        "class ResNet(nn.Module):\n",
        "    def __init__(self, block, num_blocks, num_classes=10):\n",
        "        super(ResNet, self).__init__()\n",
        "        self.in_planes = 16\n",
        "\n",
        "        self.conv1 = nn.Conv2d(3, 16, kernel_size=3, stride=1, padding=1, bias=False)\n",
        "        self.bn1 = nn.BatchNorm2d(16)\n",
        "        self.layer1 = self._make_layer(block, 16, num_blocks[0], stride=1)\n",
        "        self.layer2 = self._make_layer(block, 32, num_blocks[1], stride=2)\n",
        "        self.layer3 = self._make_layer(block, 64, num_blocks[2], stride=2)\n",
        "        self.layer4 = self._make_layer(block, 128, num_blocks[3], stride=2)\n",
        "        self.linear = nn.Linear(128*block.expansion, num_classes)\n",
        "\n",
        "    def _make_layer(self, block, planes, num_blocks, stride):\n",
        "        strides = [stride] + [1]*(num_blocks-1)\n",
        "        layers = []\n",
        "        for stride in strides:\n",
        "            layers.append(block(self.in_planes, planes, stride))\n",
        "            self.in_planes = planes * block.expansion\n",
        "        return nn.Sequential(*layers)\n",
        "\n",
        "    def forward(self, x):\n",
        "        out = F.relu(self.bn1(self.conv1(x)))\n",
        "        out = self.layer1(out)\n",
        "        out = self.layer2(out)\n",
        "        out = self.layer3(out)\n",
        "        out = self.layer4(out)\n",
        "        out = F.avg_pool2d(out, 4)\n",
        "        out = out.view(out.size(0), -1)\n",
        "        out = self.linear(out)\n",
        "        return out"
      ],
      "execution_count": 10,
      "outputs": [
        {
          "output_type": "stream",
          "text": [
            "time: 22.7 ms\n"
          ],
          "name": "stdout"
        }
      ]
    },
    {
      "cell_type": "code",
      "metadata": {
        "id": "VivXxrw08DW7",
        "colab_type": "code",
        "outputId": "3455b39a-cb48-4594-d50a-42875501f604",
        "colab": {
          "base_uri": "https://localhost:8080/",
          "height": 34
        }
      },
      "source": [
        "#RESNET-18\n",
        "model = ResNet(BasicBlock, [2,2,2,2]).to(device)\n",
        "#RESNET-34\n",
        "#model = ResNet(BasicBlock, [3,4,6,3]).to(device)\n",
        "#RESNET-50\n",
        "#model = ResNet(Bottleneck, [3,4,6,3]).to(device)\n",
        "#RESNET-101\n",
        "#model = ResNet(Bottleneck, [3,4,23,3]).to(device)\n",
        "#RESNET-152\n",
        "#model = ResNet(Bottleneck, [3,8,36,3]).to(device)\n"
      ],
      "execution_count": 11,
      "outputs": [
        {
          "output_type": "stream",
          "text": [
            "time: 2.82 s\n"
          ],
          "name": "stdout"
        }
      ]
    },
    {
      "cell_type": "code",
      "metadata": {
        "id": "EiyEBpKI8Dge",
        "colab_type": "code",
        "outputId": "61d20723-7076-40f0-8f3e-79ea469ef205",
        "colab": {
          "base_uri": "https://localhost:8080/",
          "height": 34
        }
      },
      "source": [
        "# Loss and optimizer\n",
        "criterion = nn.CrossEntropyLoss()\n",
        "#optimizer = torch.optim.Adam(model.parameters(), lr=learning_rate)\n",
        "optimizer = torch.optim.Adam(model.parameters(), lr=learning_rate,weight_decay=1e-5)\n",
        "#optimizer = torch.optim.Adam(model.parameters(), lr=learning_rate, momentum=0.9, weight_decay=5e-4)\n",
        "#optimizer = torch.optim.SGD(model.parameters(), lr=learning_rate, momentum=0.9, weight_decay=5e-4)\n",
        "#optimizer = torch.optim.SGD(model.parameters(), lr=learning_rate)\n",
        "\n",
        "# For updating learning rate\n",
        "def update_lr(optimizer, lr):    \n",
        "    for param_group in optimizer.param_groups:\n",
        "        param_group['lr'] = lr"
      ],
      "execution_count": 12,
      "outputs": [
        {
          "output_type": "stream",
          "text": [
            "time: 4.34 ms\n"
          ],
          "name": "stdout"
        }
      ]
    },
    {
      "cell_type": "code",
      "metadata": {
        "id": "dRNxNEUy8DeB",
        "colab_type": "code",
        "outputId": "d3cea1fe-ab80-4372-fcf4-70df9f4b6188",
        "colab": {
          "base_uri": "https://localhost:8080/",
          "height": 1000
        }
      },
      "source": [
        "# Train the model\n",
        "total_step = len(train_loader)\n",
        "curr_lr = learning_rate\n",
        "for epoch in range(num_epochs):\n",
        "\n",
        "    if (epoch+1) % 10 == 0:\n",
        "      if batch_size>2:\n",
        "        batch_size /= 2\n",
        "      else:\n",
        "        batch_size=2\n",
        "    else:\n",
        "      batch_size\n",
        "    \n",
        "    correct = 0\n",
        "    total = 0\n",
        "    for i,(images, labels) in enumerate(train_loader):\n",
        "        images = images.to(device)\n",
        "        labels = labels.to(device)\n",
        "\n",
        "        # Forward pass\n",
        "        outputs = model(images)\n",
        "        loss = criterion(outputs, labels)\n",
        "\n",
        "        # Backward and optimize\n",
        "        optimizer.zero_grad()\n",
        "        loss.backward()\n",
        "        optimizer.step()\n",
        "\n",
        "        _, predicted = torch.max(outputs.data, 1)\n",
        "        total += labels.size(0)\n",
        "        correct += (predicted == labels).sum().item()\n",
        "\n",
        "        #if (i+1) % 100 == 0:\n",
        "          \n",
        "    print (\"Epoch [{}/{}], Train Loss: {:.4f} Train Accuracy: {} %\"\n",
        "                   .format(epoch+1, num_epochs,  loss.item(),round((100 * correct / total),2)))\n",
        "    print(batch_size)\n",
        "    # Decay learning rate\n",
        "    if (epoch+1) % 20 == 0:\n",
        "        curr_lr /= 3\n",
        "        update_lr(optimizer, curr_lr)"
      ],
      "execution_count": 13,
      "outputs": [
        {
          "output_type": "stream",
          "text": [
            "Epoch [1/60], Train Loss: 1.6231 Train Accuracy: 33.32 %\n",
            "256\n",
            "Epoch [2/60], Train Loss: 1.2875 Train Accuracy: 48.18 %\n",
            "256\n",
            "Epoch [3/60], Train Loss: 1.2612 Train Accuracy: 58.73 %\n",
            "256\n",
            "Epoch [4/60], Train Loss: 0.9614 Train Accuracy: 65.67 %\n",
            "256\n",
            "Epoch [5/60], Train Loss: 0.6057 Train Accuracy: 71.23 %\n",
            "256\n",
            "Epoch [6/60], Train Loss: 0.6278 Train Accuracy: 74.83 %\n",
            "256\n",
            "Epoch [7/60], Train Loss: 0.5972 Train Accuracy: 77.32 %\n",
            "256\n",
            "Epoch [8/60], Train Loss: 0.7353 Train Accuracy: 79.49 %\n",
            "256\n",
            "Epoch [9/60], Train Loss: 0.6638 Train Accuracy: 80.64 %\n",
            "256\n",
            "Epoch [10/60], Train Loss: 0.3722 Train Accuracy: 81.9 %\n",
            "128.0\n",
            "Epoch [11/60], Train Loss: 0.5856 Train Accuracy: 82.48 %\n",
            "128.0\n",
            "Epoch [12/60], Train Loss: 0.4232 Train Accuracy: 83.2 %\n",
            "128.0\n",
            "Epoch [13/60], Train Loss: 0.4886 Train Accuracy: 83.63 %\n",
            "128.0\n",
            "Epoch [14/60], Train Loss: 0.4700 Train Accuracy: 84.07 %\n",
            "128.0\n",
            "Epoch [15/60], Train Loss: 0.3701 Train Accuracy: 84.79 %\n",
            "128.0\n",
            "Epoch [16/60], Train Loss: 0.4404 Train Accuracy: 85.27 %\n",
            "128.0\n",
            "Epoch [17/60], Train Loss: 0.3506 Train Accuracy: 85.8 %\n",
            "128.0\n",
            "Epoch [18/60], Train Loss: 0.3844 Train Accuracy: 86.12 %\n",
            "128.0\n",
            "Epoch [19/60], Train Loss: 0.5556 Train Accuracy: 86.41 %\n",
            "128.0\n",
            "Epoch [20/60], Train Loss: 0.3338 Train Accuracy: 86.81 %\n",
            "64.0\n",
            "Epoch [21/60], Train Loss: 0.2649 Train Accuracy: 89.67 %\n",
            "64.0\n",
            "Epoch [22/60], Train Loss: 0.2185 Train Accuracy: 90.66 %\n",
            "64.0\n",
            "Epoch [23/60], Train Loss: 0.2496 Train Accuracy: 90.99 %\n",
            "64.0\n",
            "Epoch [24/60], Train Loss: 0.3188 Train Accuracy: 91.27 %\n",
            "64.0\n",
            "Epoch [25/60], Train Loss: 0.2339 Train Accuracy: 91.41 %\n",
            "64.0\n",
            "Epoch [26/60], Train Loss: 0.5352 Train Accuracy: 91.66 %\n",
            "64.0\n",
            "Epoch [27/60], Train Loss: 0.1734 Train Accuracy: 92.09 %\n",
            "64.0\n",
            "Epoch [28/60], Train Loss: 0.2897 Train Accuracy: 92.14 %\n",
            "64.0\n",
            "Epoch [29/60], Train Loss: 0.1923 Train Accuracy: 92.3 %\n",
            "64.0\n",
            "Epoch [30/60], Train Loss: 0.3162 Train Accuracy: 92.37 %\n",
            "32.0\n",
            "Epoch [31/60], Train Loss: 0.1269 Train Accuracy: 92.66 %\n",
            "32.0\n",
            "Epoch [32/60], Train Loss: 0.2375 Train Accuracy: 92.66 %\n",
            "32.0\n",
            "Epoch [33/60], Train Loss: 0.1870 Train Accuracy: 92.8 %\n",
            "32.0\n",
            "Epoch [34/60], Train Loss: 0.1934 Train Accuracy: 93.11 %\n",
            "32.0\n",
            "Epoch [35/60], Train Loss: 0.2108 Train Accuracy: 93.29 %\n",
            "32.0\n",
            "Epoch [36/60], Train Loss: 0.3536 Train Accuracy: 93.14 %\n",
            "32.0\n",
            "Epoch [37/60], Train Loss: 0.2241 Train Accuracy: 93.4 %\n",
            "32.0\n",
            "Epoch [38/60], Train Loss: 0.0926 Train Accuracy: 93.56 %\n",
            "32.0\n",
            "Epoch [39/60], Train Loss: 0.2959 Train Accuracy: 93.5 %\n",
            "32.0\n",
            "Epoch [40/60], Train Loss: 0.2606 Train Accuracy: 93.64 %\n",
            "16.0\n",
            "Epoch [41/60], Train Loss: 0.2021 Train Accuracy: 95.09 %\n",
            "16.0\n",
            "Epoch [42/60], Train Loss: 0.1133 Train Accuracy: 95.83 %\n",
            "16.0\n",
            "Epoch [43/60], Train Loss: 0.0806 Train Accuracy: 96.12 %\n",
            "16.0\n",
            "Epoch [44/60], Train Loss: 0.1045 Train Accuracy: 96.3 %\n",
            "16.0\n",
            "Epoch [45/60], Train Loss: 0.1668 Train Accuracy: 96.27 %\n",
            "16.0\n",
            "Epoch [46/60], Train Loss: 0.0756 Train Accuracy: 96.48 %\n",
            "16.0\n",
            "Epoch [47/60], Train Loss: 0.1318 Train Accuracy: 96.51 %\n",
            "16.0\n",
            "Epoch [48/60], Train Loss: 0.1051 Train Accuracy: 96.65 %\n",
            "16.0\n",
            "Epoch [49/60], Train Loss: 0.1187 Train Accuracy: 96.58 %\n",
            "16.0\n",
            "Epoch [50/60], Train Loss: 0.1225 Train Accuracy: 96.81 %\n",
            "8.0\n",
            "Epoch [51/60], Train Loss: 0.1058 Train Accuracy: 96.85 %\n",
            "8.0\n",
            "Epoch [52/60], Train Loss: 0.1108 Train Accuracy: 96.97 %\n",
            "8.0\n",
            "Epoch [53/60], Train Loss: 0.0909 Train Accuracy: 97.09 %\n",
            "8.0\n",
            "Epoch [54/60], Train Loss: 0.0943 Train Accuracy: 97.15 %\n",
            "8.0\n",
            "Epoch [55/60], Train Loss: 0.1109 Train Accuracy: 97.19 %\n",
            "8.0\n",
            "Epoch [56/60], Train Loss: 0.0588 Train Accuracy: 97.27 %\n",
            "8.0\n",
            "Epoch [57/60], Train Loss: 0.0810 Train Accuracy: 97.34 %\n",
            "8.0\n",
            "Epoch [58/60], Train Loss: 0.1353 Train Accuracy: 97.39 %\n",
            "8.0\n",
            "Epoch [59/60], Train Loss: 0.0821 Train Accuracy: 97.3 %\n",
            "8.0\n",
            "Epoch [60/60], Train Loss: 0.0933 Train Accuracy: 97.38 %\n",
            "4.0\n",
            "time: 11min 43s\n"
          ],
          "name": "stdout"
        }
      ]
    },
    {
      "cell_type": "code",
      "metadata": {
        "id": "-2-vn6CLxSBq",
        "colab_type": "code",
        "outputId": "4e79280f-1211-422d-deda-229b89a9f416",
        "colab": {
          "base_uri": "https://localhost:8080/",
          "height": 70
        }
      },
      "source": [
        "import matplotlib.pyplot as plt\n",
        "import numpy as np\n",
        "\n",
        "def convert_to_imshow_format(image):\n",
        "    # first convert back to [0,1] range from [-1,1] range\n",
        "    image = image / 2 + 0.5\n",
        "    image = image.numpy()\n",
        "    # convert from CHW to HWC\n",
        "    # from 3x32x32 to 32x32x3\n",
        "    return image.transpose(1,2,0)\n",
        "\n",
        "dataiter = iter(train_loader)\n",
        "images, labels = dataiter.next()\n",
        "\n",
        "fig, axes = plt.subplots(1, len(images), figsize=(12,2.5))\n",
        "for idx, image in enumerate(images):\n",
        "    axes[idx].imshow(convert_to_imshow_format(image))\n",
        "    axes[idx].set_title(classes[labels[idx]])\n",
        "    axes[idx].set_xticks([])\n",
        "    axes[idx].set_yticks([])"
      ],
      "execution_count": 14,
      "outputs": [
        {
          "output_type": "display_data",
          "data": {
            "image/png": "[encoded data removed]",
            "text/plain": [
              "<Figure size 864x180 with 256 Axes>"
            ]
          },
          "metadata": {
            "tags": []
          }
        },
        {
          "output_type": "stream",
          "text": [
            "time: 6.32 s\n"
          ],
          "name": "stdout"
        }
      ]
    },
    {
      "cell_type": "code",
      "metadata": {
        "id": "ytAhp0JWxCuV",
        "colab_type": "code",
        "outputId": "66e5a62e-fe13-419d-e539-af6186d4f4b5",
        "colab": {
          "base_uri": "https://localhost:8080/",
          "height": 70
        }
      },
      "source": [
        "dataiter = iter(test_loader)\n",
        "images, labels = dataiter.next()\n",
        "\n",
        "fig, axes = plt.subplots(1, len(images), figsize=(12,2.5))\n",
        "for idx, image in enumerate(images):\n",
        "    axes[idx].imshow(convert_to_imshow_format(image))\n",
        "    axes[idx].set_title(classes[labels[idx]])\n",
        "    axes[idx].set_xticks([])\n",
        "    axes[idx].set_yticks([])"
      ],
      "execution_count": 15,
      "outputs": [
        {
          "output_type": "display_data",
          "data": {
            "image/png": "[encoded data removed]",
            "text/plain": [
              "<Figure size 864x180 with 256 Axes>"
            ]
          },
          "metadata": {
            "tags": []
          }
        },
        {
          "output_type": "stream",
          "text": [
            "time: 6.28 s\n"
          ],
          "name": "stdout"
        }
      ]
    },
    {
      "cell_type": "code",
      "metadata": {
        "id": "4Bo-eyWBxn9T",
        "colab_type": "code",
        "outputId": "3ba5b5c5-f751-4f91-f086-f42e8df945cf",
        "colab": {
          "base_uri": "https://localhost:8080/",
          "height": 34
        }
      },
      "source": [
        "images = images.to(device)\n",
        "labels = labels.to(device)\n",
        "outputs = model(images)"
      ],
      "execution_count": 16,
      "outputs": [
        {
          "output_type": "stream",
          "text": [
            "time: 10.1 ms\n"
          ],
          "name": "stdout"
        }
      ]
    },
    {
      "cell_type": "code",
      "metadata": {
        "id": "Wv_wo9I6yIMW",
        "colab_type": "code",
        "outputId": "d0e0fd66-698f-4f12-8b5a-70b2cb555489",
        "colab": {
          "base_uri": "https://localhost:8080/",
          "height": 34
        }
      },
      "source": [
        "sm = nn.Softmax(dim=1)\n",
        "sm_outputs = sm(outputs)"
      ],
      "execution_count": 17,
      "outputs": [
        {
          "output_type": "stream",
          "text": [
            "time: 1.52 ms\n"
          ],
          "name": "stdout"
        }
      ]
    },
    {
      "cell_type": "code",
      "metadata": {
        "id": "DfhHhpi2yO9q",
        "colab_type": "code",
        "outputId": "4f966d72-ec4d-42ea-a339-a58f84c9b3a7",
        "colab": {
          "base_uri": "https://localhost:8080/",
          "height": 1000
        }
      },
      "source": [
        "probs, index = torch.max(sm_outputs, dim=1)\n",
        "\n",
        "for p, i in zip(probs, index):\n",
        "    print('{0} - {1:.4f}'.format(classes[i], p))"
      ],
      "execution_count": 18,
      "outputs": [
        {
          "output_type": "stream",
          "text": [
            "cat - 0.7745\n",
            "ship - 1.0000\n",
            "ship - 0.9857\n",
            "plane - 0.9999\n",
            "frog - 0.9996\n",
            "frog - 1.0000\n",
            "car - 0.9955\n",
            "frog - 0.9995\n",
            "cat - 1.0000\n",
            "car - 0.9913\n",
            "plane - 1.0000\n",
            "truck - 1.0000\n",
            "dog - 0.9979\n",
            "horse - 0.9842\n",
            "truck - 1.0000\n",
            "plane - 0.8626\n",
            "dog - 1.0000\n",
            "horse - 1.0000\n",
            "ship - 1.0000\n",
            "frog - 1.0000\n",
            "dog - 0.7566\n",
            "plane - 0.9502\n",
            "deer - 1.0000\n",
            "truck - 1.0000\n",
            "dog - 0.9998\n",
            "cat - 0.5803\n",
            "cat - 0.8356\n",
            "plane - 1.0000\n",
            "truck - 1.0000\n",
            "frog - 1.0000\n",
            "frog - 1.0000\n",
            "dog - 1.0000\n",
            "deer - 0.5778\n",
            "dog - 0.9899\n",
            "truck - 1.0000\n",
            "ship - 0.5143\n",
            "deer - 0.9766\n",
            "car - 0.8484\n",
            "truck - 1.0000\n",
            "dog - 1.0000\n",
            "plane - 0.7744\n",
            "frog - 0.9978\n",
            "dog - 0.9513\n",
            "frog - 1.0000\n",
            "plane - 1.0000\n",
            "truck - 1.0000\n",
            "cat - 1.0000\n",
            "truck - 0.9541\n",
            "horse - 1.0000\n",
            "frog - 0.9953\n",
            "truck - 1.0000\n",
            "ship - 1.0000\n",
            "bird - 0.7377\n",
            "cat - 0.9954\n",
            "ship - 0.9999\n",
            "ship - 1.0000\n",
            "horse - 0.9996\n",
            "horse - 1.0000\n",
            "dog - 0.8480\n",
            "cat - 0.7420\n",
            "horse - 1.0000\n",
            "dog - 0.9965\n",
            "frog - 0.9986\n",
            "dog - 0.9175\n",
            "frog - 0.9057\n",
            "bird - 1.0000\n",
            "car - 0.9999\n",
            "bird - 1.0000\n",
            "cat - 0.6309\n",
            "horse - 0.7183\n",
            "bird - 0.9785\n",
            "frog - 1.0000\n",
            "ship - 1.0000\n",
            "ship - 0.9999\n",
            "plane - 0.9999\n",
            "bird - 1.0000\n",
            "truck - 1.0000\n",
            "cat - 1.0000\n",
            "cat - 0.9612\n",
            "ship - 1.0000\n",
            "ship - 1.0000\n",
            "truck - 0.6991\n",
            "car - 1.0000\n",
            "horse - 1.0000\n",
            "bird - 1.0000\n",
            "dog - 0.7857\n",
            "bird - 0.9867\n",
            "horse - 0.9642\n",
            "ship - 1.0000\n",
            "truck - 1.0000\n",
            "plane - 1.0000\n",
            "cat - 0.9195\n",
            "ship - 1.0000\n",
            "frog - 1.0000\n",
            "deer - 0.9998\n",
            "frog - 0.9287\n",
            "frog - 0.9879\n",
            "plane - 0.9879\n",
            "plane - 1.0000\n",
            "horse - 1.0000\n",
            "deer - 0.9981\n",
            "dog - 0.9784\n",
            "frog - 0.9727\n",
            "cat - 0.9999\n",
            "car - 1.0000\n",
            "car - 1.0000\n",
            "cat - 0.9546\n",
            "frog - 1.0000\n",
            "ship - 1.0000\n",
            "horse - 1.0000\n",
            "deer - 0.9994\n",
            "plane - 0.9998\n",
            "frog - 0.9182\n",
            "bird - 1.0000\n",
            "car - 1.0000\n",
            "cat - 0.9991\n",
            "plane - 0.8775\n",
            "bird - 0.8008\n",
            "bird - 0.5938\n",
            "horse - 0.9972\n",
            "ship - 1.0000\n",
            "cat - 0.9182\n",
            "car - 1.0000\n",
            "bird - 1.0000\n",
            "ship - 0.9999\n",
            "plane - 0.6525\n",
            "ship - 1.0000\n",
            "deer - 0.8161\n",
            "deer - 0.5867\n",
            "bird - 1.0000\n",
            "deer - 1.0000\n",
            "car - 1.0000\n",
            "ship - 1.0000\n",
            "truck - 1.0000\n",
            "car - 0.9976\n",
            "bird - 1.0000\n",
            "truck - 1.0000\n",
            "truck - 0.9993\n",
            "bird - 0.9702\n",
            "truck - 0.9066\n",
            "frog - 0.9998\n",
            "dog - 0.9448\n",
            "frog - 1.0000\n",
            "cat - 0.9859\n",
            "ship - 1.0000\n",
            "horse - 0.4521\n",
            "frog - 1.0000\n",
            "frog - 0.8943\n",
            "dog - 0.8816\n",
            "bird - 1.0000\n",
            "ship - 0.7602\n",
            "truck - 1.0000\n",
            "frog - 0.9841\n",
            "plane - 1.0000\n",
            "plane - 0.9961\n",
            "dog - 0.9753\n",
            "bird - 0.9992\n",
            "truck - 1.0000\n",
            "dog - 0.5943\n",
            "deer - 1.0000\n",
            "bird - 0.7555\n",
            "car - 1.0000\n",
            "frog - 0.9142\n",
            "frog - 1.0000\n",
            "plane - 0.9943\n",
            "deer - 0.9999\n",
            "ship - 0.9788\n",
            "deer - 0.9904\n",
            "dog - 0.9999\n",
            "plane - 0.5402\n",
            "truck - 0.9999\n",
            "plane - 0.9772\n",
            "truck - 1.0000\n",
            "ship - 1.0000\n",
            "truck - 1.0000\n",
            "truck - 1.0000\n",
            "cat - 0.9791\n",
            "horse - 1.0000\n",
            "bird - 0.9010\n",
            "plane - 1.0000\n",
            "plane - 0.9610\n",
            "dog - 1.0000\n",
            "bird - 1.0000\n",
            "bird - 0.9149\n",
            "cat - 0.9935\n",
            "ship - 1.0000\n",
            "frog - 1.0000\n",
            "cat - 1.0000\n",
            "deer - 0.8325\n",
            "plane - 0.9585\n",
            "dog - 1.0000\n",
            "ship - 0.9991\n",
            "plane - 0.8640\n",
            "car - 0.9999\n",
            "horse - 0.9997\n",
            "bird - 0.8822\n",
            "ship - 1.0000\n",
            "ship - 0.9979\n",
            "horse - 0.9031\n",
            "ship - 1.0000\n",
            "dog - 0.8166\n",
            "car - 0.9998\n",
            "ship - 1.0000\n",
            "horse - 0.9069\n",
            "car - 1.0000\n",
            "cat - 0.9999\n",
            "plane - 0.9999\n",
            "dog - 1.0000\n",
            "horse - 1.0000\n",
            "truck - 1.0000\n",
            "horse - 1.0000\n",
            "deer - 0.9017\n",
            "dog - 1.0000\n",
            "truck - 0.8367\n",
            "ship - 0.9957\n",
            "plane - 0.6782\n",
            "horse - 1.0000\n",
            "truck - 0.9994\n",
            "ship - 1.0000\n",
            "bird - 1.0000\n",
            "horse - 0.5853\n",
            "frog - 0.9892\n",
            "truck - 1.0000\n",
            "deer - 0.9928\n",
            "deer - 0.9996\n",
            "truck - 1.0000\n",
            "deer - 0.4564\n",
            "deer - 1.0000\n",
            "dog - 0.9952\n",
            "bird - 0.6564\n",
            "dog - 1.0000\n",
            "car - 1.0000\n",
            "dog - 0.8597\n",
            "ship - 1.0000\n",
            "ship - 1.0000\n",
            "plane - 1.0000\n",
            "deer - 1.0000\n",
            "plane - 0.7073\n",
            "dog - 0.8771\n",
            "dog - 1.0000\n",
            "car - 1.0000\n",
            "car - 1.0000\n",
            "ship - 0.9986\n",
            "truck - 1.0000\n",
            "plane - 1.0000\n",
            "cat - 0.7724\n",
            "car - 1.0000\n",
            "truck - 0.9932\n",
            "plane - 0.6481\n",
            "bird - 0.6809\n",
            "dog - 1.0000\n",
            "cat - 0.9548\n",
            "truck - 1.0000\n",
            "truck - 0.9983\n",
            "deer - 0.9084\n",
            "plane - 0.9999\n",
            "time: 67.8 ms\n"
          ],
          "name": "stdout"
        }
      ]
    },
    {
      "cell_type": "code",
      "metadata": {
        "id": "RiZftaxHyShZ",
        "colab_type": "code",
        "outputId": "9a01d5b4-3a50-466d-eaa4-5fbac51c4dc7",
        "colab": {
          "base_uri": "https://localhost:8080/",
          "height": 51
        }
      },
      "source": [
        "total_correct = 0\n",
        "total_images = 0\n",
        "confusion_matrix = np.zeros([10,10], int)\n",
        "with torch.no_grad():\n",
        "    for data in test_loader:\n",
        "        images, labels = data\n",
        "        images = images.to(device)\n",
        "        labels = labels.to(device)\n",
        "        outputs = model(images)\n",
        "        _, predicted = torch.max(outputs.data, 1)\n",
        "        total_images += labels.size(0)\n",
        "        total_correct += (predicted == labels).sum().item()\n",
        "        for i, l in enumerate(labels):\n",
        "            confusion_matrix[l.item(), predicted[i].item()] += 1 \n",
        "\n",
        "model_accuracy = total_correct / total_images * 100\n",
        "print('Model accuracy on {0} test images: {1:.2f}%'.format(total_images, model_accuracy))"
      ],
      "execution_count": 19,
      "outputs": [
        {
          "output_type": "stream",
          "text": [
            "Model accuracy on 10000 test images: 87.59%\n",
            "time: 1.52 s\n"
          ],
          "name": "stdout"
        }
      ]
    },
    {
      "cell_type": "code",
      "metadata": {
        "id": "6v5gH5D6y0sZ",
        "colab_type": "code",
        "outputId": "73571cea-a149-45bc-9615-ed7b2fcc572b",
        "colab": {
          "base_uri": "https://localhost:8080/",
          "height": 221
        }
      },
      "source": [
        "print('{0:10s} - {1}'.format('Category','Accuracy'))\n",
        "for i, r in enumerate(confusion_matrix):\n",
        "    print('{0:10s} - {1:.1f}'.format(classes[i], r[i]/np.sum(r)*100))"
      ],
      "execution_count": 20,
      "outputs": [
        {
          "output_type": "stream",
          "text": [
            "Category   - Accuracy\n",
            "plane      - 88.2\n",
            "car        - 93.4\n",
            "bird       - 83.6\n",
            "cat        - 75.4\n",
            "deer       - 86.7\n",
            "dog        - 79.8\n",
            "frog       - 90.9\n",
            "horse      - 89.9\n",
            "ship       - 93.1\n",
            "truck      - 94.9\n",
            "time: 2.93 ms\n"
          ],
          "name": "stdout"
        }
      ]
    },
    {
      "cell_type": "code",
      "metadata": {
        "id": "UHszLmdNy5v_",
        "colab_type": "code",
        "outputId": "1028fcfc-e2e3-4d26-cfff-8dab250d3885",
        "colab": {
          "base_uri": "https://localhost:8080/",
          "height": 405
        }
      },
      "source": [
        "fig, ax = plt.subplots(1,1,figsize=(8,6))\n",
        "ax.matshow(confusion_matrix, aspect='auto', vmin=0, vmax=1000, cmap=plt.get_cmap('Blues'))\n",
        "plt.ylabel('Actual Category')\n",
        "plt.yticks(range(10), classes)\n",
        "plt.xlabel('Predicted Category')\n",
        "plt.xticks(range(10), classes)\n",
        "plt.show()"
      ],
      "execution_count": 21,
      "outputs": [
        {
          "output_type": "display_data",
          "data": {
            "image/png": "[encoded data removed]",
            "text/plain": [
              "<Figure size 576x432 with 1 Axes>"
            ]
          },
          "metadata": {
            "tags": []
          }
        },
        {
          "output_type": "stream",
          "text": [
            "time: 125 ms\n"
          ],
          "name": "stdout"
        }
      ]
    },
    {
      "cell_type": "code",
      "metadata": {
        "id": "6GgvDmpGzEfH",
        "colab_type": "code",
        "outputId": "fec32705-7759-4b48-a4dc-d40408e7f9e8",
        "colab": {
          "base_uri": "https://localhost:8080/",
          "height": 391
        }
      },
      "source": [
        "print('actual/pred'.ljust(16), end='')\n",
        "for i,c in enumerate(classes):\n",
        "    print(c.ljust(10), end='')\n",
        "print()\n",
        "for i,r in enumerate(confusion_matrix):\n",
        "    print(classes[i].ljust(16), end='')\n",
        "    for idx, p in enumerate(r):\n",
        "        print(str(p).ljust(10), end='')\n",
        "    print()\n",
        "    \n",
        "    r = r/np.sum(r)\n",
        "    print(''.ljust(16), end='')\n",
        "    for idx, p in enumerate(r):\n",
        "        print(str(p).ljust(10), end='')\n",
        "    print()"
      ],
      "execution_count": 22,
      "outputs": [
        {
          "output_type": "stream",
          "text": [
            "actual/pred     plane     car       bird      cat       deer      dog       frog      horse     ship      truck     \n",
            "plane           882       8         18        17        13        4         3         3         29        23        \n",
            "                0.882     0.008     0.018     0.017     0.013     0.004     0.003     0.003     0.029     0.023     \n",
            "car             3         934       0         4         0         0         1         0         9         49        \n",
            "                0.003     0.934     0.0       0.004     0.0       0.0       0.001     0.0       0.009     0.049     \n",
            "bird            31        0         836       31        30        25        29        10        6         2         \n",
            "                0.031     0.0       0.836     0.031     0.03      0.025     0.029     0.01      0.006     0.002     \n",
            "cat             14        2         44        754       31        89        32        18        7         9         \n",
            "                0.014     0.002     0.044     0.754     0.031     0.089     0.032     0.018     0.007     0.009     \n",
            "deer            5         0         39        27        867       20        18        19        2         3         \n",
            "                0.005     0.0       0.039     0.027     0.867     0.02      0.018     0.019     0.002     0.003     \n",
            "dog             7         0         32        109       17        798       4         28        3         2         \n",
            "                0.007     0.0       0.032     0.109     0.017     0.798     0.004     0.028     0.003     0.002     \n",
            "frog            6         1         27        28        10        10        909       4         2         3         \n",
            "                0.006     0.001     0.027     0.028     0.01      0.01      0.909     0.004     0.002     0.003     \n",
            "horse           11        3         18        24        14        24        0         899       2         5         \n",
            "                0.011     0.003     0.018     0.024     0.014     0.024     0.0       0.899     0.002     0.005     \n",
            "ship            30        8         6         8         2         0         1         0         931       14        \n",
            "                0.03      0.008     0.006     0.008     0.002     0.0       0.001     0.0       0.931     0.014     \n",
            "truck           6         26        2         5         0         1         1         1         9         949       \n",
            "                0.006     0.026     0.002     0.005     0.0       0.001     0.001     0.001     0.009     0.949     \n",
            "time: 40.5 ms\n"
          ],
          "name": "stdout"
        }
      ]
    },
    {
      "cell_type": "code",
      "metadata": {
        "id": "pZ5U1tkZ7ecu",
        "colab_type": "code",
        "outputId": "695afb8d-4fd3-40f8-926f-affc578e15a3",
        "colab": {
          "base_uri": "https://localhost:8080/",
          "height": 34
        }
      },
      "source": [
        "# Save the model checkpoint\n",
        "torch.save(model.state_dict(), 'resnet.ckpt')"
      ],
      "execution_count": 23,
      "outputs": [
        {
          "output_type": "stream",
          "text": [
            "time: 13.1 ms\n"
          ],
          "name": "stdout"
        }
      ]
    },
    {
      "cell_type": "code",
      "metadata": {
        "id": "2x-t3dD2-H5A",
        "colab_type": "code",
        "outputId": "72782638-fbff-4708-944b-f15da0382f46",
        "colab": {
          "base_uri": "https://localhost:8080/",
          "height": 34
        }
      },
      "source": [
        "pytorch_total_params = sum(p.numel() for p in model.parameters())\n",
        "pytorch_total_params"
      ],
      "execution_count": 24,
      "outputs": [
        {
          "output_type": "execute_result",
          "data": {
            "text/plain": [
              "701466"
            ]
          },
          "metadata": {
            "tags": []
          },
          "execution_count": 24
        },
        {
          "output_type": "stream",
          "text": [
            "time: 8.47 ms\n"
          ],
          "name": "stdout"
        }
      ]
    }
  ]
}