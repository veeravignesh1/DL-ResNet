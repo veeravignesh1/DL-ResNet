{
  "nbformat": 4,
  "nbformat_minor": 0,
  "metadata": {
    "colab": {
      "name": "RESNET_18_150_SGD_decay 87.93.ipynb",
      "provenance": [],
      "collapsed_sections": []
    },
    "kernelspec": {
      "name": "python3",
      "display_name": "Python 3"
    },
    "accelerator": "GPU"
  },
  "cells": [
    {
      "cell_type": "code",
      "metadata": {
        "id": "sJZZ9hNj7Ys1",
        "colab_type": "code",
        "outputId": "609ecda9-7b49-4416-f6a9-246cb48bdacd",
        "colab": {
          "base_uri": "https://localhost:8080/",
          "height": 34
        }
      },
      "source": [
        "# ---------------------------------------------------------------------------- #\n",
        "# An implementation of https://arxiv.org/pdf/1512.03385.pdf                    #\n",
        "# See section 4.2 for the model architecture on CIFAR-10                       #\n",
        "# Some part of the code was referenced from below                              #\n",
        "# https://github.com/pytorch/vision/blob/master/torchvision/models/resnet.py   #\n",
        "# ---------------------------------------------------------------------------- #\n",
        "!pip install ipython-autotime\n",
        "%load_ext autotime\n",
        "import matplotlib.pyplot as plt\n",
        "import numpy as np\n",
        "import torch\n",
        "import torch.nn as nn\n",
        "import torch.nn.functional as F\n",
        "import torchvision\n",
        "import torchvision.transforms as transforms\n",
        "\n",
        "\n",
        "# Device configuration\n",
        "device = torch.device('cuda' if torch.cuda.is_available() else 'cpu')\n",
        "\n"
      ],
      "execution_count": 1,
      "outputs": [
        {
          "output_type": "stream",
          "text": [
            "Requirement already satisfied: ipython-autotime in /usr/local/lib/python3.6/dist-packages (0.1)\n"
          ],
          "name": "stdout"
        }
      ]
    },
    {
      "cell_type": "code",
      "metadata": {
        "id": "ixieggsE7eQR",
        "colab_type": "code",
        "outputId": "08d34f00-2f13-44d4-f253-32688b9f2df1",
        "colab": {
          "base_uri": "https://localhost:8080/",
          "height": 34
        }
      },
      "source": [
        "# Hyper-parameters\n",
        "num_epochs = 100\n",
        "learning_rate = 0.01"
      ],
      "execution_count": 2,
      "outputs": [
        {
          "output_type": "stream",
          "text": [
            "time: 1.08 ms\n"
          ],
          "name": "stdout"
        }
      ]
    },
    {
      "cell_type": "code",
      "metadata": {
        "id": "-RJoy91C7eTd",
        "colab_type": "code",
        "outputId": "44fd8549-c070-44c4-e6ac-8fa5236284e6",
        "colab": {
          "base_uri": "https://localhost:8080/",
          "height": 34
        }
      },
      "source": [
        "# Image preprocessing modules\n",
        "transform_train = transforms.Compose([\n",
        "    transforms.RandomCrop(32, padding=4),\n",
        "    transforms.RandomHorizontalFlip(),\n",
        "    transforms.ToTensor(),\n",
        "    transforms.Normalize((0.4914, 0.4822, 0.4465), (0.2023, 0.1994, 0.2010)),\n",
        "])\n",
        "\n",
        "transform_test = transforms.Compose([\n",
        "    transforms.ToTensor(),\n",
        "    transforms.Normalize((0.4914, 0.4822, 0.4465), (0.2023, 0.1994, 0.2010)),\n",
        "])"
      ],
      "execution_count": 3,
      "outputs": [
        {
          "output_type": "stream",
          "text": [
            "time: 9.6 ms\n"
          ],
          "name": "stdout"
        }
      ]
    },
    {
      "cell_type": "code",
      "metadata": {
        "id": "UjCnhcUluLFw",
        "colab_type": "code",
        "colab": {}
      },
      "source": [
        ""
      ],
      "execution_count": 0,
      "outputs": []
    },
    {
      "cell_type": "code",
      "metadata": {
        "id": "AKqgCvcN3G86",
        "colab_type": "code",
        "colab": {}
      },
      "source": [
        "#transform_train = transforms.Compose([\n",
        "#    transforms.RandomCrop(32, padding=4),\n",
        "#    transforms.RandomHorizontalFlip(),\n",
        "#    transforms.ToTensor(),\n",
        "#    transforms.Normalize((0.4914, 0.4822, 0.4465), (0.2023, 0.1994, 0.2010)),\n",
        "#])\n",
        "\n",
        "#transform_test = transforms.Compose([\n",
        "#    transforms.ToTensor(),\n",
        "#    transforms.Normalize((0.4914, 0.4822, 0.4465), (0.2023, 0.1994, 0.2010)),\n",
        "#])\n"
      ],
      "execution_count": 0,
      "outputs": []
    },
    {
      "cell_type": "code",
      "metadata": {
        "id": "4vFQ-c_D7eWp",
        "colab_type": "code",
        "outputId": "067072e8-2324-44bd-9168-2f910f6a0db0",
        "colab": {
          "base_uri": "https://localhost:8080/",
          "height": 51
        }
      },
      "source": [
        "# CIFAR-10 dataset\n",
        "train_dataset = torchvision.datasets.CIFAR10(root='../../data/',\n",
        "                                             train=True, \n",
        "                                             transform=transform_train,\n",
        "                                             download=True)\n",
        "\n",
        "test_dataset = torchvision.datasets.CIFAR10(root='../../data/',\n",
        "                                            train=False, \n",
        "                                            transform=transform_test)"
      ],
      "execution_count": 4,
      "outputs": [
        {
          "output_type": "stream",
          "text": [
            "Files already downloaded and verified\n",
            "time: 1.38 s\n"
          ],
          "name": "stdout"
        }
      ]
    },
    {
      "cell_type": "code",
      "metadata": {
        "id": "78eYeI8H7eZi",
        "colab_type": "code",
        "outputId": "3386c418-b4a6-4184-b0b5-8f9dafb2ba96",
        "colab": {
          "base_uri": "https://localhost:8080/",
          "height": 34
        }
      },
      "source": [
        "# Data loader\n",
        "train_loader = torch.utils.data.DataLoader(train_dataset, batch_size=128, shuffle=True, num_workers=2)\n",
        "\n",
        "test_loader = torch.utils.data.DataLoader(test_dataset, batch_size=100, shuffle=False, num_workers=2)\n",
        "\n",
        "classes = ('plane', 'car', 'bird', 'cat',\n",
        "           'deer', 'dog', 'frog', 'horse', 'ship', 'truck')\n",
        "\n"
      ],
      "execution_count": 5,
      "outputs": [
        {
          "output_type": "stream",
          "text": [
            "time: 4.23 ms\n"
          ],
          "name": "stdout"
        }
      ]
    },
    {
      "cell_type": "code",
      "metadata": {
        "id": "7hW9WNjPii86",
        "colab_type": "code",
        "outputId": "c87908ea-cc6f-4c74-9b9c-a19cf3cb9670",
        "colab": {
          "base_uri": "https://localhost:8080/",
          "height": 320
        }
      },
      "source": [
        "# functions to show an image\n",
        "\n",
        "\n",
        "def imshow(img):\n",
        "    img = img / 2 + 0.5     # unnormalize\n",
        "    npimg = img.numpy()\n",
        "    plt.imshow(np.transpose(npimg, (1, 2, 0)))\n",
        "    plt.show()\n",
        "\n",
        "\n",
        "# get some random training images\n",
        "dataiter = iter(train_loader)\n",
        "images, labels = dataiter.next()\n",
        "\n",
        "# show images\n",
        "imshow(torchvision.utils.make_grid(images))\n",
        "# print labels\n",
        "print(' '.join('%5s' % classes[labels[j]] for j in range(4)))"
      ],
      "execution_count": 6,
      "outputs": [
        {
          "output_type": "stream",
          "text": [
            "Clipping input data to the valid range for imshow with RGB data ([0..1] for floats or [0..255] for integers).\n"
          ],
          "name": "stderr"
        },
        {
          "output_type": "display_data",
          "data": {
            "image/png": "[encoded data removed]",
            "text/plain": [
              "<Figure size 432x288 with 1 Axes>"
            ]
          },
          "metadata": {
            "tags": []
          }
        },
        {
          "output_type": "stream",
          "text": [
            "horse   car plane  bird\n",
            "time: 337 ms\n"
          ],
          "name": "stdout"
        }
      ]
    },
    {
      "cell_type": "code",
      "metadata": {
        "id": "-YJAT2jCimio",
        "colab_type": "code",
        "outputId": "c5b5f62b-f5eb-440e-a099-ccc3d4544379",
        "colab": {
          "base_uri": "https://localhost:8080/",
          "height": 34
        }
      },
      "source": [
        "# 3x3 convolution\n",
        "def conv3x3(in_channels, out_channels, stride=1):\n",
        "    return nn.Conv2d(in_channels, out_channels, kernel_size=3, \n",
        "                     stride=stride, padding=1, bias=False)"
      ],
      "execution_count": 7,
      "outputs": [
        {
          "output_type": "stream",
          "text": [
            "time: 1.91 ms\n"
          ],
          "name": "stdout"
        }
      ]
    },
    {
      "cell_type": "code",
      "metadata": {
        "id": "xd6Th-OF7emh",
        "colab_type": "code",
        "outputId": "a8e96d83-2e66-4498-8565-82624a6b2cbd",
        "colab": {
          "base_uri": "https://localhost:8080/",
          "height": 34
        }
      },
      "source": [
        "class BasicBlock(nn.Module):\n",
        "    expansion = 1\n",
        "\n",
        "    def __init__(self, in_planes, planes, stride=1):\n",
        "        super(BasicBlock, self).__init__()\n",
        "        #dropout=0.25\n",
        "        #dropout = 0 if dropout is None else dropout\n",
        "        self.conv1 = nn.Conv2d(in_planes, planes, kernel_size=3, stride=stride, padding=1, bias=False)\n",
        "        self.bn1 = nn.BatchNorm2d(planes)\n",
        "        self.conv2 = nn.Conv2d(planes, planes, kernel_size=3, stride=1, padding=1, bias=False)\n",
        "        self.bn2 = nn.BatchNorm2d(planes)\n",
        "        #self.dropout = nn.Dropout(dropout)\n",
        "\n",
        "        self.shortcut = nn.Sequential()\n",
        "        if stride != 1 or in_planes != self.expansion*planes:\n",
        "            self.shortcut = nn.Sequential(\n",
        "                nn.Conv2d(in_planes, self.expansion*planes, kernel_size=1, stride=stride, bias=False),\n",
        "                nn.BatchNorm2d(self.expansion*planes)\n",
        "            )\n",
        "\n",
        "    def forward(self, x):\n",
        "        out = F.relu(self.bn1(self.conv1(x)))\n",
        "        out = self.bn2(self.conv2(out))\n",
        "        #out = self.dropout(out)\n",
        "        out += self.shortcut(x)\n",
        "        out = F.relu(out)\n",
        "        \n",
        "        return out"
      ],
      "execution_count": 8,
      "outputs": [
        {
          "output_type": "stream",
          "text": [
            "time: 19 ms\n"
          ],
          "name": "stdout"
        }
      ]
    },
    {
      "cell_type": "code",
      "metadata": {
        "id": "J0_toKu87e3j",
        "colab_type": "code",
        "outputId": "ec942876-944a-467a-adff-8d893aa9f7c0",
        "colab": {
          "base_uri": "https://localhost:8080/",
          "height": 34
        }
      },
      "source": [
        "class Bottleneck(nn.Module):\n",
        "    expansion = 4\n",
        "\n",
        "    def __init__(self, in_planes, planes, stride=1):\n",
        "        super(Bottleneck, self).__init__()\n",
        "        dropout=0.30\n",
        "        self.conv1 = nn.Conv2d(in_planes, planes, kernel_size=1, bias=False)\n",
        "        self.bn1 = nn.BatchNorm2d(planes)\n",
        "        self.conv2 = nn.Conv2d(planes, planes, kernel_size=3, stride=stride, padding=1, bias=False)\n",
        "        self.bn2 = nn.BatchNorm2d(planes)\n",
        "        self.conv3 = nn.Conv2d(planes, self.expansion*planes, kernel_size=1, bias=False)\n",
        "        self.bn3 = nn.BatchNorm2d(self.expansion*planes)\n",
        "        self.dropout = nn.Dropout(dropout)\n",
        "\n",
        "        self.shortcut = nn.Sequential()\n",
        "        if stride != 1 or in_planes != self.expansion*planes:\n",
        "            self.shortcut = nn.Sequential(\n",
        "                nn.Conv2d(in_planes, self.expansion*planes, kernel_size=1, stride=stride, bias=False),\n",
        "                nn.BatchNorm2d(self.expansion*planes)\n",
        "            )\n",
        "\n",
        "    def forward(self, x):\n",
        "        out = F.relu(self.bn1(self.conv1(x)))\n",
        "        out = F.relu(self.bn2(self.conv2(out)))\n",
        "        out = self.bn3(self.conv3(out))\n",
        "        out = self.dropout(out)\n",
        "        out += self.shortcut(x)\n",
        "        out = F.relu(out)\n",
        "        return out"
      ],
      "execution_count": 9,
      "outputs": [
        {
          "output_type": "stream",
          "text": [
            "time: 21.4 ms\n"
          ],
          "name": "stdout"
        }
      ]
    },
    {
      "cell_type": "code",
      "metadata": {
        "id": "HpFNWO6-7ejB",
        "colab_type": "code",
        "outputId": "f9a29b59-1cc6-41aa-cb2d-db662be03ece",
        "colab": {
          "base_uri": "https://localhost:8080/",
          "height": 34
        }
      },
      "source": [
        "class ResNet(nn.Module):\n",
        "    def __init__(self, block, num_blocks, num_classes=10):\n",
        "        super(ResNet, self).__init__()\n",
        "        self.in_planes = 16\n",
        "\n",
        "        self.conv1 = nn.Conv2d(3, 16, kernel_size=3, stride=1, padding=1, bias=False)\n",
        "        self.bn1 = nn.BatchNorm2d(16)\n",
        "        self.layer1 = self._make_layer(block, 16, num_blocks[0], stride=1)\n",
        "        self.layer2 = self._make_layer(block, 32, num_blocks[1], stride=2)\n",
        "        self.layer3 = self._make_layer(block, 64, num_blocks[2], stride=2)\n",
        "        self.layer4 = self._make_layer(block, 128, num_blocks[3], stride=2)\n",
        "        self.linear = nn.Linear(128*block.expansion, num_classes)\n",
        "\n",
        "    def _make_layer(self, block, planes, num_blocks, stride):\n",
        "        strides = [stride] + [1]*(num_blocks-1)\n",
        "        layers = []\n",
        "        for stride in strides:\n",
        "            layers.append(block(self.in_planes, planes, stride))\n",
        "            self.in_planes = planes * block.expansion\n",
        "        return nn.Sequential(*layers)\n",
        "\n",
        "    def forward(self, x):\n",
        "        out = F.relu(self.bn1(self.conv1(x)))\n",
        "        out = self.layer1(out)\n",
        "        out = self.layer2(out)\n",
        "        out = self.layer3(out)\n",
        "        out = self.layer4(out)\n",
        "        out = F.avg_pool2d(out, 4)\n",
        "        out = out.view(out.size(0), -1)\n",
        "        out = self.linear(out)\n",
        "        return out"
      ],
      "execution_count": 10,
      "outputs": [
        {
          "output_type": "stream",
          "text": [
            "time: 24.2 ms\n"
          ],
          "name": "stdout"
        }
      ]
    },
    {
      "cell_type": "code",
      "metadata": {
        "id": "VivXxrw08DW7",
        "colab_type": "code",
        "outputId": "d6d4dd47-8a9d-4c80-c1a4-4e397c38e1a9",
        "colab": {
          "base_uri": "https://localhost:8080/",
          "height": 34
        }
      },
      "source": [
        "#RESNET-18\n",
        "model = ResNet(BasicBlock, [2,2,2,2]).to(device)\n",
        "#RESNET-34\n",
        "#model = ResNet(BasicBlock, [3,4,6,3]).to(device)\n",
        "#RESNET-50\n",
        "#model = ResNet(Bottleneck, [3,4,6,3]).to(device)\n",
        "#RESNET-101\n",
        "#model = ResNet(Bottleneck, [3,4,23,3]).to(device)\n",
        "#RESNET-152\n",
        "#model = ResNet(Bottleneck, [3,8,36,3]).to(device)\n"
      ],
      "execution_count": 11,
      "outputs": [
        {
          "output_type": "stream",
          "text": [
            "time: 2.99 s\n"
          ],
          "name": "stdout"
        }
      ]
    },
    {
      "cell_type": "code",
      "metadata": {
        "id": "EiyEBpKI8Dge",
        "colab_type": "code",
        "outputId": "3ee34318-0fba-49bd-a6f0-d68fbbda73df",
        "colab": {
          "base_uri": "https://localhost:8080/",
          "height": 34
        }
      },
      "source": [
        "# Loss and optimizer\n",
        "criterion = nn.CrossEntropyLoss()\n",
        "#optimizer = torch.optim.Adam(model.parameters(), lr=learning_rate)\n",
        "#optimizer = torch.optim.Adam(model.parameters(), lr=learning_rate,weight_decay=1e-5)\n",
        "#optimizer = torch.optim.Adam(model.parameters(), lr=learning_rate, momentum=0.9, weight_decay=5e-4)\n",
        "optimizer = torch.optim.SGD(model.parameters(), lr=learning_rate, momentum=0.9, weight_decay=5e-4, nesterov= True)\n",
        "#optimizer = torch.optim.SGD(model.parameters(), lr=learning_rate)\n",
        "\n",
        "# For updating learning rate\n",
        "def update_lr(optimizer, lr):    \n",
        "    for param_group in optimizer.param_groups:\n",
        "        param_group['lr'] = lr"
      ],
      "execution_count": 12,
      "outputs": [
        {
          "output_type": "stream",
          "text": [
            "time: 5.17 ms\n"
          ],
          "name": "stdout"
        }
      ]
    },
    {
      "cell_type": "code",
      "metadata": {
        "id": "dRNxNEUy8DeB",
        "colab_type": "code",
        "outputId": "13ec699f-a92a-41b8-a69e-e16116230778",
        "colab": {
          "base_uri": "https://localhost:8080/",
          "height": 1000
        }
      },
      "source": [
        "# Train the model\n",
        "total_step = len(train_loader)\n",
        "curr_lr = learning_rate\n",
        "for epoch in range(num_epochs):\n",
        "    correct = 0\n",
        "    total = 0\n",
        "    for i,(images, labels) in enumerate(train_loader):\n",
        "        images = images.to(device)\n",
        "        labels = labels.to(device)\n",
        "\n",
        "        # Forward pass\n",
        "        outputs = model(images)\n",
        "        loss = criterion(outputs, labels)\n",
        "\n",
        "        # Backward and optimize\n",
        "        optimizer.zero_grad()\n",
        "        loss.backward()\n",
        "        optimizer.step()\n",
        "\n",
        "        _, predicted = torch.max(outputs.data, 1)\n",
        "        total += labels.size(0)\n",
        "        correct += (predicted == labels).sum().item()\n",
        "\n",
        "        #if (i+1) % 100 == 0:\n",
        "          \n",
        "    print (\"Epoch [{}/{}], Train Loss: {:.4f} Train Accuracy: {} %\"\n",
        "                   .format(epoch+1, num_epochs,  loss.item(),round((100 * correct / total),2)))\n",
        "\n",
        "    # Decay learning rate\n",
        "    if (epoch+1) % 20 == 0:\n",
        "        curr_lr /= 3\n",
        "        update_lr(optimizer, curr_lr)"
      ],
      "execution_count": 13,
      "outputs": [
        {
          "output_type": "stream",
          "text": [
            "Epoch [1/150], Train Loss: 1.3671 Train Accuracy: 42.45 %\n",
            "Epoch [2/150], Train Loss: 1.0462 Train Accuracy: 60.13 %\n",
            "Epoch [3/150], Train Loss: 0.8806 Train Accuracy: 68.7 %\n",
            "Epoch [4/150], Train Loss: 0.8672 Train Accuracy: 73.17 %\n",
            "Epoch [5/150], Train Loss: 0.7222 Train Accuracy: 75.84 %\n",
            "Epoch [6/150], Train Loss: 0.5746 Train Accuracy: 78.0 %\n",
            "Epoch [7/150], Train Loss: 0.3856 Train Accuracy: 79.78 %\n",
            "Epoch [8/150], Train Loss: 0.5271 Train Accuracy: 80.63 %\n",
            "Epoch [9/150], Train Loss: 0.3592 Train Accuracy: 81.82 %\n",
            "Epoch [10/150], Train Loss: 0.5076 Train Accuracy: 82.71 %\n",
            "Epoch [11/150], Train Loss: 0.5340 Train Accuracy: 83.73 %\n",
            "Epoch [12/150], Train Loss: 0.6935 Train Accuracy: 84.44 %\n",
            "Epoch [13/150], Train Loss: 0.4426 Train Accuracy: 85.0 %\n",
            "Epoch [14/150], Train Loss: 0.2453 Train Accuracy: 85.38 %\n",
            "Epoch [15/150], Train Loss: 0.3014 Train Accuracy: 85.82 %\n",
            "Epoch [16/150], Train Loss: 0.3413 Train Accuracy: 86.56 %\n",
            "Epoch [17/150], Train Loss: 0.5127 Train Accuracy: 86.92 %\n",
            "Epoch [18/150], Train Loss: 0.4099 Train Accuracy: 87.5 %\n",
            "Epoch [19/150], Train Loss: 0.3045 Train Accuracy: 87.79 %\n",
            "Epoch [20/150], Train Loss: 0.4978 Train Accuracy: 87.97 %\n",
            "Epoch [21/150], Train Loss: 0.2406 Train Accuracy: 90.62 %\n",
            "Epoch [22/150], Train Loss: 0.2738 Train Accuracy: 91.23 %\n",
            "Epoch [23/150], Train Loss: 0.3109 Train Accuracy: 91.48 %\n",
            "Epoch [24/150], Train Loss: 0.4649 Train Accuracy: 91.76 %\n",
            "Epoch [25/150], Train Loss: 0.1434 Train Accuracy: 91.91 %\n",
            "Epoch [26/150], Train Loss: 0.2333 Train Accuracy: 92.13 %\n",
            "Epoch [27/150], Train Loss: 0.2366 Train Accuracy: 92.16 %\n",
            "Epoch [28/150], Train Loss: 0.1472 Train Accuracy: 92.54 %\n",
            "Epoch [29/150], Train Loss: 0.1223 Train Accuracy: 92.48 %\n",
            "Epoch [30/150], Train Loss: 0.1544 Train Accuracy: 92.7 %\n",
            "Epoch [31/150], Train Loss: 0.1793 Train Accuracy: 92.61 %\n",
            "Epoch [32/150], Train Loss: 0.1333 Train Accuracy: 92.85 %\n",
            "Epoch [33/150], Train Loss: 0.2481 Train Accuracy: 93.08 %\n",
            "Epoch [34/150], Train Loss: 0.1907 Train Accuracy: 93.19 %\n",
            "Epoch [35/150], Train Loss: 0.2238 Train Accuracy: 93.29 %\n",
            "Epoch [36/150], Train Loss: 0.2449 Train Accuracy: 93.36 %\n",
            "Epoch [37/150], Train Loss: 0.1744 Train Accuracy: 93.62 %\n",
            "Epoch [38/150], Train Loss: 0.2385 Train Accuracy: 93.32 %\n",
            "Epoch [39/150], Train Loss: 0.1069 Train Accuracy: 93.64 %\n",
            "Epoch [40/150], Train Loss: 0.1615 Train Accuracy: 93.74 %\n",
            "Epoch [41/150], Train Loss: 0.1791 Train Accuracy: 94.96 %\n",
            "Epoch [42/150], Train Loss: 0.2043 Train Accuracy: 95.37 %\n",
            "Epoch [43/150], Train Loss: 0.0819 Train Accuracy: 95.51 %\n",
            "Epoch [44/150], Train Loss: 0.0704 Train Accuracy: 95.68 %\n",
            "Epoch [45/150], Train Loss: 0.2293 Train Accuracy: 95.76 %\n",
            "Epoch [46/150], Train Loss: 0.0745 Train Accuracy: 95.89 %\n",
            "Epoch [47/150], Train Loss: 0.1772 Train Accuracy: 96.11 %\n",
            "Epoch [48/150], Train Loss: 0.0420 Train Accuracy: 96.02 %\n",
            "Epoch [49/150], Train Loss: 0.1065 Train Accuracy: 96.11 %\n",
            "Epoch [50/150], Train Loss: 0.1032 Train Accuracy: 96.08 %\n",
            "Epoch [51/150], Train Loss: 0.1955 Train Accuracy: 96.12 %\n",
            "Epoch [52/150], Train Loss: 0.1287 Train Accuracy: 96.29 %\n",
            "Epoch [53/150], Train Loss: 0.1182 Train Accuracy: 96.38 %\n",
            "Epoch [54/150], Train Loss: 0.0766 Train Accuracy: 96.24 %\n",
            "Epoch [55/150], Train Loss: 0.0917 Train Accuracy: 96.43 %\n",
            "Epoch [56/150], Train Loss: 0.1078 Train Accuracy: 96.43 %\n",
            "Epoch [57/150], Train Loss: 0.0805 Train Accuracy: 96.43 %\n",
            "Epoch [58/150], Train Loss: 0.1262 Train Accuracy: 96.55 %\n",
            "Epoch [59/150], Train Loss: 0.1681 Train Accuracy: 96.55 %\n",
            "Epoch [60/150], Train Loss: 0.1012 Train Accuracy: 96.69 %\n",
            "Epoch [61/150], Train Loss: 0.0799 Train Accuracy: 97.16 %\n",
            "Epoch [62/150], Train Loss: 0.0465 Train Accuracy: 97.18 %\n",
            "Epoch [63/150], Train Loss: 0.1209 Train Accuracy: 97.3 %\n",
            "Epoch [64/150], Train Loss: 0.0704 Train Accuracy: 97.31 %\n",
            "Epoch [65/150], Train Loss: 0.1668 Train Accuracy: 97.43 %\n",
            "Epoch [66/150], Train Loss: 0.0625 Train Accuracy: 97.42 %\n",
            "Epoch [67/150], Train Loss: 0.0654 Train Accuracy: 97.33 %\n",
            "Epoch [68/150], Train Loss: 0.0449 Train Accuracy: 97.47 %\n",
            "Epoch [69/150], Train Loss: 0.0663 Train Accuracy: 97.53 %\n",
            "Epoch [70/150], Train Loss: 0.0781 Train Accuracy: 97.6 %\n",
            "Epoch [71/150], Train Loss: 0.1078 Train Accuracy: 97.57 %\n",
            "Epoch [72/150], Train Loss: 0.0481 Train Accuracy: 97.6 %\n",
            "Epoch [73/150], Train Loss: 0.2003 Train Accuracy: 97.71 %\n",
            "Epoch [74/150], Train Loss: 0.0427 Train Accuracy: 97.65 %\n",
            "Epoch [75/150], Train Loss: 0.0977 Train Accuracy: 97.68 %\n",
            "Epoch [76/150], Train Loss: 0.1520 Train Accuracy: 97.52 %\n",
            "Epoch [77/150], Train Loss: 0.0603 Train Accuracy: 97.66 %\n",
            "Epoch [78/150], Train Loss: 0.0648 Train Accuracy: 97.75 %\n",
            "Epoch [79/150], Train Loss: 0.0616 Train Accuracy: 97.8 %\n",
            "Epoch [80/150], Train Loss: 0.0419 Train Accuracy: 97.76 %\n",
            "Epoch [81/150], Train Loss: 0.1069 Train Accuracy: 97.84 %\n",
            "Epoch [82/150], Train Loss: 0.0382 Train Accuracy: 97.91 %\n",
            "Epoch [83/150], Train Loss: 0.0414 Train Accuracy: 97.87 %\n",
            "Epoch [84/150], Train Loss: 0.0339 Train Accuracy: 98.1 %\n",
            "Epoch [85/150], Train Loss: 0.0622 Train Accuracy: 97.94 %\n",
            "Epoch [86/150], Train Loss: 0.0588 Train Accuracy: 98.07 %\n",
            "Epoch [87/150], Train Loss: 0.1041 Train Accuracy: 97.99 %\n",
            "Epoch [88/150], Train Loss: 0.0664 Train Accuracy: 97.91 %\n",
            "Epoch [89/150], Train Loss: 0.0813 Train Accuracy: 97.98 %\n",
            "Epoch [90/150], Train Loss: 0.0409 Train Accuracy: 98.01 %\n",
            "Epoch [91/150], Train Loss: 0.1056 Train Accuracy: 98.04 %\n",
            "Epoch [92/150], Train Loss: 0.0810 Train Accuracy: 97.93 %\n",
            "Epoch [93/150], Train Loss: 0.0467 Train Accuracy: 98.01 %\n",
            "Epoch [94/150], Train Loss: 0.0349 Train Accuracy: 98.04 %\n",
            "Epoch [95/150], Train Loss: 0.0976 Train Accuracy: 98.02 %\n",
            "Epoch [96/150], Train Loss: 0.0847 Train Accuracy: 98.01 %\n",
            "Epoch [97/150], Train Loss: 0.0918 Train Accuracy: 97.98 %\n",
            "Epoch [98/150], Train Loss: 0.0710 Train Accuracy: 98.08 %\n",
            "Epoch [99/150], Train Loss: 0.0864 Train Accuracy: 98.05 %\n",
            "Epoch [100/150], Train Loss: 0.0825 Train Accuracy: 98.1 %\n",
            "Epoch [101/150], Train Loss: 0.0364 Train Accuracy: 98.1 %\n",
            "Epoch [102/150], Train Loss: 0.1353 Train Accuracy: 98.08 %\n",
            "Epoch [103/150], Train Loss: 0.0671 Train Accuracy: 98.19 %\n",
            "Epoch [104/150], Train Loss: 0.0270 Train Accuracy: 98.15 %\n",
            "Epoch [105/150], Train Loss: 0.0631 Train Accuracy: 98.17 %\n",
            "Epoch [106/150], Train Loss: 0.0658 Train Accuracy: 98.19 %\n",
            "Epoch [107/150], Train Loss: 0.0353 Train Accuracy: 98.15 %\n",
            "Epoch [108/150], Train Loss: 0.0477 Train Accuracy: 98.13 %\n",
            "Epoch [109/150], Train Loss: 0.0692 Train Accuracy: 98.2 %\n",
            "Epoch [110/150], Train Loss: 0.0507 Train Accuracy: 98.15 %\n",
            "Epoch [111/150], Train Loss: 0.0296 Train Accuracy: 98.15 %\n",
            "Epoch [112/150], Train Loss: 0.1465 Train Accuracy: 98.19 %\n",
            "Epoch [113/150], Train Loss: 0.0587 Train Accuracy: 98.26 %\n",
            "Epoch [114/150], Train Loss: 0.0778 Train Accuracy: 98.18 %\n",
            "Epoch [115/150], Train Loss: 0.0234 Train Accuracy: 98.24 %\n",
            "Epoch [116/150], Train Loss: 0.0568 Train Accuracy: 98.23 %\n",
            "Epoch [117/150], Train Loss: 0.1059 Train Accuracy: 98.18 %\n",
            "Epoch [118/150], Train Loss: 0.0639 Train Accuracy: 98.18 %\n",
            "Epoch [119/150], Train Loss: 0.0431 Train Accuracy: 98.17 %\n",
            "Epoch [120/150], Train Loss: 0.0710 Train Accuracy: 98.21 %\n",
            "Epoch [121/150], Train Loss: 0.0544 Train Accuracy: 98.27 %\n",
            "Epoch [122/150], Train Loss: 0.1062 Train Accuracy: 98.33 %\n",
            "Epoch [123/150], Train Loss: 0.0881 Train Accuracy: 98.22 %\n",
            "Epoch [124/150], Train Loss: 0.0651 Train Accuracy: 98.26 %\n",
            "Epoch [125/150], Train Loss: 0.0559 Train Accuracy: 98.23 %\n",
            "Epoch [126/150], Train Loss: 0.0559 Train Accuracy: 98.21 %\n",
            "Epoch [127/150], Train Loss: 0.0297 Train Accuracy: 98.29 %\n",
            "Epoch [128/150], Train Loss: 0.0980 Train Accuracy: 98.18 %\n",
            "Epoch [129/150], Train Loss: 0.0899 Train Accuracy: 98.28 %\n",
            "Epoch [130/150], Train Loss: 0.0647 Train Accuracy: 98.13 %\n",
            "Epoch [131/150], Train Loss: 0.0523 Train Accuracy: 98.27 %\n",
            "Epoch [132/150], Train Loss: 0.0517 Train Accuracy: 98.24 %\n",
            "Epoch [133/150], Train Loss: 0.1565 Train Accuracy: 98.26 %\n",
            "Epoch [134/150], Train Loss: 0.0477 Train Accuracy: 98.28 %\n",
            "Epoch [135/150], Train Loss: 0.0809 Train Accuracy: 98.25 %\n",
            "Epoch [136/150], Train Loss: 0.0852 Train Accuracy: 98.33 %\n",
            "Epoch [137/150], Train Loss: 0.0376 Train Accuracy: 98.25 %\n",
            "Epoch [138/150], Train Loss: 0.0474 Train Accuracy: 98.31 %\n",
            "Epoch [139/150], Train Loss: 0.0660 Train Accuracy: 98.19 %\n",
            "Epoch [140/150], Train Loss: 0.0572 Train Accuracy: 98.28 %\n",
            "Epoch [141/150], Train Loss: 0.0649 Train Accuracy: 98.21 %\n",
            "Epoch [142/150], Train Loss: 0.0311 Train Accuracy: 98.2 %\n",
            "Epoch [143/150], Train Loss: 0.1134 Train Accuracy: 98.22 %\n",
            "Epoch [144/150], Train Loss: 0.0240 Train Accuracy: 98.33 %\n",
            "Epoch [145/150], Train Loss: 0.0321 Train Accuracy: 98.42 %\n",
            "Epoch [146/150], Train Loss: 0.0252 Train Accuracy: 98.32 %\n",
            "Epoch [147/150], Train Loss: 0.0629 Train Accuracy: 98.22 %\n",
            "Epoch [148/150], Train Loss: 0.0678 Train Accuracy: 98.33 %\n",
            "Epoch [149/150], Train Loss: 0.0506 Train Accuracy: 98.2 %\n",
            "Epoch [150/150], Train Loss: 0.0821 Train Accuracy: 98.24 %\n",
            "time: 34min 41s\n"
          ],
          "name": "stdout"
        }
      ]
    },
    {
      "cell_type": "code",
      "metadata": {
        "id": "-2-vn6CLxSBq",
        "colab_type": "code",
        "outputId": "d7c1f26a-66cf-4d01-eabb-94ab4a708d72",
        "colab": {
          "base_uri": "https://localhost:8080/",
          "height": 1000
        }
      },
      "source": [
        "import matplotlib.pyplot as plt\n",
        "import numpy as np\n",
        "\n",
        "def convert_to_imshow_format(image):\n",
        "    # first convert back to [0,1] range from [-1,1] range\n",
        "    image = image / 2 + 0.5\n",
        "    image = image.numpy()\n",
        "    # convert from CHW to HWC\n",
        "    # from 3x32x32 to 32x32x3\n",
        "    return image.transpose(1,2,0)\n",
        "\n",
        "dataiter = iter(train_loader)\n",
        "images, labels = dataiter.next()\n",
        "\n",
        "fig, axes = plt.subplots(1, len(images), figsize=(12,2.5))\n",
        "for idx, image in enumerate(images):\n",
        "    axes[idx].imshow(convert_to_imshow_format(image))\n",
        "    axes[idx].set_title(classes[labels[idx]])\n",
        "    axes[idx].set_xticks([])\n",
        "    axes[idx].set_yticks([])"
      ],
      "execution_count": 14,
      "outputs": [
        {
          "output_type": "stream",
          "text": [
            "Clipping input data to the valid range for imshow with RGB data ([0..1] for floats or [0..255] for integers).\n",
            "Clipping input data to the valid range for imshow with RGB data ([0..1] for floats or [0..255] for integers).\n",
            "Clipping input data to the valid range for imshow with RGB data ([0..1] for floats or [0..255] for integers).\n",
            "Clipping input data to the valid range for imshow with RGB data ([0..1] for floats or [0..255] for integers).\n",
            "Clipping input data to the valid range for imshow with RGB data ([0..1] for floats or [0..255] for integers).\n",
            "Clipping input data to the valid range for imshow with RGB data ([0..1] for floats or [0..255] for integers).\n",
            "Clipping input data to the valid range for imshow with RGB data ([0..1] for floats or [0..255] for integers).\n",
            "Clipping input data to the valid range for imshow with RGB data ([0..1] for floats or [0..255] for integers).\n",
            "Clipping input data to the valid range for imshow with RGB data ([0..1] for floats or [0..255] for integers).\n",
            "Clipping input data to the valid range for imshow with RGB data ([0..1] for floats or [0..255] for integers).\n",
            "Clipping input data to the valid range for imshow with RGB data ([0..1] for floats or [0..255] for integers).\n",
            "Clipping input data to the valid range for imshow with RGB data ([0..1] for floats or [0..255] for integers).\n",
            "Clipping input data to the valid range for imshow with RGB data ([0..1] for floats or [0..255] for integers).\n",
            "Clipping input data to the valid range for imshow with RGB data ([0..1] for floats or [0..255] for integers).\n",
            "Clipping input data to the valid range for imshow with RGB data ([0..1] for floats or [0..255] for integers).\n",
            "Clipping input data to the valid range for imshow with RGB data ([0..1] for floats or [0..255] for integers).\n",
            "Clipping input data to the valid range for imshow with RGB data ([0..1] for floats or [0..255] for integers).\n",
            "Clipping input data to the valid range for imshow with RGB data ([0..1] for floats or [0..255] for integers).\n",
            "Clipping input data to the valid range for imshow with RGB data ([0..1] for floats or [0..255] for integers).\n",
            "Clipping input data to the valid range for imshow with RGB data ([0..1] for floats or [0..255] for integers).\n",
            "Clipping input data to the valid range for imshow with RGB data ([0..1] for floats or [0..255] for integers).\n",
            "Clipping input data to the valid range for imshow with RGB data ([0..1] for floats or [0..255] for integers).\n",
            "Clipping input data to the valid range for imshow with RGB data ([0..1] for floats or [0..255] for integers).\n",
            "Clipping input data to the valid range for imshow with RGB data ([0..1] for floats or [0..255] for integers).\n",
            "Clipping input data to the valid range for imshow with RGB data ([0..1] for floats or [0..255] for integers).\n",
            "Clipping input data to the valid range for imshow with RGB data ([0..1] for floats or [0..255] for integers).\n",
            "Clipping input data to the valid range for imshow with RGB data ([0..1] for floats or [0..255] for integers).\n",
            "Clipping input data to the valid range for imshow with RGB data ([0..1] for floats or [0..255] for integers).\n",
            "Clipping input data to the valid range for imshow with RGB data ([0..1] for floats or [0..255] for integers).\n",
            "Clipping input data to the valid range for imshow with RGB data ([0..1] for floats or [0..255] for integers).\n",
            "Clipping input data to the valid range for imshow with RGB data ([0..1] for floats or [0..255] for integers).\n",
            "Clipping input data to the valid range for imshow with RGB data ([0..1] for floats or [0..255] for integers).\n",
            "Clipping input data to the valid range for imshow with RGB data ([0..1] for floats or [0..255] for integers).\n",
            "Clipping input data to the valid range for imshow with RGB data ([0..1] for floats or [0..255] for integers).\n",
            "Clipping input data to the valid range for imshow with RGB data ([0..1] for floats or [0..255] for integers).\n",
            "Clipping input data to the valid range for imshow with RGB data ([0..1] for floats or [0..255] for integers).\n",
            "Clipping input data to the valid range for imshow with RGB data ([0..1] for floats or [0..255] for integers).\n",
            "Clipping input data to the valid range for imshow with RGB data ([0..1] for floats or [0..255] for integers).\n",
            "Clipping input data to the valid range for imshow with RGB data ([0..1] for floats or [0..255] for integers).\n",
            "Clipping input data to the valid range for imshow with RGB data ([0..1] for floats or [0..255] for integers).\n",
            "Clipping input data to the valid range for imshow with RGB data ([0..1] for floats or [0..255] for integers).\n",
            "Clipping input data to the valid range for imshow with RGB data ([0..1] for floats or [0..255] for integers).\n",
            "Clipping input data to the valid range for imshow with RGB data ([0..1] for floats or [0..255] for integers).\n",
            "Clipping input data to the valid range for imshow with RGB data ([0..1] for floats or [0..255] for integers).\n",
            "Clipping input data to the valid range for imshow with RGB data ([0..1] for floats or [0..255] for integers).\n",
            "Clipping input data to the valid range for imshow with RGB data ([0..1] for floats or [0..255] for integers).\n",
            "Clipping input data to the valid range for imshow with RGB data ([0..1] for floats or [0..255] for integers).\n",
            "Clipping input data to the valid range for imshow with RGB data ([0..1] for floats or [0..255] for integers).\n",
            "Clipping input data to the valid range for imshow with RGB data ([0..1] for floats or [0..255] for integers).\n",
            "Clipping input data to the valid range for imshow with RGB data ([0..1] for floats or [0..255] for integers).\n",
            "Clipping input data to the valid range for imshow with RGB data ([0..1] for floats or [0..255] for integers).\n",
            "Clipping input data to the valid range for imshow with RGB data ([0..1] for floats or [0..255] for integers).\n",
            "Clipping input data to the valid range for imshow with RGB data ([0..1] for floats or [0..255] for integers).\n",
            "Clipping input data to the valid range for imshow with RGB data ([0..1] for floats or [0..255] for integers).\n",
            "Clipping input data to the valid range for imshow with RGB data ([0..1] for floats or [0..255] for integers).\n",
            "Clipping input data to the valid range for imshow with RGB data ([0..1] for floats or [0..255] for integers).\n",
            "Clipping input data to the valid range for imshow with RGB data ([0..1] for floats or [0..255] for integers).\n",
            "Clipping input data to the valid range for imshow with RGB data ([0..1] for floats or [0..255] for integers).\n",
            "Clipping input data to the valid range for imshow with RGB data ([0..1] for floats or [0..255] for integers).\n",
            "Clipping input data to the valid range for imshow with RGB data ([0..1] for floats or [0..255] for integers).\n",
            "Clipping input data to the valid range for imshow with RGB data ([0..1] for floats or [0..255] for integers).\n",
            "Clipping input data to the valid range for imshow with RGB data ([0..1] for floats or [0..255] for integers).\n",
            "Clipping input data to the valid range for imshow with RGB data ([0..1] for floats or [0..255] for integers).\n",
            "Clipping input data to the valid range for imshow with RGB data ([0..1] for floats or [0..255] for integers).\n",
            "Clipping input data to the valid range for imshow with RGB data ([0..1] for floats or [0..255] for integers).\n",
            "Clipping input data to the valid range for imshow with RGB data ([0..1] for floats or [0..255] for integers).\n",
            "Clipping input data to the valid range for imshow with RGB data ([0..1] for floats or [0..255] for integers).\n",
            "Clipping input data to the valid range for imshow with RGB data ([0..1] for floats or [0..255] for integers).\n",
            "Clipping input data to the valid range for imshow with RGB data ([0..1] for floats or [0..255] for integers).\n",
            "Clipping input data to the valid range for imshow with RGB data ([0..1] for floats or [0..255] for integers).\n",
            "Clipping input data to the valid range for imshow with RGB data ([0..1] for floats or [0..255] for integers).\n",
            "Clipping input data to the valid range for imshow with RGB data ([0..1] for floats or [0..255] for integers).\n",
            "Clipping input data to the valid range for imshow with RGB data ([0..1] for floats or [0..255] for integers).\n",
            "Clipping input data to the valid range for imshow with RGB data ([0..1] for floats or [0..255] for integers).\n",
            "Clipping input data to the valid range for imshow with RGB data ([0..1] for floats or [0..255] for integers).\n",
            "Clipping input data to the valid range for imshow with RGB data ([0..1] for floats or [0..255] for integers).\n",
            "Clipping input data to the valid range for imshow with RGB data ([0..1] for floats or [0..255] for integers).\n",
            "Clipping input data to the valid range for imshow with RGB data ([0..1] for floats or [0..255] for integers).\n",
            "Clipping input data to the valid range for imshow with RGB data ([0..1] for floats or [0..255] for integers).\n",
            "Clipping input data to the valid range for imshow with RGB data ([0..1] for floats or [0..255] for integers).\n",
            "Clipping input data to the valid range for imshow with RGB data ([0..1] for floats or [0..255] for integers).\n",
            "Clipping input data to the valid range for imshow with RGB data ([0..1] for floats or [0..255] for integers).\n",
            "Clipping input data to the valid range for imshow with RGB data ([0..1] for floats or [0..255] for integers).\n",
            "Clipping input data to the valid range for imshow with RGB data ([0..1] for floats or [0..255] for integers).\n",
            "Clipping input data to the valid range for imshow with RGB data ([0..1] for floats or [0..255] for integers).\n",
            "Clipping input data to the valid range for imshow with RGB data ([0..1] for floats or [0..255] for integers).\n",
            "Clipping input data to the valid range for imshow with RGB data ([0..1] for floats or [0..255] for integers).\n",
            "Clipping input data to the valid range for imshow with RGB data ([0..1] for floats or [0..255] for integers).\n",
            "Clipping input data to the valid range for imshow with RGB data ([0..1] for floats or [0..255] for integers).\n",
            "Clipping input data to the valid range for imshow with RGB data ([0..1] for floats or [0..255] for integers).\n",
            "Clipping input data to the valid range for imshow with RGB data ([0..1] for floats or [0..255] for integers).\n",
            "Clipping input data to the valid range for imshow with RGB data ([0..1] for floats or [0..255] for integers).\n",
            "Clipping input data to the valid range for imshow with RGB data ([0..1] for floats or [0..255] for integers).\n",
            "Clipping input data to the valid range for imshow with RGB data ([0..1] for floats or [0..255] for integers).\n",
            "Clipping input data to the valid range for imshow with RGB data ([0..1] for floats or [0..255] for integers).\n",
            "Clipping input data to the valid range for imshow with RGB data ([0..1] for floats or [0..255] for integers).\n",
            "Clipping input data to the valid range for imshow with RGB data ([0..1] for floats or [0..255] for integers).\n",
            "Clipping input data to the valid range for imshow with RGB data ([0..1] for floats or [0..255] for integers).\n",
            "Clipping input data to the valid range for imshow with RGB data ([0..1] for floats or [0..255] for integers).\n",
            "Clipping input data to the valid range for imshow with RGB data ([0..1] for floats or [0..255] for integers).\n",
            "Clipping input data to the valid range for imshow with RGB data ([0..1] for floats or [0..255] for integers).\n",
            "Clipping input data to the valid range for imshow with RGB data ([0..1] for floats or [0..255] for integers).\n",
            "Clipping input data to the valid range for imshow with RGB data ([0..1] for floats or [0..255] for integers).\n",
            "Clipping input data to the valid range for imshow with RGB data ([0..1] for floats or [0..255] for integers).\n",
            "Clipping input data to the valid range for imshow with RGB data ([0..1] for floats or [0..255] for integers).\n",
            "Clipping input data to the valid range for imshow with RGB data ([0..1] for floats or [0..255] for integers).\n",
            "Clipping input data to the valid range for imshow with RGB data ([0..1] for floats or [0..255] for integers).\n",
            "Clipping input data to the valid range for imshow with RGB data ([0..1] for floats or [0..255] for integers).\n",
            "Clipping input data to the valid range for imshow with RGB data ([0..1] for floats or [0..255] for integers).\n",
            "Clipping input data to the valid range for imshow with RGB data ([0..1] for floats or [0..255] for integers).\n",
            "Clipping input data to the valid range for imshow with RGB data ([0..1] for floats or [0..255] for integers).\n",
            "Clipping input data to the valid range for imshow with RGB data ([0..1] for floats or [0..255] for integers).\n",
            "Clipping input data to the valid range for imshow with RGB data ([0..1] for floats or [0..255] for integers).\n",
            "Clipping input data to the valid range for imshow with RGB data ([0..1] for floats or [0..255] for integers).\n",
            "Clipping input data to the valid range for imshow with RGB data ([0..1] for floats or [0..255] for integers).\n",
            "Clipping input data to the valid range for imshow with RGB data ([0..1] for floats or [0..255] for integers).\n",
            "Clipping input data to the valid range for imshow with RGB data ([0..1] for floats or [0..255] for integers).\n",
            "Clipping input data to the valid range for imshow with RGB data ([0..1] for floats or [0..255] for integers).\n",
            "Clipping input data to the valid range for imshow with RGB data ([0..1] for floats or [0..255] for integers).\n",
            "Clipping input data to the valid range for imshow with RGB data ([0..1] for floats or [0..255] for integers).\n",
            "Clipping input data to the valid range for imshow with RGB data ([0..1] for floats or [0..255] for integers).\n",
            "Clipping input data to the valid range for imshow with RGB data ([0..1] for floats or [0..255] for integers).\n",
            "Clipping input data to the valid range for imshow with RGB data ([0..1] for floats or [0..255] for integers).\n",
            "Clipping input data to the valid range for imshow with RGB data ([0..1] for floats or [0..255] for integers).\n",
            "Clipping input data to the valid range for imshow with RGB data ([0..1] for floats or [0..255] for integers).\n",
            "Clipping input data to the valid range for imshow with RGB data ([0..1] for floats or [0..255] for integers).\n",
            "Clipping input data to the valid range for imshow with RGB data ([0..1] for floats or [0..255] for integers).\n",
            "Clipping input data to the valid range for imshow with RGB data ([0..1] for floats or [0..255] for integers).\n"
          ],
          "name": "stderr"
        },
        {
          "output_type": "display_data",
          "data": {
            "image/png": "[encoded data removed]",
            "text/plain": [
              "<Figure size 864x180 with 128 Axes>"
            ]
          },
          "metadata": {
            "tags": []
          }
        },
        {
          "output_type": "stream",
          "text": [
            "time: 3.9 s\n"
          ],
          "name": "stdout"
        }
      ]
    },
    {
      "cell_type": "code",
      "metadata": {
        "id": "ytAhp0JWxCuV",
        "colab_type": "code",
        "outputId": "4edc794b-a0f3-4bc4-fd93-7eda314c5fdb",
        "colab": {
          "base_uri": "https://localhost:8080/",
          "height": 1000
        }
      },
      "source": [
        "dataiter = iter(test_loader)\n",
        "images, labels = dataiter.next()\n",
        "\n",
        "fig, axes = plt.subplots(1, len(images), figsize=(12,2.5))\n",
        "for idx, image in enumerate(images):\n",
        "    axes[idx].imshow(convert_to_imshow_format(image))\n",
        "    axes[idx].set_title(classes[labels[idx]])\n",
        "    axes[idx].set_xticks([])\n",
        "    axes[idx].set_yticks([])"
      ],
      "execution_count": 15,
      "outputs": [
        {
          "output_type": "stream",
          "text": [
            "Clipping input data to the valid range for imshow with RGB data ([0..1] for floats or [0..255] for integers).\n",
            "Clipping input data to the valid range for imshow with RGB data ([0..1] for floats or [0..255] for integers).\n",
            "Clipping input data to the valid range for imshow with RGB data ([0..1] for floats or [0..255] for integers).\n",
            "Clipping input data to the valid range for imshow with RGB data ([0..1] for floats or [0..255] for integers).\n",
            "Clipping input data to the valid range for imshow with RGB data ([0..1] for floats or [0..255] for integers).\n",
            "Clipping input data to the valid range for imshow with RGB data ([0..1] for floats or [0..255] for integers).\n",
            "Clipping input data to the valid range for imshow with RGB data ([0..1] for floats or [0..255] for integers).\n",
            "Clipping input data to the valid range for imshow with RGB data ([0..1] for floats or [0..255] for integers).\n",
            "Clipping input data to the valid range for imshow with RGB data ([0..1] for floats or [0..255] for integers).\n",
            "Clipping input data to the valid range for imshow with RGB data ([0..1] for floats or [0..255] for integers).\n",
            "Clipping input data to the valid range for imshow with RGB data ([0..1] for floats or [0..255] for integers).\n",
            "Clipping input data to the valid range for imshow with RGB data ([0..1] for floats or [0..255] for integers).\n",
            "Clipping input data to the valid range for imshow with RGB data ([0..1] for floats or [0..255] for integers).\n",
            "Clipping input data to the valid range for imshow with RGB data ([0..1] for floats or [0..255] for integers).\n",
            "Clipping input data to the valid range for imshow with RGB data ([0..1] for floats or [0..255] for integers).\n",
            "Clipping input data to the valid range for imshow with RGB data ([0..1] for floats or [0..255] for integers).\n",
            "Clipping input data to the valid range for imshow with RGB data ([0..1] for floats or [0..255] for integers).\n",
            "Clipping input data to the valid range for imshow with RGB data ([0..1] for floats or [0..255] for integers).\n",
            "Clipping input data to the valid range for imshow with RGB data ([0..1] for floats or [0..255] for integers).\n",
            "Clipping input data to the valid range for imshow with RGB data ([0..1] for floats or [0..255] for integers).\n",
            "Clipping input data to the valid range for imshow with RGB data ([0..1] for floats or [0..255] for integers).\n",
            "Clipping input data to the valid range for imshow with RGB data ([0..1] for floats or [0..255] for integers).\n",
            "Clipping input data to the valid range for imshow with RGB data ([0..1] for floats or [0..255] for integers).\n",
            "Clipping input data to the valid range for imshow with RGB data ([0..1] for floats or [0..255] for integers).\n",
            "Clipping input data to the valid range for imshow with RGB data ([0..1] for floats or [0..255] for integers).\n",
            "Clipping input data to the valid range for imshow with RGB data ([0..1] for floats or [0..255] for integers).\n",
            "Clipping input data to the valid range for imshow with RGB data ([0..1] for floats or [0..255] for integers).\n",
            "Clipping input data to the valid range for imshow with RGB data ([0..1] for floats or [0..255] for integers).\n",
            "Clipping input data to the valid range for imshow with RGB data ([0..1] for floats or [0..255] for integers).\n",
            "Clipping input data to the valid range for imshow with RGB data ([0..1] for floats or [0..255] for integers).\n",
            "Clipping input data to the valid range for imshow with RGB data ([0..1] for floats or [0..255] for integers).\n",
            "Clipping input data to the valid range for imshow with RGB data ([0..1] for floats or [0..255] for integers).\n",
            "Clipping input data to the valid range for imshow with RGB data ([0..1] for floats or [0..255] for integers).\n",
            "Clipping input data to the valid range for imshow with RGB data ([0..1] for floats or [0..255] for integers).\n",
            "Clipping input data to the valid range for imshow with RGB data ([0..1] for floats or [0..255] for integers).\n",
            "Clipping input data to the valid range for imshow with RGB data ([0..1] for floats or [0..255] for integers).\n",
            "Clipping input data to the valid range for imshow with RGB data ([0..1] for floats or [0..255] for integers).\n",
            "Clipping input data to the valid range for imshow with RGB data ([0..1] for floats or [0..255] for integers).\n",
            "Clipping input data to the valid range for imshow with RGB data ([0..1] for floats or [0..255] for integers).\n",
            "Clipping input data to the valid range for imshow with RGB data ([0..1] for floats or [0..255] for integers).\n",
            "Clipping input data to the valid range for imshow with RGB data ([0..1] for floats or [0..255] for integers).\n",
            "Clipping input data to the valid range for imshow with RGB data ([0..1] for floats or [0..255] for integers).\n",
            "Clipping input data to the valid range for imshow with RGB data ([0..1] for floats or [0..255] for integers).\n",
            "Clipping input data to the valid range for imshow with RGB data ([0..1] for floats or [0..255] for integers).\n",
            "Clipping input data to the valid range for imshow with RGB data ([0..1] for floats or [0..255] for integers).\n",
            "Clipping input data to the valid range for imshow with RGB data ([0..1] for floats or [0..255] for integers).\n",
            "Clipping input data to the valid range for imshow with RGB data ([0..1] for floats or [0..255] for integers).\n",
            "Clipping input data to the valid range for imshow with RGB data ([0..1] for floats or [0..255] for integers).\n",
            "Clipping input data to the valid range for imshow with RGB data ([0..1] for floats or [0..255] for integers).\n",
            "Clipping input data to the valid range for imshow with RGB data ([0..1] for floats or [0..255] for integers).\n",
            "Clipping input data to the valid range for imshow with RGB data ([0..1] for floats or [0..255] for integers).\n",
            "Clipping input data to the valid range for imshow with RGB data ([0..1] for floats or [0..255] for integers).\n",
            "Clipping input data to the valid range for imshow with RGB data ([0..1] for floats or [0..255] for integers).\n",
            "Clipping input data to the valid range for imshow with RGB data ([0..1] for floats or [0..255] for integers).\n",
            "Clipping input data to the valid range for imshow with RGB data ([0..1] for floats or [0..255] for integers).\n",
            "Clipping input data to the valid range for imshow with RGB data ([0..1] for floats or [0..255] for integers).\n",
            "Clipping input data to the valid range for imshow with RGB data ([0..1] for floats or [0..255] for integers).\n",
            "Clipping input data to the valid range for imshow with RGB data ([0..1] for floats or [0..255] for integers).\n",
            "Clipping input data to the valid range for imshow with RGB data ([0..1] for floats or [0..255] for integers).\n",
            "Clipping input data to the valid range for imshow with RGB data ([0..1] for floats or [0..255] for integers).\n",
            "Clipping input data to the valid range for imshow with RGB data ([0..1] for floats or [0..255] for integers).\n",
            "Clipping input data to the valid range for imshow with RGB data ([0..1] for floats or [0..255] for integers).\n",
            "Clipping input data to the valid range for imshow with RGB data ([0..1] for floats or [0..255] for integers).\n",
            "Clipping input data to the valid range for imshow with RGB data ([0..1] for floats or [0..255] for integers).\n",
            "Clipping input data to the valid range for imshow with RGB data ([0..1] for floats or [0..255] for integers).\n",
            "Clipping input data to the valid range for imshow with RGB data ([0..1] for floats or [0..255] for integers).\n",
            "Clipping input data to the valid range for imshow with RGB data ([0..1] for floats or [0..255] for integers).\n",
            "Clipping input data to the valid range for imshow with RGB data ([0..1] for floats or [0..255] for integers).\n",
            "Clipping input data to the valid range for imshow with RGB data ([0..1] for floats or [0..255] for integers).\n",
            "Clipping input data to the valid range for imshow with RGB data ([0..1] for floats or [0..255] for integers).\n",
            "Clipping input data to the valid range for imshow with RGB data ([0..1] for floats or [0..255] for integers).\n",
            "Clipping input data to the valid range for imshow with RGB data ([0..1] for floats or [0..255] for integers).\n",
            "Clipping input data to the valid range for imshow with RGB data ([0..1] for floats or [0..255] for integers).\n",
            "Clipping input data to the valid range for imshow with RGB data ([0..1] for floats or [0..255] for integers).\n",
            "Clipping input data to the valid range for imshow with RGB data ([0..1] for floats or [0..255] for integers).\n",
            "Clipping input data to the valid range for imshow with RGB data ([0..1] for floats or [0..255] for integers).\n",
            "Clipping input data to the valid range for imshow with RGB data ([0..1] for floats or [0..255] for integers).\n",
            "Clipping input data to the valid range for imshow with RGB data ([0..1] for floats or [0..255] for integers).\n",
            "Clipping input data to the valid range for imshow with RGB data ([0..1] for floats or [0..255] for integers).\n",
            "Clipping input data to the valid range for imshow with RGB data ([0..1] for floats or [0..255] for integers).\n",
            "Clipping input data to the valid range for imshow with RGB data ([0..1] for floats or [0..255] for integers).\n",
            "Clipping input data to the valid range for imshow with RGB data ([0..1] for floats or [0..255] for integers).\n",
            "Clipping input data to the valid range for imshow with RGB data ([0..1] for floats or [0..255] for integers).\n",
            "Clipping input data to the valid range for imshow with RGB data ([0..1] for floats or [0..255] for integers).\n",
            "Clipping input data to the valid range for imshow with RGB data ([0..1] for floats or [0..255] for integers).\n",
            "Clipping input data to the valid range for imshow with RGB data ([0..1] for floats or [0..255] for integers).\n",
            "Clipping input data to the valid range for imshow with RGB data ([0..1] for floats or [0..255] for integers).\n",
            "Clipping input data to the valid range for imshow with RGB data ([0..1] for floats or [0..255] for integers).\n",
            "Clipping input data to the valid range for imshow with RGB data ([0..1] for floats or [0..255] for integers).\n",
            "Clipping input data to the valid range for imshow with RGB data ([0..1] for floats or [0..255] for integers).\n",
            "Clipping input data to the valid range for imshow with RGB data ([0..1] for floats or [0..255] for integers).\n",
            "Clipping input data to the valid range for imshow with RGB data ([0..1] for floats or [0..255] for integers).\n",
            "Clipping input data to the valid range for imshow with RGB data ([0..1] for floats or [0..255] for integers).\n",
            "Clipping input data to the valid range for imshow with RGB data ([0..1] for floats or [0..255] for integers).\n",
            "Clipping input data to the valid range for imshow with RGB data ([0..1] for floats or [0..255] for integers).\n",
            "Clipping input data to the valid range for imshow with RGB data ([0..1] for floats or [0..255] for integers).\n",
            "Clipping input data to the valid range for imshow with RGB data ([0..1] for floats or [0..255] for integers).\n",
            "Clipping input data to the valid range for imshow with RGB data ([0..1] for floats or [0..255] for integers).\n",
            "Clipping input data to the valid range for imshow with RGB data ([0..1] for floats or [0..255] for integers).\n",
            "Clipping input data to the valid range for imshow with RGB data ([0..1] for floats or [0..255] for integers).\n"
          ],
          "name": "stderr"
        },
        {
          "output_type": "display_data",
          "data": {
            "image/png": "[encoded data removed]",
            "text/plain": [
              "<Figure size 864x180 with 100 Axes>"
            ]
          },
          "metadata": {
            "tags": []
          }
        },
        {
          "output_type": "stream",
          "text": [
            "time: 2.99 s\n"
          ],
          "name": "stdout"
        }
      ]
    },
    {
      "cell_type": "code",
      "metadata": {
        "id": "4Bo-eyWBxn9T",
        "colab_type": "code",
        "outputId": "5ee8c94e-ae2e-4a7f-bb3f-019ee9b53447",
        "colab": {
          "base_uri": "https://localhost:8080/",
          "height": 34
        }
      },
      "source": [
        "images = images.to(device)\n",
        "labels = labels.to(device)\n",
        "outputs = model(images)"
      ],
      "execution_count": 16,
      "outputs": [
        {
          "output_type": "stream",
          "text": [
            "time: 23.2 ms\n"
          ],
          "name": "stdout"
        }
      ]
    },
    {
      "cell_type": "code",
      "metadata": {
        "id": "Wv_wo9I6yIMW",
        "colab_type": "code",
        "outputId": "27d5c489-f3ff-4ee3-a6fc-2f90c29a4c62",
        "colab": {
          "base_uri": "https://localhost:8080/",
          "height": 34
        }
      },
      "source": [
        "sm = nn.Softmax(dim=1)\n",
        "sm_outputs = sm(outputs)"
      ],
      "execution_count": 17,
      "outputs": [
        {
          "output_type": "stream",
          "text": [
            "time: 3.29 ms\n"
          ],
          "name": "stdout"
        }
      ]
    },
    {
      "cell_type": "code",
      "metadata": {
        "id": "DfhHhpi2yO9q",
        "colab_type": "code",
        "outputId": "c7f0b085-d36e-4332-e3fd-5055d19b2f23",
        "colab": {
          "base_uri": "https://localhost:8080/",
          "height": 1000
        }
      },
      "source": [
        "probs, index = torch.max(sm_outputs, dim=1)\n",
        "\n",
        "for p, i in zip(probs, index):\n",
        "    print('{0} - {1:.4f}'.format(classes[i], p))"
      ],
      "execution_count": 18,
      "outputs": [
        {
          "output_type": "stream",
          "text": [
            "cat - 0.9999\n",
            "ship - 1.0000\n",
            "ship - 0.7780\n",
            "plane - 0.9098\n",
            "frog - 0.9866\n",
            "frog - 0.9994\n",
            "cat - 0.8878\n",
            "frog - 0.5113\n",
            "cat - 0.9338\n",
            "car - 1.0000\n",
            "plane - 0.9971\n",
            "truck - 1.0000\n",
            "horse - 0.6757\n",
            "horse - 1.0000\n",
            "truck - 1.0000\n",
            "plane - 0.6215\n",
            "dog - 0.9976\n",
            "horse - 1.0000\n",
            "ship - 0.9993\n",
            "frog - 1.0000\n",
            "horse - 0.8062\n",
            "plane - 0.9944\n",
            "deer - 0.9978\n",
            "truck - 0.9996\n",
            "dog - 0.9854\n",
            "bird - 0.8591\n",
            "cat - 0.6770\n",
            "plane - 1.0000\n",
            "truck - 0.9977\n",
            "frog - 0.9998\n",
            "frog - 0.9170\n",
            "dog - 0.9999\n",
            "ship - 0.5656\n",
            "dog - 0.9998\n",
            "truck - 1.0000\n",
            "car - 0.5239\n",
            "deer - 0.9750\n",
            "car - 0.9184\n",
            "truck - 1.0000\n",
            "dog - 1.0000\n",
            "deer - 0.7847\n",
            "frog - 0.9999\n",
            "dog - 0.8632\n",
            "frog - 0.9104\n",
            "plane - 1.0000\n",
            "truck - 0.9998\n",
            "cat - 0.9547\n",
            "truck - 0.3090\n",
            "horse - 0.9999\n",
            "frog - 0.9875\n",
            "truck - 0.9999\n",
            "ship - 0.9999\n",
            "dog - 0.6987\n",
            "cat - 0.9938\n",
            "ship - 1.0000\n",
            "ship - 1.0000\n",
            "horse - 0.9985\n",
            "dog - 0.8229\n",
            "horse - 0.6189\n",
            "cat - 0.9906\n",
            "horse - 0.9999\n",
            "dog - 0.8433\n",
            "frog - 0.9992\n",
            "cat - 0.9671\n",
            "frog - 0.9998\n",
            "bird - 1.0000\n",
            "car - 1.0000\n",
            "bird - 0.9994\n",
            "cat - 0.8910\n",
            "horse - 0.8622\n",
            "bird - 0.9779\n",
            "frog - 0.9999\n",
            "ship - 1.0000\n",
            "ship - 0.9998\n",
            "plane - 0.9589\n",
            "bird - 1.0000\n",
            "truck - 1.0000\n",
            "cat - 0.9992\n",
            "dog - 0.6334\n",
            "ship - 1.0000\n",
            "ship - 1.0000\n",
            "car - 0.9919\n",
            "car - 1.0000\n",
            "horse - 1.0000\n",
            "bird - 0.9977\n",
            "dog - 0.6391\n",
            "plane - 0.7361\n",
            "deer - 0.4013\n",
            "ship - 1.0000\n",
            "truck - 0.9981\n",
            "plane - 1.0000\n",
            "cat - 0.9929\n",
            "ship - 0.9994\n",
            "frog - 1.0000\n",
            "deer - 1.0000\n",
            "frog - 0.4395\n",
            "deer - 0.9280\n",
            "plane - 0.9874\n",
            "plane - 0.9999\n",
            "horse - 0.9994\n",
            "time: 36.1 ms\n"
          ],
          "name": "stdout"
        }
      ]
    },
    {
      "cell_type": "code",
      "metadata": {
        "id": "RiZftaxHyShZ",
        "colab_type": "code",
        "outputId": "d40fca6a-3e88-4767-d0f6-801383e8ffe8",
        "colab": {
          "base_uri": "https://localhost:8080/",
          "height": 51
        }
      },
      "source": [
        "total_correct = 0\n",
        "total_images = 0\n",
        "confusion_matrix = np.zeros([10,10], int)\n",
        "with torch.no_grad():\n",
        "    for data in test_loader:\n",
        "        images, labels = data\n",
        "        images = images.to(device)\n",
        "        labels = labels.to(device)\n",
        "        outputs = model(images)\n",
        "        _, predicted = torch.max(outputs.data, 1)\n",
        "        total_images += labels.size(0)\n",
        "        total_correct += (predicted == labels).sum().item()\n",
        "        for i, l in enumerate(labels):\n",
        "            confusion_matrix[l.item(), predicted[i].item()] += 1 \n",
        "\n",
        "model_accuracy = total_correct / total_images * 100\n",
        "print('Model accuracy on {0} test images: {1:.2f}%'.format(total_images, model_accuracy))"
      ],
      "execution_count": 19,
      "outputs": [
        {
          "output_type": "stream",
          "text": [
            "Model accuracy on 10000 test images: 87.93%\n",
            "time: 2.61 s\n"
          ],
          "name": "stdout"
        }
      ]
    },
    {
      "cell_type": "code",
      "metadata": {
        "id": "6v5gH5D6y0sZ",
        "colab_type": "code",
        "outputId": "d9785fb4-ec79-4f86-d92d-a70bb1dc39c0",
        "colab": {
          "base_uri": "https://localhost:8080/",
          "height": 221
        }
      },
      "source": [
        "print('{0:10s} - {1}'.format('Category','Accuracy'))\n",
        "for i, r in enumerate(confusion_matrix):\n",
        "    print('{0:10s} - {1:.1f}'.format(classes[i], r[i]/np.sum(r)*100))"
      ],
      "execution_count": 20,
      "outputs": [
        {
          "output_type": "stream",
          "text": [
            "Category   - Accuracy\n",
            "plane      - 90.1\n",
            "car        - 95.0\n",
            "bird       - 82.9\n",
            "cat        - 76.4\n",
            "deer       - 86.1\n",
            "dog        - 79.1\n",
            "frog       - 92.0\n",
            "horse      - 90.3\n",
            "ship       - 93.7\n",
            "truck      - 93.7\n",
            "time: 5.7 ms\n"
          ],
          "name": "stdout"
        }
      ]
    },
    {
      "cell_type": "code",
      "metadata": {
        "id": "UHszLmdNy5v_",
        "colab_type": "code",
        "outputId": "7faf4f3a-14e2-477c-a2ba-a50e90697c6b",
        "colab": {
          "base_uri": "https://localhost:8080/",
          "height": 514
        }
      },
      "source": [
        "fig, ax = plt.subplots(1,1,figsize=(10,8))\n",
        "ax.matshow(confusion_matrix, aspect='auto', vmin=0, vmax=1000, cmap=plt.get_cmap('Blues'),)\n",
        "for (i, j), z in np.ndenumerate(confusion_matrix):\n",
        "    ax.text(j, i, '{:0.1f}'.format(z), ha='center', va='center',\n",
        "            bbox=dict(boxstyle='round', facecolor='white', edgecolor='0.3'))\n",
        "plt.ylabel('Actual Category')\n",
        "plt.yticks(range(10), classes)\n",
        "plt.xlabel('Predicted Category')\n",
        "plt.xticks(range(10), classes)\n",
        "plt.show()\n",
        "\n"
      ],
      "execution_count": 21,
      "outputs": [
        {
          "output_type": "display_data",
          "data": {
            "image/png": "[encoded data removed]",
            "text/plain": [
              "<Figure size 720x576 with 1 Axes>"
            ]
          },
          "metadata": {
            "tags": []
          }
        },
        {
          "output_type": "stream",
          "text": [
            "time: 469 ms\n"
          ],
          "name": "stdout"
        }
      ]
    },
    {
      "cell_type": "code",
      "metadata": {
        "id": "pZ5U1tkZ7ecu",
        "colab_type": "code",
        "outputId": "460c196e-fcc8-475c-ad13-45be3bb4ecaa",
        "colab": {
          "base_uri": "https://localhost:8080/",
          "height": 34
        }
      },
      "source": [
        "# Save the model checkpoint\n",
        "torch.save(model.state_dict(), 'resnet.ckpt')"
      ],
      "execution_count": 22,
      "outputs": [
        {
          "output_type": "stream",
          "text": [
            "time: 16.3 ms\n"
          ],
          "name": "stdout"
        }
      ]
    },
    {
      "cell_type": "code",
      "metadata": {
        "id": "2x-t3dD2-H5A",
        "colab_type": "code",
        "outputId": "8d53621c-8774-4fb7-abc9-a2b684d70878",
        "colab": {
          "base_uri": "https://localhost:8080/",
          "height": 34
        }
      },
      "source": [
        "pytorch_total_params = sum(p.numel() for p in model.parameters())\n",
        "pytorch_total_params"
      ],
      "execution_count": 23,
      "outputs": [
        {
          "output_type": "execute_result",
          "data": {
            "text/plain": [
              "701466"
            ]
          },
          "metadata": {
            "tags": []
          },
          "execution_count": 23
        },
        {
          "output_type": "stream",
          "text": [
            "time: 3.56 ms\n"
          ],
          "name": "stdout"
        }
      ]
    }
  ]
}