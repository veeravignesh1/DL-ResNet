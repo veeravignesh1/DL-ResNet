{
  "nbformat": 4,
  "nbformat_minor": 0,
  "metadata": {
    "colab": {
      "name": "RESNET_18_60_adam_decay ",
      "provenance": [],
      "collapsed_sections": []
    },
    "kernelspec": {
      "name": "python3",
      "display_name": "Python 3"
    },
    "accelerator": "GPU",
    "widgets": {
      "application/vnd.jupyter.widget-state+json": {
        "d1f7513318e2476e8b3e3f4bfa453092": {
          "model_module": "@jupyter-widgets/controls",
          "model_name": "HBoxModel",
          "state": {
            "_view_name": "HBoxView",
            "_dom_classes": [],
            "_model_name": "HBoxModel",
            "_view_module": "@jupyter-widgets/controls",
            "_model_module_version": "1.5.0",
            "_view_count": null,
            "_view_module_version": "1.5.0",
            "box_style": "",
            "layout": "IPY_MODEL_5e69bad8786249809eaa6b9a2e172b7a",
            "_model_module": "@jupyter-widgets/controls",
            "children": [
              "IPY_MODEL_69d3abf7f1624fa3b54f228c320a23de",
              "IPY_MODEL_5bda684f593544ff8186434aebd7409a"
            ]
          }
        },
        "5e69bad8786249809eaa6b9a2e172b7a": {
          "model_module": "@jupyter-widgets/base",
          "model_name": "LayoutModel",
          "state": {
            "_view_name": "LayoutView",
            "grid_template_rows": null,
            "right": null,
            "justify_content": null,
            "_view_module": "@jupyter-widgets/base",
            "overflow": null,
            "_model_module_version": "1.2.0",
            "_view_count": null,
            "flex_flow": null,
            "width": null,
            "min_width": null,
            "border": null,
            "align_items": null,
            "bottom": null,
            "_model_module": "@jupyter-widgets/base",
            "top": null,
            "grid_column": null,
            "overflow_y": null,
            "overflow_x": null,
            "grid_auto_flow": null,
            "grid_area": null,
            "grid_template_columns": null,
            "flex": null,
            "_model_name": "LayoutModel",
            "justify_items": null,
            "grid_row": null,
            "max_height": null,
            "align_content": null,
            "visibility": null,
            "align_self": null,
            "height": null,
            "min_height": null,
            "padding": null,
            "grid_auto_rows": null,
            "grid_gap": null,
            "max_width": null,
            "order": null,
            "_view_module_version": "1.2.0",
            "grid_template_areas": null,
            "object_position": null,
            "object_fit": null,
            "grid_auto_columns": null,
            "margin": null,
            "display": null,
            "left": null
          }
        },
        "69d3abf7f1624fa3b54f228c320a23de": {
          "model_module": "@jupyter-widgets/controls",
          "model_name": "IntProgressModel",
          "state": {
            "_view_name": "ProgressView",
            "style": "IPY_MODEL_9f312a81db754542b2816cbfb1fe4fc7",
            "_dom_classes": [],
            "description": "",
            "_model_name": "IntProgressModel",
            "bar_style": "info",
            "max": 1,
            "_view_module": "@jupyter-widgets/controls",
            "_model_module_version": "1.5.0",
            "value": 1,
            "_view_count": null,
            "_view_module_version": "1.5.0",
            "orientation": "horizontal",
            "min": 0,
            "description_tooltip": null,
            "_model_module": "@jupyter-widgets/controls",
            "layout": "IPY_MODEL_3a67ea8aff9947389dde66dbd9c42d9e"
          }
        },
        "5bda684f593544ff8186434aebd7409a": {
          "model_module": "@jupyter-widgets/controls",
          "model_name": "HTMLModel",
          "state": {
            "_view_name": "HTMLView",
            "style": "IPY_MODEL_dd667261a99a4794bbd4b9fbe9b70d69",
            "_dom_classes": [],
            "description": "",
            "_model_name": "HTMLModel",
            "placeholder": "​",
            "_view_module": "@jupyter-widgets/controls",
            "_model_module_version": "1.5.0",
            "value": " 170500096/? [00:30&lt;00:00, 17356783.50it/s]",
            "_view_count": null,
            "_view_module_version": "1.5.0",
            "description_tooltip": null,
            "_model_module": "@jupyter-widgets/controls",
            "layout": "IPY_MODEL_eb78f1bd8cda4dedb216fe4336ae4ba4"
          }
        },
        "9f312a81db754542b2816cbfb1fe4fc7": {
          "model_module": "@jupyter-widgets/controls",
          "model_name": "ProgressStyleModel",
          "state": {
            "_view_name": "StyleView",
            "_model_name": "ProgressStyleModel",
            "description_width": "initial",
            "_view_module": "@jupyter-widgets/base",
            "_model_module_version": "1.5.0",
            "_view_count": null,
            "_view_module_version": "1.2.0",
            "bar_color": null,
            "_model_module": "@jupyter-widgets/controls"
          }
        },
        "3a67ea8aff9947389dde66dbd9c42d9e": {
          "model_module": "@jupyter-widgets/base",
          "model_name": "LayoutModel",
          "state": {
            "_view_name": "LayoutView",
            "grid_template_rows": null,
            "right": null,
            "justify_content": null,
            "_view_module": "@jupyter-widgets/base",
            "overflow": null,
            "_model_module_version": "1.2.0",
            "_view_count": null,
            "flex_flow": null,
            "width": null,
            "min_width": null,
            "border": null,
            "align_items": null,
            "bottom": null,
            "_model_module": "@jupyter-widgets/base",
            "top": null,
            "grid_column": null,
            "overflow_y": null,
            "overflow_x": null,
            "grid_auto_flow": null,
            "grid_area": null,
            "grid_template_columns": null,
            "flex": null,
            "_model_name": "LayoutModel",
            "justify_items": null,
            "grid_row": null,
            "max_height": null,
            "align_content": null,
            "visibility": null,
            "align_self": null,
            "height": null,
            "min_height": null,
            "padding": null,
            "grid_auto_rows": null,
            "grid_gap": null,
            "max_width": null,
            "order": null,
            "_view_module_version": "1.2.0",
            "grid_template_areas": null,
            "object_position": null,
            "object_fit": null,
            "grid_auto_columns": null,
            "margin": null,
            "display": null,
            "left": null
          }
        },
        "dd667261a99a4794bbd4b9fbe9b70d69": {
          "model_module": "@jupyter-widgets/controls",
          "model_name": "DescriptionStyleModel",
          "state": {
            "_view_name": "StyleView",
            "_model_name": "DescriptionStyleModel",
            "description_width": "",
            "_view_module": "@jupyter-widgets/base",
            "_model_module_version": "1.5.0",
            "_view_count": null,
            "_view_module_version": "1.2.0",
            "_model_module": "@jupyter-widgets/controls"
          }
        },
        "eb78f1bd8cda4dedb216fe4336ae4ba4": {
          "model_module": "@jupyter-widgets/base",
          "model_name": "LayoutModel",
          "state": {
            "_view_name": "LayoutView",
            "grid_template_rows": null,
            "right": null,
            "justify_content": null,
            "_view_module": "@jupyter-widgets/base",
            "overflow": null,
            "_model_module_version": "1.2.0",
            "_view_count": null,
            "flex_flow": null,
            "width": null,
            "min_width": null,
            "border": null,
            "align_items": null,
            "bottom": null,
            "_model_module": "@jupyter-widgets/base",
            "top": null,
            "grid_column": null,
            "overflow_y": null,
            "overflow_x": null,
            "grid_auto_flow": null,
            "grid_area": null,
            "grid_template_columns": null,
            "flex": null,
            "_model_name": "LayoutModel",
            "justify_items": null,
            "grid_row": null,
            "max_height": null,
            "align_content": null,
            "visibility": null,
            "align_self": null,
            "height": null,
            "min_height": null,
            "padding": null,
            "grid_auto_rows": null,
            "grid_gap": null,
            "max_width": null,
            "order": null,
            "_view_module_version": "1.2.0",
            "grid_template_areas": null,
            "object_position": null,
            "object_fit": null,
            "grid_auto_columns": null,
            "margin": null,
            "display": null,
            "left": null
          }
        }
      }
    }
  },
  "cells": [
    {
      "cell_type": "code",
      "metadata": {
        "id": "sJZZ9hNj7Ys1",
        "colab_type": "code",
        "outputId": "33c0a5be-c32a-46b4-d6f0-47d3ce1e1399",
        "colab": {
          "base_uri": "https://localhost:8080/",
          "height": 85
        }
      },
      "source": [
        "# ---------------------------------------------------------------------------- #\n",
        "# An implementation of https://arxiv.org/pdf/1512.03385.pdf                    #\n",
        "# See section 4.2 for the model architecture on CIFAR-10                       #\n",
        "# Some part of the code was referenced from below                              #\n",
        "# https://github.com/pytorch/vision/blob/master/torchvision/models/resnet.py   #\n",
        "# ---------------------------------------------------------------------------- #\n",
        "!pip install ipython-autotime\n",
        "%load_ext autotime\n",
        "import matplotlib.pyplot as plt\n",
        "import numpy as np\n",
        "import torch\n",
        "import torch.nn as nn\n",
        "import torch.nn.functional as F\n",
        "import torchvision\n",
        "import torchvision.transforms as transforms\n",
        "\n",
        "\n",
        "# Device configuration\n",
        "device = torch.device('cuda' if torch.cuda.is_available() else 'cpu')\n",
        "\n"
      ],
      "execution_count": 9,
      "outputs": [
        {
          "output_type": "stream",
          "text": [
            "Requirement already satisfied: ipython-autotime in /usr/local/lib/python3.6/dist-packages (0.1)\n",
            "The autotime extension is already loaded. To reload it, use:\n",
            "  %reload_ext autotime\n",
            "time: 3.31 s\n"
          ],
          "name": "stdout"
        }
      ]
    },
    {
      "cell_type": "code",
      "metadata": {
        "id": "ixieggsE7eQR",
        "colab_type": "code",
        "outputId": "092aee98-5b07-4e53-9dc3-7b9f33c67234",
        "colab": {
          "base_uri": "https://localhost:8080/",
          "height": 34
        }
      },
      "source": [
        "# Hyper-parameters\n",
        "num_epochs = 60\n",
        "learning_rate = 0.01"
      ],
      "execution_count": 10,
      "outputs": [
        {
          "output_type": "stream",
          "text": [
            "time: 1.35 ms\n"
          ],
          "name": "stdout"
        }
      ]
    },
    {
      "cell_type": "code",
      "metadata": {
        "id": "-RJoy91C7eTd",
        "colab_type": "code",
        "outputId": "332e70a9-3c17-4962-8d75-b1068c96e6b3",
        "colab": {
          "base_uri": "https://localhost:8080/",
          "height": 34
        }
      },
      "source": [
        "# Image preprocessing modules\n",
        "transform = transforms.Compose([\n",
        "    transforms.Pad(4),\n",
        "    transforms.RandomRotation((0,5)),\n",
        "    transforms.RandomHorizontalFlip(),\n",
        "    transforms.RandomCrop(32),\n",
        "    transforms.ColorJitter(brightness=0.5, contrast=0.5, saturation=0, hue=0),\n",
        "    #transforms.RandomHorizontalFlip(p=0.5),\n",
        "    transforms.RandomVerticalFlip(p=0.5),\n",
        "    #transforms.ColorJitter(brightness=0, contrast=0, saturation=0, hue=0),\n",
        "    #transforms.RandomRotation(degrees=[-10,10], resample=False, expand=False, center=None, fill=0),\n",
        "    transforms.ToTensor(),\n",
        "    #transforms.Normalize((0.4914, 0.4822, 0.4465), (0.2023, 0.1994, 0.2010)),\n",
        "    #transforms.Normalize((0.5, 0.5, 0.5), (0.5, 0.5, 0.5))\n",
        "    ])"
      ],
      "execution_count": 34,
      "outputs": [
        {
          "output_type": "stream",
          "text": [
            "time: 7.21 ms\n"
          ],
          "name": "stdout"
        }
      ]
    },
    {
      "cell_type": "code",
      "metadata": {
        "id": "UjCnhcUluLFw",
        "colab_type": "code",
        "colab": {}
      },
      "source": [
        ""
      ],
      "execution_count": 0,
      "outputs": []
    },
    {
      "cell_type": "code",
      "metadata": {
        "id": "AKqgCvcN3G86",
        "colab_type": "code",
        "colab": {}
      },
      "source": [
        "#transform_train = transforms.Compose([\n",
        "#    transforms.RandomCrop(32, padding=4),\n",
        "#    transforms.RandomHorizontalFlip(),\n",
        "#    transforms.ToTensor(),\n",
        "#    transforms.Normalize((0.4914, 0.4822, 0.4465), (0.2023, 0.1994, 0.2010)),\n",
        "#])\n",
        "\n",
        "#transform_test = transforms.Compose([\n",
        "#    transforms.ToTensor(),\n",
        "#    transforms.Normalize((0.4914, 0.4822, 0.4465), (0.2023, 0.1994, 0.2010)),\n",
        "#])\n"
      ],
      "execution_count": 0,
      "outputs": []
    },
    {
      "cell_type": "code",
      "metadata": {
        "id": "4vFQ-c_D7eWp",
        "colab_type": "code",
        "outputId": "a8bea2a4-3850-4ced-a9ce-d3fe54bf8b77",
        "colab": {
          "base_uri": "https://localhost:8080/",
          "height": 100,
          "referenced_widgets": [
            "d1f7513318e2476e8b3e3f4bfa453092",
            "5e69bad8786249809eaa6b9a2e172b7a",
            "69d3abf7f1624fa3b54f228c320a23de",
            "5bda684f593544ff8186434aebd7409a",
            "9f312a81db754542b2816cbfb1fe4fc7",
            "3a67ea8aff9947389dde66dbd9c42d9e",
            "dd667261a99a4794bbd4b9fbe9b70d69",
            "eb78f1bd8cda4dedb216fe4336ae4ba4"
          ]
        }
      },
      "source": [
        "# CIFAR-10 dataset\n",
        "train_dataset = torchvision.datasets.CIFAR10(root='../../data/',\n",
        "                                             train=True, \n",
        "                                             transform=transform,\n",
        "                                             download=True)\n",
        "\n",
        "test_dataset = torchvision.datasets.CIFAR10(root='../../data/',\n",
        "                                            train=False, \n",
        "                                            transform=transforms.ToTensor())"
      ],
      "execution_count": 12,
      "outputs": [
        {
          "output_type": "stream",
          "text": [
            "Downloading https://www.cs.toronto.edu/~kriz/cifar-10-python.tar.gz to ../../data/cifar-10-python.tar.gz\n"
          ],
          "name": "stdout"
        },
        {
          "output_type": "display_data",
          "data": {
            "application/vnd.jupyter.widget-view+json": {
              "model_id": "d1f7513318e2476e8b3e3f4bfa453092",
              "version_minor": 0,
              "version_major": 2
            },
            "text/plain": [
              "HBox(children=(IntProgress(value=1, bar_style='info', max=1), HTML(value='')))"
            ]
          },
          "metadata": {
            "tags": []
          }
        },
        {
          "output_type": "stream",
          "text": [
            "Extracting ../../data/cifar-10-python.tar.gz to ../../data/\n",
            "time: 15.6 s\n"
          ],
          "name": "stdout"
        }
      ]
    },
    {
      "cell_type": "code",
      "metadata": {
        "id": "78eYeI8H7eZi",
        "colab_type": "code",
        "outputId": "72e8d2f6-7bd5-4088-ffbc-12a3b6ff769f",
        "colab": {
          "base_uri": "https://localhost:8080/",
          "height": 34
        }
      },
      "source": [
        "# Data loader\n",
        "train_loader = torch.utils.data.DataLoader(dataset=train_dataset,\n",
        "                                           batch_size=32, \n",
        "                                           shuffle=True)\n",
        "\n",
        "test_loader = torch.utils.data.DataLoader(dataset=test_dataset,\n",
        "                                          batch_size=32, \n",
        "                                          shuffle=False)\n",
        "\n",
        "classes = ('plane', 'car', 'bird', 'cat',\n",
        "           'deer', 'dog', 'frog', 'horse', 'ship', 'truck')\n",
        "\n"
      ],
      "execution_count": 13,
      "outputs": [
        {
          "output_type": "stream",
          "text": [
            "time: 4.96 ms\n"
          ],
          "name": "stdout"
        }
      ]
    },
    {
      "cell_type": "code",
      "metadata": {
        "id": "7hW9WNjPii86",
        "colab_type": "code",
        "outputId": "40fb6286-560d-454f-c608-a18c4cf423af",
        "colab": {
          "base_uri": "https://localhost:8080/",
          "height": 254
        }
      },
      "source": [
        "# functions to show an image\n",
        "\n",
        "\n",
        "def imshow(img):\n",
        "    img = img / 2 + 0.5     # unnormalize\n",
        "    npimg = img.numpy()\n",
        "    plt.imshow(np.transpose(npimg, (1, 2, 0)))\n",
        "    plt.show()\n",
        "\n",
        "\n",
        "# get some random training images\n",
        "dataiter = iter(train_loader)\n",
        "images, labels = dataiter.next()\n",
        "\n",
        "# show images\n",
        "imshow(torchvision.utils.make_grid(images))\n",
        "# print labels\n",
        "print(' '.join('%5s' % classes[labels[j]] for j in range(4)))"
      ],
      "execution_count": 14,
      "outputs": [
        {
          "output_type": "display_data",
          "data": {
            "image/png": "[encoded data removed]",
            "text/plain": [
              "<Figure size 432x288 with 1 Axes>"
            ]
          },
          "metadata": {
            "tags": []
          }
        },
        {
          "output_type": "stream",
          "text": [
            " deer horse  ship   cat\n",
            "time: 338 ms\n"
          ],
          "name": "stdout"
        }
      ]
    },
    {
      "cell_type": "code",
      "metadata": {
        "id": "-YJAT2jCimio",
        "colab_type": "code",
        "outputId": "41ab672a-7c41-4512-afe3-e5a8bdb8f578",
        "colab": {
          "base_uri": "https://localhost:8080/",
          "height": 34
        }
      },
      "source": [
        "# 3x3 convolution\n",
        "def conv3x3(in_channels, out_channels, stride=1):\n",
        "    return nn.Conv2d(in_channels, out_channels, kernel_size=3, \n",
        "                     stride=stride, padding=1, bias=False)"
      ],
      "execution_count": 16,
      "outputs": [
        {
          "output_type": "stream",
          "text": [
            "time: 2.13 ms\n"
          ],
          "name": "stdout"
        }
      ]
    },
    {
      "cell_type": "code",
      "metadata": {
        "id": "xd6Th-OF7emh",
        "colab_type": "code",
        "outputId": "b13df9e2-9fef-4e54-fb08-65bda4fefa91",
        "colab": {
          "base_uri": "https://localhost:8080/",
          "height": 34
        }
      },
      "source": [
        "class BasicBlock(nn.Module):\n",
        "    expansion = 1\n",
        "\n",
        "    def __init__(self, in_planes, planes, stride=1):\n",
        "        super(BasicBlock, self).__init__()\n",
        "        dropout=0.25\n",
        "        dropout = 0 if dropout is None else dropout\n",
        "        self.conv1 = nn.Conv2d(in_planes, planes, kernel_size=3, stride=stride, padding=1, bias=False)\n",
        "        self.bn1 = nn.BatchNorm2d(planes)\n",
        "        self.conv2 = nn.Conv2d(planes, planes, kernel_size=3, stride=1, padding=1, bias=False)\n",
        "        self.bn2 = nn.BatchNorm2d(planes)\n",
        "        self.dropout = nn.Dropout(dropout)\n",
        "\n",
        "        self.shortcut = nn.Sequential()\n",
        "        if stride != 1 or in_planes != self.expansion*planes:\n",
        "            self.shortcut = nn.Sequential(\n",
        "                nn.Conv2d(in_planes, self.expansion*planes, kernel_size=1, stride=stride, bias=False),\n",
        "                nn.BatchNorm2d(self.expansion*planes)\n",
        "            )\n",
        "\n",
        "    def forward(self, x):\n",
        "        out = F.relu(self.bn1(self.conv1(x)))\n",
        "        out = self.bn2(self.conv2(out))\n",
        "        out = self.dropout(out)\n",
        "        out += self.shortcut(x)\n",
        "        out = F.relu(out)\n",
        "        \n",
        "        return out"
      ],
      "execution_count": 17,
      "outputs": [
        {
          "output_type": "stream",
          "text": [
            "time: 27.3 ms\n"
          ],
          "name": "stdout"
        }
      ]
    },
    {
      "cell_type": "code",
      "metadata": {
        "id": "J0_toKu87e3j",
        "colab_type": "code",
        "outputId": "1efd6dd7-69e5-4ced-839f-d83270aebbb0",
        "colab": {
          "base_uri": "https://localhost:8080/",
          "height": 34
        }
      },
      "source": [
        "class Bottleneck(nn.Module):\n",
        "    expansion = 4\n",
        "\n",
        "    def __init__(self, in_planes, planes, stride=1):\n",
        "        super(Bottleneck, self).__init__()\n",
        "        dropout=0.30\n",
        "        self.conv1 = nn.Conv2d(in_planes, planes, kernel_size=1, bias=False)\n",
        "        self.bn1 = nn.BatchNorm2d(planes)\n",
        "        self.conv2 = nn.Conv2d(planes, planes, kernel_size=3, stride=stride, padding=1, bias=False)\n",
        "        self.bn2 = nn.BatchNorm2d(planes)\n",
        "        self.conv3 = nn.Conv2d(planes, self.expansion*planes, kernel_size=1, bias=False)\n",
        "        self.bn3 = nn.BatchNorm2d(self.expansion*planes)\n",
        "        self.dropout = nn.Dropout(dropout)\n",
        "\n",
        "        self.shortcut = nn.Sequential()\n",
        "        if stride != 1 or in_planes != self.expansion*planes:\n",
        "            self.shortcut = nn.Sequential(\n",
        "                nn.Conv2d(in_planes, self.expansion*planes, kernel_size=1, stride=stride, bias=False),\n",
        "                nn.BatchNorm2d(self.expansion*planes)\n",
        "            )\n",
        "\n",
        "    def forward(self, x):\n",
        "        out = F.relu(self.bn1(self.conv1(x)))\n",
        "        out = F.relu(self.bn2(self.conv2(out)))\n",
        "        out = self.bn3(self.conv3(out))\n",
        "        out = self.dropout(out)\n",
        "        out += self.shortcut(x)\n",
        "        out = F.relu(out)\n",
        "        return out"
      ],
      "execution_count": 18,
      "outputs": [
        {
          "output_type": "stream",
          "text": [
            "time: 20.6 ms\n"
          ],
          "name": "stdout"
        }
      ]
    },
    {
      "cell_type": "code",
      "metadata": {
        "id": "HpFNWO6-7ejB",
        "colab_type": "code",
        "outputId": "af8f422c-c4fc-46e4-e33a-9cbc95c7c4dc",
        "colab": {
          "base_uri": "https://localhost:8080/",
          "height": 34
        }
      },
      "source": [
        "class ResNet(nn.Module):\n",
        "    def __init__(self, block, num_blocks, num_classes=10):\n",
        "        super(ResNet, self).__init__()\n",
        "        self.in_planes = 16\n",
        "\n",
        "        self.conv1 = nn.Conv2d(3, 16, kernel_size=3, stride=1, padding=1, bias=False)\n",
        "        self.bn1 = nn.BatchNorm2d(16)\n",
        "        self.layer1 = self._make_layer(block, 16, num_blocks[0], stride=1)\n",
        "        self.layer2 = self._make_layer(block, 32, num_blocks[1], stride=2)\n",
        "        self.layer3 = self._make_layer(block, 64, num_blocks[2], stride=2)\n",
        "        self.layer4 = self._make_layer(block, 128, num_blocks[3], stride=2)\n",
        "        self.linear = nn.Linear(128*block.expansion, num_classes)\n",
        "\n",
        "    def _make_layer(self, block, planes, num_blocks, stride):\n",
        "        strides = [stride] + [1]*(num_blocks-1)\n",
        "        layers = []\n",
        "        for stride in strides:\n",
        "            layers.append(block(self.in_planes, planes, stride))\n",
        "            self.in_planes = planes * block.expansion\n",
        "        return nn.Sequential(*layers)\n",
        "\n",
        "    def forward(self, x):\n",
        "        out = F.relu(self.bn1(self.conv1(x)))\n",
        "        out = self.layer1(out)\n",
        "        out = self.layer2(out)\n",
        "        out = self.layer3(out)\n",
        "        out = self.layer4(out)\n",
        "        out = F.avg_pool2d(out, 4)\n",
        "        out = out.view(out.size(0), -1)\n",
        "        out = self.linear(out)\n",
        "        return out"
      ],
      "execution_count": 19,
      "outputs": [
        {
          "output_type": "stream",
          "text": [
            "time: 24.4 ms\n"
          ],
          "name": "stdout"
        }
      ]
    },
    {
      "cell_type": "code",
      "metadata": {
        "id": "VivXxrw08DW7",
        "colab_type": "code",
        "outputId": "0527dd2e-ce9a-43c2-8099-3ecc93675f18",
        "colab": {
          "base_uri": "https://localhost:8080/",
          "height": 34
        }
      },
      "source": [
        "#RESNET-18\n",
        "model = ResNet(BasicBlock, [2,2,2,2]).to(device)\n",
        "#RESNET-34\n",
        "#model = ResNet(BasicBlock, [3,4,6,3]).to(device)\n",
        "#RESNET-50\n",
        "#model = ResNet(Bottleneck, [3,4,6,3]).to(device)\n",
        "#RESNET-101\n",
        "#model = ResNet(Bottleneck, [3,4,23,3]).to(device)\n",
        "#RESNET-152\n",
        "#model = ResNet(Bottleneck, [3,8,36,3]).to(device)\n"
      ],
      "execution_count": 20,
      "outputs": [
        {
          "output_type": "stream",
          "text": [
            "time: 9.1 s\n"
          ],
          "name": "stdout"
        }
      ]
    },
    {
      "cell_type": "code",
      "metadata": {
        "id": "EiyEBpKI8Dge",
        "colab_type": "code",
        "outputId": "53f86919-b15c-4f5f-aaf6-f4a83218d707",
        "colab": {
          "base_uri": "https://localhost:8080/",
          "height": 34
        }
      },
      "source": [
        "# Loss and optimizer\n",
        "criterion = nn.CrossEntropyLoss()\n",
        "optimizer = torch.optim.Adam(model.parameters(), lr=learning_rate)\n",
        "#optimizer = torch.optim.Adam(model.parameters(), lr=learning_rate,weight_decay=1e-5)\n",
        "#optimizer = torch.optim.Adam(model.parameters(), lr=learning_rate, momentum=0.9, weight_decay=5e-4)\n",
        "#optimizer = torch.optim.SGD(model.parameters(), lr=learning_rate, momentum=0.9, weight_decay=5e-4)\n",
        "#optimizer = torch.optim.SGD(model.parameters(), lr=learning_rate)\n",
        "\n",
        "# For updating learning rate\n",
        "def update_lr(optimizer, lr):    \n",
        "    for param_group in optimizer.param_groups:\n",
        "        param_group['lr'] = lr"
      ],
      "execution_count": 21,
      "outputs": [
        {
          "output_type": "stream",
          "text": [
            "time: 2.81 ms\n"
          ],
          "name": "stdout"
        }
      ]
    },
    {
      "cell_type": "code",
      "metadata": {
        "id": "dRNxNEUy8DeB",
        "colab_type": "code",
        "outputId": "19bd9bae-94d3-49ee-efff-088333ea9239",
        "colab": {
          "base_uri": "https://localhost:8080/",
          "height": 1000
        }
      },
      "source": [
        "# Train the model\n",
        "total_step = len(train_loader)\n",
        "curr_lr = learning_rate\n",
        "for epoch in range(num_epochs):\n",
        "    correct = 0\n",
        "    total = 0\n",
        "    for i,(images, labels) in enumerate(train_loader):\n",
        "        images = images.to(device)\n",
        "        labels = labels.to(device)\n",
        "\n",
        "        # Forward pass\n",
        "        outputs = model(images)\n",
        "        loss = criterion(outputs, labels)\n",
        "\n",
        "        # Backward and optimize\n",
        "        optimizer.zero_grad()\n",
        "        loss.backward()\n",
        "        optimizer.step()\n",
        "\n",
        "        _, predicted = torch.max(outputs.data, 1)\n",
        "        total += labels.size(0)\n",
        "        correct += (predicted == labels).sum().item()\n",
        "\n",
        "        #if (i+1) % 100 == 0:\n",
        "          \n",
        "    print (\"Epoch [{}/{}], Train Loss: {:.4f} Train Accuracy: {} %\"\n",
        "                   .format(epoch+1, num_epochs,  loss.item(),round((100 * correct / total),2)))\n",
        "\n",
        "    # Decay learning rate\n",
        "    if (epoch+1) % 20 == 0:\n",
        "        curr_lr /= 3\n",
        "        update_lr(optimizer, curr_lr)"
      ],
      "execution_count": 22,
      "outputs": [
        {
          "output_type": "stream",
          "text": [
            "Epoch [1/60], Train Loss: 1.4663 Train Accuracy: 26.84 %\n",
            "Epoch [2/60], Train Loss: 1.4507 Train Accuracy: 41.46 %\n",
            "Epoch [3/60], Train Loss: 1.3421 Train Accuracy: 49.27 %\n",
            "Epoch [4/60], Train Loss: 1.5191 Train Accuracy: 54.2 %\n",
            "Epoch [5/60], Train Loss: 0.6625 Train Accuracy: 57.85 %\n",
            "Epoch [6/60], Train Loss: 1.2084 Train Accuracy: 59.96 %\n",
            "Epoch [7/60], Train Loss: 0.8499 Train Accuracy: 61.61 %\n",
            "Epoch [8/60], Train Loss: 1.0428 Train Accuracy: 63.37 %\n",
            "Epoch [9/60], Train Loss: 0.6047 Train Accuracy: 64.57 %\n",
            "Epoch [10/60], Train Loss: 1.0818 Train Accuracy: 65.42 %\n",
            "Epoch [11/60], Train Loss: 1.2828 Train Accuracy: 66.64 %\n",
            "Epoch [12/60], Train Loss: 0.9719 Train Accuracy: 67.32 %\n",
            "Epoch [13/60], Train Loss: 1.8887 Train Accuracy: 68.06 %\n",
            "Epoch [14/60], Train Loss: 0.6527 Train Accuracy: 68.7 %\n",
            "Epoch [15/60], Train Loss: 0.5910 Train Accuracy: 69.39 %\n",
            "Epoch [16/60], Train Loss: 0.5249 Train Accuracy: 70.34 %\n",
            "Epoch [17/60], Train Loss: 1.3482 Train Accuracy: 70.92 %\n",
            "Epoch [18/60], Train Loss: 1.0845 Train Accuracy: 71.55 %\n",
            "Epoch [19/60], Train Loss: 1.2913 Train Accuracy: 71.74 %\n",
            "Epoch [20/60], Train Loss: 0.4528 Train Accuracy: 72.66 %\n",
            "Epoch [21/60], Train Loss: 1.2846 Train Accuracy: 75.15 %\n",
            "Epoch [22/60], Train Loss: 0.4239 Train Accuracy: 76.11 %\n",
            "Epoch [23/60], Train Loss: 0.4930 Train Accuracy: 76.59 %\n",
            "Epoch [24/60], Train Loss: 0.7866 Train Accuracy: 76.96 %\n",
            "Epoch [25/60], Train Loss: 0.6882 Train Accuracy: 76.93 %\n",
            "Epoch [26/60], Train Loss: 1.0022 Train Accuracy: 77.11 %\n",
            "Epoch [27/60], Train Loss: 0.4440 Train Accuracy: 77.67 %\n",
            "Epoch [28/60], Train Loss: 0.3299 Train Accuracy: 77.64 %\n",
            "Epoch [29/60], Train Loss: 0.6425 Train Accuracy: 78.08 %\n",
            "Epoch [30/60], Train Loss: 0.6561 Train Accuracy: 77.66 %\n",
            "Epoch [31/60], Train Loss: 0.6238 Train Accuracy: 77.82 %\n",
            "Epoch [32/60], Train Loss: 0.7581 Train Accuracy: 78.31 %\n",
            "Epoch [33/60], Train Loss: 0.3736 Train Accuracy: 78.54 %\n",
            "Epoch [34/60], Train Loss: 0.4688 Train Accuracy: 78.65 %\n",
            "Epoch [35/60], Train Loss: 0.9956 Train Accuracy: 78.69 %\n",
            "Epoch [36/60], Train Loss: 0.5578 Train Accuracy: 78.78 %\n",
            "Epoch [37/60], Train Loss: 0.4030 Train Accuracy: 78.94 %\n",
            "Epoch [38/60], Train Loss: 0.6554 Train Accuracy: 79.29 %\n",
            "Epoch [39/60], Train Loss: 0.5123 Train Accuracy: 79.47 %\n",
            "Epoch [40/60], Train Loss: 1.0926 Train Accuracy: 79.46 %\n",
            "Epoch [41/60], Train Loss: 0.3372 Train Accuracy: 80.2 %\n",
            "Epoch [42/60], Train Loss: 0.5104 Train Accuracy: 80.4 %\n",
            "Epoch [43/60], Train Loss: 0.3913 Train Accuracy: 80.67 %\n",
            "Epoch [44/60], Train Loss: 0.5292 Train Accuracy: 81.03 %\n",
            "Epoch [45/60], Train Loss: 0.6185 Train Accuracy: 80.85 %\n",
            "Epoch [46/60], Train Loss: 0.8662 Train Accuracy: 80.99 %\n",
            "Epoch [47/60], Train Loss: 0.4237 Train Accuracy: 81.1 %\n",
            "Epoch [48/60], Train Loss: 0.2242 Train Accuracy: 81.21 %\n",
            "Epoch [49/60], Train Loss: 0.5387 Train Accuracy: 81.1 %\n",
            "Epoch [50/60], Train Loss: 0.3499 Train Accuracy: 81.22 %\n",
            "Epoch [51/60], Train Loss: 0.3076 Train Accuracy: 81.2 %\n",
            "Epoch [52/60], Train Loss: 0.3601 Train Accuracy: 81.19 %\n",
            "Epoch [53/60], Train Loss: 0.3448 Train Accuracy: 81.55 %\n",
            "Epoch [54/60], Train Loss: 0.6769 Train Accuracy: 81.43 %\n",
            "Epoch [55/60], Train Loss: 0.3966 Train Accuracy: 81.67 %\n",
            "Epoch [56/60], Train Loss: 0.4311 Train Accuracy: 81.63 %\n",
            "Epoch [57/60], Train Loss: 0.3133 Train Accuracy: 81.46 %\n",
            "Epoch [58/60], Train Loss: 0.5163 Train Accuracy: 81.46 %\n",
            "Epoch [59/60], Train Loss: 0.6142 Train Accuracy: 81.75 %\n",
            "Epoch [60/60], Train Loss: 0.6801 Train Accuracy: 81.75 %\n",
            "time: 39min 39s\n"
          ],
          "name": "stdout"
        }
      ]
    },
    {
      "cell_type": "code",
      "metadata": {
        "id": "-2-vn6CLxSBq",
        "colab_type": "code",
        "outputId": "0fd44a1c-08bc-45da-e5fc-8fc9adee4139",
        "colab": {
          "base_uri": "https://localhost:8080/",
          "height": 85
        }
      },
      "source": [
        "import matplotlib.pyplot as plt\n",
        "import numpy as np\n",
        "\n",
        "def convert_to_imshow_format(image):\n",
        "    # first convert back to [0,1] range from [-1,1] range\n",
        "    image = image / 2 + 0.5\n",
        "    image = image.numpy()\n",
        "    # convert from CHW to HWC\n",
        "    # from 3x32x32 to 32x32x3\n",
        "    return image.transpose(1,2,0)\n",
        "\n",
        "dataiter = iter(train_loader)\n",
        "images, labels = dataiter.next()\n",
        "\n",
        "fig, axes = plt.subplots(1, len(images), figsize=(12,2.5))\n",
        "for idx, image in enumerate(images):\n",
        "    axes[idx].imshow(convert_to_imshow_format(image))\n",
        "    axes[idx].set_title(classes[labels[idx]])\n",
        "    axes[idx].set_xticks([])\n",
        "    axes[idx].set_yticks([])"
      ],
      "execution_count": 23,
      "outputs": [
        {
          "output_type": "display_data",
          "data": {
            "image/png": "[encoded data removed]",
            "text/plain": [
              "<Figure size 864x180 with 32 Axes>"
            ]
          },
          "metadata": {
            "tags": []
          }
        },
        {
          "output_type": "stream",
          "text": [
            "time: 841 ms\n"
          ],
          "name": "stdout"
        }
      ]
    },
    {
      "cell_type": "code",
      "metadata": {
        "id": "ytAhp0JWxCuV",
        "colab_type": "code",
        "outputId": "5a993c1b-9f2d-4f0c-94e1-d2c8ad740ebb",
        "colab": {
          "base_uri": "https://localhost:8080/",
          "height": 85
        }
      },
      "source": [
        "dataiter = iter(test_loader)\n",
        "images, labels = dataiter.next()\n",
        "\n",
        "fig, axes = plt.subplots(1, len(images), figsize=(12,2.5))\n",
        "for idx, image in enumerate(images):\n",
        "    axes[idx].imshow(convert_to_imshow_format(image))\n",
        "    axes[idx].set_title(classes[labels[idx]])\n",
        "    axes[idx].set_xticks([])\n",
        "    axes[idx].set_yticks([])"
      ],
      "execution_count": 24,
      "outputs": [
        {
          "output_type": "display_data",
          "data": {
            "image/png": "[encoded data removed]",
            "text/plain": [
              "<Figure size 864x180 with 32 Axes>"
            ]
          },
          "metadata": {
            "tags": []
          }
        },
        {
          "output_type": "stream",
          "text": [
            "time: 856 ms\n"
          ],
          "name": "stdout"
        }
      ]
    },
    {
      "cell_type": "code",
      "metadata": {
        "id": "4Bo-eyWBxn9T",
        "colab_type": "code",
        "outputId": "5b016687-60af-4f44-adda-744709a78794",
        "colab": {
          "base_uri": "https://localhost:8080/",
          "height": 34
        }
      },
      "source": [
        "images = images.to(device)\n",
        "labels = labels.to(device)\n",
        "outputs = model(images)"
      ],
      "execution_count": 25,
      "outputs": [
        {
          "output_type": "stream",
          "text": [
            "time: 13.5 ms\n"
          ],
          "name": "stdout"
        }
      ]
    },
    {
      "cell_type": "code",
      "metadata": {
        "id": "Wv_wo9I6yIMW",
        "colab_type": "code",
        "outputId": "e644bc2c-8931-4935-ab7c-5f51d537f417",
        "colab": {
          "base_uri": "https://localhost:8080/",
          "height": 34
        }
      },
      "source": [
        "sm = nn.Softmax(dim=1)\n",
        "sm_outputs = sm(outputs)"
      ],
      "execution_count": 26,
      "outputs": [
        {
          "output_type": "stream",
          "text": [
            "time: 10.9 ms\n"
          ],
          "name": "stdout"
        }
      ]
    },
    {
      "cell_type": "code",
      "metadata": {
        "id": "DfhHhpi2yO9q",
        "colab_type": "code",
        "outputId": "698acc6a-48e7-4ef9-9b9b-e42e2454a33c",
        "colab": {
          "base_uri": "https://localhost:8080/",
          "height": 578
        }
      },
      "source": [
        "probs, index = torch.max(sm_outputs, dim=1)\n",
        "\n",
        "for p, i in zip(probs, index):\n",
        "    print('{0} - {1:.4f}'.format(classes[i], p))"
      ],
      "execution_count": 27,
      "outputs": [
        {
          "output_type": "stream",
          "text": [
            "cat - 0.6220\n",
            "ship - 0.9987\n",
            "car - 0.6571\n",
            "plane - 0.9552\n",
            "frog - 0.8594\n",
            "frog - 0.9877\n",
            "car - 0.7714\n",
            "frog - 0.4334\n",
            "dog - 0.5313\n",
            "truck - 0.5414\n",
            "plane - 0.8785\n",
            "truck - 0.9999\n",
            "dog - 0.8232\n",
            "horse - 0.5350\n",
            "truck - 0.9918\n",
            "frog - 0.5999\n",
            "dog - 0.7893\n",
            "horse - 0.7688\n",
            "ship - 1.0000\n",
            "frog - 0.9951\n",
            "horse - 0.8734\n",
            "plane - 0.9179\n",
            "deer - 0.9134\n",
            "truck - 0.9981\n",
            "deer - 0.8721\n",
            "horse - 0.4120\n",
            "bird - 0.6772\n",
            "plane - 0.8746\n",
            "truck - 0.9978\n",
            "frog - 0.9452\n",
            "frog - 0.8663\n",
            "dog - 0.6766\n",
            "time: 12.3 ms\n"
          ],
          "name": "stdout"
        }
      ]
    },
    {
      "cell_type": "code",
      "metadata": {
        "id": "RiZftaxHyShZ",
        "colab_type": "code",
        "outputId": "237dc628-71fa-4127-a7bf-fe0cb2763252",
        "colab": {
          "base_uri": "https://localhost:8080/",
          "height": 51
        }
      },
      "source": [
        "total_correct = 0\n",
        "total_images = 0\n",
        "confusion_matrix = np.zeros([10,10], int)\n",
        "with torch.no_grad():\n",
        "    for data in test_loader:\n",
        "        images, labels = data\n",
        "        images = images.to(device)\n",
        "        labels = labels.to(device)\n",
        "        outputs = model(images)\n",
        "        _, predicted = torch.max(outputs.data, 1)\n",
        "        total_images += labels.size(0)\n",
        "        total_correct += (predicted == labels).sum().item()\n",
        "        for i, l in enumerate(labels):\n",
        "            confusion_matrix[l.item(), predicted[i].item()] += 1 \n",
        "\n",
        "model_accuracy = total_correct / total_images * 100\n",
        "print('Model accuracy on {0} test images: {1:.2f}%'.format(total_images, model_accuracy))"
      ],
      "execution_count": 28,
      "outputs": [
        {
          "output_type": "stream",
          "text": [
            "Model accuracy on 10000 test images: 79.88%\n",
            "time: 2.49 s\n"
          ],
          "name": "stdout"
        }
      ]
    },
    {
      "cell_type": "code",
      "metadata": {
        "id": "6v5gH5D6y0sZ",
        "colab_type": "code",
        "outputId": "ef861ce8-0892-4fb6-a3cb-59fc52d1e510",
        "colab": {
          "base_uri": "https://localhost:8080/",
          "height": 221
        }
      },
      "source": [
        "print('{0:10s} - {1}'.format('Category','Accuracy'))\n",
        "for i, r in enumerate(confusion_matrix):\n",
        "    print('{0:10s} - {1:.1f}'.format(classes[i], r[i]/np.sum(r)*100))"
      ],
      "execution_count": 29,
      "outputs": [
        {
          "output_type": "stream",
          "text": [
            "Category   - Accuracy\n",
            "plane      - 82.0\n",
            "car        - 89.4\n",
            "bird       - 71.2\n",
            "cat        - 63.7\n",
            "deer       - 80.2\n",
            "dog        - 66.5\n",
            "frog       - 84.9\n",
            "horse      - 81.8\n",
            "ship       - 89.2\n",
            "truck      - 89.9\n",
            "time: 2.48 ms\n"
          ],
          "name": "stdout"
        }
      ]
    },
    {
      "cell_type": "code",
      "metadata": {
        "id": "UHszLmdNy5v_",
        "colab_type": "code",
        "outputId": "a3057a71-5a9d-42de-bf78-258a35e8f4aa",
        "colab": {
          "base_uri": "https://localhost:8080/",
          "height": 405
        }
      },
      "source": [
        "fig, ax = plt.subplots(1,1,figsize=(8,6))\n",
        "ax.matshow(confusion_matrix, aspect='auto', vmin=0, vmax=1000, cmap=plt.get_cmap('Blues'))\n",
        "plt.ylabel('Actual Category')\n",
        "plt.yticks(range(10), classes)\n",
        "plt.xlabel('Predicted Category')\n",
        "plt.xticks(range(10), classes)\n",
        "plt.show()"
      ],
      "execution_count": 30,
      "outputs": [
        {
          "output_type": "display_data",
          "data": {
            "image/png": "[encoded data removed]",
            "text/plain": [
              "<Figure size 576x432 with 1 Axes>"
            ]
          },
          "metadata": {
            "tags": []
          }
        },
        {
          "output_type": "stream",
          "text": [
            "time: 142 ms\n"
          ],
          "name": "stdout"
        }
      ]
    },
    {
      "cell_type": "code",
      "metadata": {
        "id": "6GgvDmpGzEfH",
        "colab_type": "code",
        "outputId": "0345ffe7-22f3-48a6-9a44-973c8bc93e24",
        "colab": {
          "base_uri": "https://localhost:8080/",
          "height": 391
        }
      },
      "source": [
        "print('actual/pred'.ljust(16), end='')\n",
        "for i,c in enumerate(classes):\n",
        "    print(c.ljust(10), end='')\n",
        "print()\n",
        "for i,r in enumerate(confusion_matrix):\n",
        "    print(classes[i].ljust(16), end='')\n",
        "    for idx, p in enumerate(r):\n",
        "        print(str(p).ljust(10), end='')\n",
        "    print()\n",
        "    \n",
        "    r = r/np.sum(r)\n",
        "    print(''.ljust(16), end='')\n",
        "    for idx, p in enumerate(r):\n",
        "        print(str(p).ljust(10), end='')\n",
        "    print()"
      ],
      "execution_count": 31,
      "outputs": [
        {
          "output_type": "stream",
          "text": [
            "actual/pred     plane     car       bird      cat       deer      dog       frog      horse     ship      truck     \n",
            "plane           820       9         39        17        7         1         2         8         76        21        \n",
            "                0.82      0.009     0.039     0.017     0.007     0.001     0.002     0.008     0.076     0.021     \n",
            "car             14        894       2         2         0         1         0         0         21        66        \n",
            "                0.014     0.894     0.002     0.002     0.0       0.001     0.0       0.0       0.021     0.066     \n",
            "bird            56        6         712       47        69        21        61        14        14        0         \n",
            "                0.056     0.006     0.712     0.047     0.069     0.021     0.061     0.014     0.014     0.0       \n",
            "cat             19        4         55        637       53        124       57        27        10        14        \n",
            "                0.019     0.004     0.055     0.637     0.053     0.124     0.057     0.027     0.01      0.014     \n",
            "deer            13        2         45        29        802       13        32        54        6         4         \n",
            "                0.013     0.002     0.045     0.029     0.802     0.013     0.032     0.054     0.006     0.004     \n",
            "dog             6         4         30        171       47        665       19        45        5         8         \n",
            "                0.006     0.004     0.03      0.171     0.047     0.665     0.019     0.045     0.005     0.008     \n",
            "frog            8         5         35        38        40        13        849       5         4         3         \n",
            "                0.008     0.005     0.035     0.038     0.04      0.013     0.849     0.005     0.004     0.003     \n",
            "horse           21        1         13        56        49        30        3         818       5         4         \n",
            "                0.021     0.001     0.013     0.056     0.049     0.03      0.003     0.818     0.005     0.004     \n",
            "ship            52        11        13        5         4         0         3         2         892       18        \n",
            "                0.052     0.011     0.013     0.005     0.004     0.0       0.003     0.002     0.892     0.018     \n",
            "truck           21        36        5         9         1         1         2         5         21        899       \n",
            "                0.021     0.036     0.005     0.009     0.001     0.001     0.002     0.005     0.021     0.899     \n",
            "time: 20.4 ms\n"
          ],
          "name": "stdout"
        }
      ]
    },
    {
      "cell_type": "code",
      "metadata": {
        "id": "pZ5U1tkZ7ecu",
        "colab_type": "code",
        "outputId": "32d9cf31-001b-4b83-ce9e-9c25285ac855",
        "colab": {
          "base_uri": "https://localhost:8080/",
          "height": 34
        }
      },
      "source": [
        "# Save the model checkpoint\n",
        "torch.save(model.state_dict(), 'resnet.ckpt')"
      ],
      "execution_count": 32,
      "outputs": [
        {
          "output_type": "stream",
          "text": [
            "time: 25.9 ms\n"
          ],
          "name": "stdout"
        }
      ]
    },
    {
      "cell_type": "code",
      "metadata": {
        "id": "2x-t3dD2-H5A",
        "colab_type": "code",
        "outputId": "ac60296f-dd40-4616-f112-7f5ceeb3cdf3",
        "colab": {
          "base_uri": "https://localhost:8080/",
          "height": 34
        }
      },
      "source": [
        "pytorch_total_params = sum(p.numel() for p in model.parameters())\n",
        "pytorch_total_params"
      ],
      "execution_count": 33,
      "outputs": [
        {
          "output_type": "execute_result",
          "data": {
            "text/plain": [
              "701466"
            ]
          },
          "metadata": {
            "tags": []
          },
          "execution_count": 33
        },
        {
          "output_type": "stream",
          "text": [
            "time: 3.57 ms\n"
          ],
          "name": "stdout"
        }
      ]
    }
  ]
}