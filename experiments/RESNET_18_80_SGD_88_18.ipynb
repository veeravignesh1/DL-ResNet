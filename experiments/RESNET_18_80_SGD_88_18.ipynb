{
  "nbformat": 4,
  "nbformat_minor": 0,
  "metadata": {
    "colab": {
      "name": "RESNET_18_80_SGD_88.18.ipynb",
      "provenance": [],
      "collapsed_sections": []
    },
    "kernelspec": {
      "name": "python3",
      "display_name": "Python 3"
    },
    "accelerator": "GPU",
    "widgets": {
      "application/vnd.jupyter.widget-state+json": {
        "974882630a2c49bf9bf007ee4008963f": {
          "model_module": "@jupyter-widgets/controls",
          "model_name": "HBoxModel",
          "state": {
            "_view_name": "HBoxView",
            "_dom_classes": [],
            "_model_name": "HBoxModel",
            "_view_module": "@jupyter-widgets/controls",
            "_model_module_version": "1.5.0",
            "_view_count": null,
            "_view_module_version": "1.5.0",
            "box_style": "",
            "layout": "IPY_MODEL_6c248ad0d539492089e7076627d24d72",
            "_model_module": "@jupyter-widgets/controls",
            "children": [
              "IPY_MODEL_1d271f86838f44829dda43b3038077bb",
              "IPY_MODEL_68f73f740805441d8afca9130202e292"
            ]
          }
        },
        "6c248ad0d539492089e7076627d24d72": {
          "model_module": "@jupyter-widgets/base",
          "model_name": "LayoutModel",
          "state": {
            "_view_name": "LayoutView",
            "grid_template_rows": null,
            "right": null,
            "justify_content": null,
            "_view_module": "@jupyter-widgets/base",
            "overflow": null,
            "_model_module_version": "1.2.0",
            "_view_count": null,
            "flex_flow": null,
            "width": null,
            "min_width": null,
            "border": null,
            "align_items": null,
            "bottom": null,
            "_model_module": "@jupyter-widgets/base",
            "top": null,
            "grid_column": null,
            "overflow_y": null,
            "overflow_x": null,
            "grid_auto_flow": null,
            "grid_area": null,
            "grid_template_columns": null,
            "flex": null,
            "_model_name": "LayoutModel",
            "justify_items": null,
            "grid_row": null,
            "max_height": null,
            "align_content": null,
            "visibility": null,
            "align_self": null,
            "height": null,
            "min_height": null,
            "padding": null,
            "grid_auto_rows": null,
            "grid_gap": null,
            "max_width": null,
            "order": null,
            "_view_module_version": "1.2.0",
            "grid_template_areas": null,
            "object_position": null,
            "object_fit": null,
            "grid_auto_columns": null,
            "margin": null,
            "display": null,
            "left": null
          }
        },
        "1d271f86838f44829dda43b3038077bb": {
          "model_module": "@jupyter-widgets/controls",
          "model_name": "IntProgressModel",
          "state": {
            "_view_name": "ProgressView",
            "style": "IPY_MODEL_e37e7e7397ff49199e51631c99dfd5f1",
            "_dom_classes": [],
            "description": "",
            "_model_name": "IntProgressModel",
            "bar_style": "info",
            "max": 1,
            "_view_module": "@jupyter-widgets/controls",
            "_model_module_version": "1.5.0",
            "value": 1,
            "_view_count": null,
            "_view_module_version": "1.5.0",
            "orientation": "horizontal",
            "min": 0,
            "description_tooltip": null,
            "_model_module": "@jupyter-widgets/controls",
            "layout": "IPY_MODEL_82f16120b5c54c699a2f49a7b9b6680d"
          }
        },
        "68f73f740805441d8afca9130202e292": {
          "model_module": "@jupyter-widgets/controls",
          "model_name": "HTMLModel",
          "state": {
            "_view_name": "HTMLView",
            "style": "IPY_MODEL_47f7a0025f114848bf96cd1de338dd49",
            "_dom_classes": [],
            "description": "",
            "_model_name": "HTMLModel",
            "placeholder": "​",
            "_view_module": "@jupyter-widgets/controls",
            "_model_module_version": "1.5.0",
            "value": " 170500096/? [00:20&lt;00:00, 31450768.13it/s]",
            "_view_count": null,
            "_view_module_version": "1.5.0",
            "description_tooltip": null,
            "_model_module": "@jupyter-widgets/controls",
            "layout": "IPY_MODEL_c4a1aacf0d064b5ca1f011961e2490e0"
          }
        },
        "e37e7e7397ff49199e51631c99dfd5f1": {
          "model_module": "@jupyter-widgets/controls",
          "model_name": "ProgressStyleModel",
          "state": {
            "_view_name": "StyleView",
            "_model_name": "ProgressStyleModel",
            "description_width": "initial",
            "_view_module": "@jupyter-widgets/base",
            "_model_module_version": "1.5.0",
            "_view_count": null,
            "_view_module_version": "1.2.0",
            "bar_color": null,
            "_model_module": "@jupyter-widgets/controls"
          }
        },
        "82f16120b5c54c699a2f49a7b9b6680d": {
          "model_module": "@jupyter-widgets/base",
          "model_name": "LayoutModel",
          "state": {
            "_view_name": "LayoutView",
            "grid_template_rows": null,
            "right": null,
            "justify_content": null,
            "_view_module": "@jupyter-widgets/base",
            "overflow": null,
            "_model_module_version": "1.2.0",
            "_view_count": null,
            "flex_flow": null,
            "width": null,
            "min_width": null,
            "border": null,
            "align_items": null,
            "bottom": null,
            "_model_module": "@jupyter-widgets/base",
            "top": null,
            "grid_column": null,
            "overflow_y": null,
            "overflow_x": null,
            "grid_auto_flow": null,
            "grid_area": null,
            "grid_template_columns": null,
            "flex": null,
            "_model_name": "LayoutModel",
            "justify_items": null,
            "grid_row": null,
            "max_height": null,
            "align_content": null,
            "visibility": null,
            "align_self": null,
            "height": null,
            "min_height": null,
            "padding": null,
            "grid_auto_rows": null,
            "grid_gap": null,
            "max_width": null,
            "order": null,
            "_view_module_version": "1.2.0",
            "grid_template_areas": null,
            "object_position": null,
            "object_fit": null,
            "grid_auto_columns": null,
            "margin": null,
            "display": null,
            "left": null
          }
        },
        "47f7a0025f114848bf96cd1de338dd49": {
          "model_module": "@jupyter-widgets/controls",
          "model_name": "DescriptionStyleModel",
          "state": {
            "_view_name": "StyleView",
            "_model_name": "DescriptionStyleModel",
            "description_width": "",
            "_view_module": "@jupyter-widgets/base",
            "_model_module_version": "1.5.0",
            "_view_count": null,
            "_view_module_version": "1.2.0",
            "_model_module": "@jupyter-widgets/controls"
          }
        },
        "c4a1aacf0d064b5ca1f011961e2490e0": {
          "model_module": "@jupyter-widgets/base",
          "model_name": "LayoutModel",
          "state": {
            "_view_name": "LayoutView",
            "grid_template_rows": null,
            "right": null,
            "justify_content": null,
            "_view_module": "@jupyter-widgets/base",
            "overflow": null,
            "_model_module_version": "1.2.0",
            "_view_count": null,
            "flex_flow": null,
            "width": null,
            "min_width": null,
            "border": null,
            "align_items": null,
            "bottom": null,
            "_model_module": "@jupyter-widgets/base",
            "top": null,
            "grid_column": null,
            "overflow_y": null,
            "overflow_x": null,
            "grid_auto_flow": null,
            "grid_area": null,
            "grid_template_columns": null,
            "flex": null,
            "_model_name": "LayoutModel",
            "justify_items": null,
            "grid_row": null,
            "max_height": null,
            "align_content": null,
            "visibility": null,
            "align_self": null,
            "height": null,
            "min_height": null,
            "padding": null,
            "grid_auto_rows": null,
            "grid_gap": null,
            "max_width": null,
            "order": null,
            "_view_module_version": "1.2.0",
            "grid_template_areas": null,
            "object_position": null,
            "object_fit": null,
            "grid_auto_columns": null,
            "margin": null,
            "display": null,
            "left": null
          }
        }
      }
    }
  },
  "cells": [
    {
      "cell_type": "code",
      "metadata": {
        "id": "sJZZ9hNj7Ys1",
        "colab_type": "code",
        "outputId": "a90d9409-7e75-46ce-d3f6-39f10556a1e3",
        "colab": {
          "base_uri": "https://localhost:8080/",
          "height": 190
        }
      },
      "source": [
        "# ---------------------------------------------------------------------------- #\n",
        "# An implementation of https://arxiv.org/pdf/1512.03385.pdf                    #\n",
        "# See section 4.2 for the model architecture on CIFAR-10                       #\n",
        "# Some part of the code was referenced from below                              #\n",
        "# https://github.com/pytorch/vision/blob/master/torchvision/models/resnet.py   #\n",
        "# ---------------------------------------------------------------------------- #\n",
        "!pip install ipython-autotime\n",
        "%load_ext autotime\n",
        "import matplotlib.pyplot as plt\n",
        "import numpy as np\n",
        "import torch\n",
        "import torch.nn as nn\n",
        "import torch.nn.functional as F\n",
        "import torchvision\n",
        "import torchvision.transforms as transforms\n",
        "\n",
        "\n",
        "# Device configuration\n",
        "device = torch.device('cuda' if torch.cuda.is_available() else 'cpu')\n",
        "\n"
      ],
      "execution_count": 1,
      "outputs": [
        {
          "output_type": "stream",
          "text": [
            "Collecting ipython-autotime\n",
            "  Downloading https://files.pythonhosted.org/packages/e6/f9/0626bbdb322e3a078d968e87e3b01341e7890544de891d0cb613641220e6/ipython-autotime-0.1.tar.bz2\n",
            "Building wheels for collected packages: ipython-autotime\n",
            "  Building wheel for ipython-autotime (setup.py) ... \u001b[?25l\u001b[?25hdone\n",
            "  Created wheel for ipython-autotime: filename=ipython_autotime-0.1-cp36-none-any.whl size=1832 sha256=e38bb476d6b03c8f45b949b484d8b243950fcdccc082a185e7ca8d2041cb15df\n",
            "  Stored in directory: /root/.cache/pip/wheels/d2/df/81/2db1e54bc91002cec40334629bc39cfa86dff540b304ebcd6e\n",
            "Successfully built ipython-autotime\n",
            "Installing collected packages: ipython-autotime\n",
            "Successfully installed ipython-autotime-0.1\n"
          ],
          "name": "stdout"
        }
      ]
    },
    {
      "cell_type": "code",
      "metadata": {
        "id": "ixieggsE7eQR",
        "colab_type": "code",
        "outputId": "705fa859-8f0c-4951-8419-069c30b3d8e3",
        "colab": {
          "base_uri": "https://localhost:8080/",
          "height": 34
        }
      },
      "source": [
        "# Hyper-parameters\n",
        "num_epochs = 80\n",
        "learning_rate = 0.01\n",
        "batch_size=512"
      ],
      "execution_count": 2,
      "outputs": [
        {
          "output_type": "stream",
          "text": [
            "time: 1.39 ms\n"
          ],
          "name": "stdout"
        }
      ]
    },
    {
      "cell_type": "code",
      "metadata": {
        "id": "-RJoy91C7eTd",
        "colab_type": "code",
        "outputId": "b33dd8ae-b04a-4bf1-cf47-ea969e1458ff",
        "colab": {
          "base_uri": "https://localhost:8080/",
          "height": 34
        }
      },
      "source": [
        "# Image preprocessing modules\n",
        "transform = transforms.Compose([\n",
        "    transforms.Pad(4),\n",
        "    transforms.RandomHorizontalFlip(),\n",
        "    transforms.RandomCrop(32),\n",
        "    #transforms.ColorJitter(brightness=0, contrast=0, saturation=0, hue=0),\n",
        "    #transforms.RandomRotation(degrees=[-10,10], resample=False, expand=False, center=None, fill=0),\n",
        "    transforms.ToTensor(),\n",
        "    transforms.Normalize((0.4914, 0.4822, 0.4465), (0.2023, 0.1994, 0.2010)),\n",
        "    #transforms.Normalize((0.5, 0.5, 0.5), (0.5, 0.5, 0.5))\n",
        "    ])"
      ],
      "execution_count": 3,
      "outputs": [
        {
          "output_type": "stream",
          "text": [
            "time: 4.58 ms\n"
          ],
          "name": "stdout"
        }
      ]
    },
    {
      "cell_type": "code",
      "metadata": {
        "id": "AKqgCvcN3G86",
        "colab_type": "code",
        "colab": {}
      },
      "source": [
        "#transform_train = transforms.Compose([\n",
        "#    transforms.RandomCrop(32, padding=4),\n",
        "#    transforms.RandomHorizontalFlip(),\n",
        "#    transforms.ToTensor(),\n",
        "#    transforms.Normalize((0.4914, 0.4822, 0.4465), (0.2023, 0.1994, 0.2010)),\n",
        "#])\n",
        "\n",
        "transform_test = transforms.Compose([\n",
        "    transforms.ToTensor(),\n",
        "    transforms.Normalize((0.4914, 0.4822, 0.4465), (0.2023, 0.1994, 0.2010)),\n",
        "])\n"
      ],
      "execution_count": 0,
      "outputs": []
    },
    {
      "cell_type": "code",
      "metadata": {
        "id": "4vFQ-c_D7eWp",
        "colab_type": "code",
        "outputId": "2046302a-3ae5-4a20-80a1-384351a81cdb",
        "colab": {
          "base_uri": "https://localhost:8080/",
          "height": 100,
          "referenced_widgets": [
            "974882630a2c49bf9bf007ee4008963f",
            "6c248ad0d539492089e7076627d24d72",
            "1d271f86838f44829dda43b3038077bb",
            "68f73f740805441d8afca9130202e292",
            "e37e7e7397ff49199e51631c99dfd5f1",
            "82f16120b5c54c699a2f49a7b9b6680d",
            "47f7a0025f114848bf96cd1de338dd49",
            "c4a1aacf0d064b5ca1f011961e2490e0"
          ]
        }
      },
      "source": [
        "# CIFAR-10 dataset\n",
        "train_dataset = torchvision.datasets.CIFAR10(root='../../data/',\n",
        "                                             train=True, \n",
        "                                             transform=transform,\n",
        "                                             download=True)\n",
        "\n",
        "test_dataset = torchvision.datasets.CIFAR10(root='../../data/',\n",
        "                                            train=False, \n",
        "                                            transform=transform_test)"
      ],
      "execution_count": 4,
      "outputs": [
        {
          "output_type": "stream",
          "text": [
            "Downloading https://www.cs.toronto.edu/~kriz/cifar-10-python.tar.gz to ../../data/cifar-10-python.tar.gz\n"
          ],
          "name": "stdout"
        },
        {
          "output_type": "display_data",
          "data": {
            "application/vnd.jupyter.widget-view+json": {
              "model_id": "974882630a2c49bf9bf007ee4008963f",
              "version_minor": 0,
              "version_major": 2
            },
            "text/plain": [
              "HBox(children=(IntProgress(value=1, bar_style='info', max=1), HTML(value='')))"
            ]
          },
          "metadata": {
            "tags": []
          }
        },
        {
          "output_type": "stream",
          "text": [
            "Extracting ../../data/cifar-10-python.tar.gz to ../../data/\n",
            "time: 9.87 s\n"
          ],
          "name": "stdout"
        }
      ]
    },
    {
      "cell_type": "code",
      "metadata": {
        "id": "78eYeI8H7eZi",
        "colab_type": "code",
        "outputId": "4a5cfb4a-f193-44d5-cbc4-a83e7ce623c4",
        "colab": {
          "base_uri": "https://localhost:8080/",
          "height": 34
        }
      },
      "source": [
        "# Data loader\n",
        "train_loader = torch.utils.data.DataLoader(dataset=train_dataset,\n",
        "                                           batch_size=batch_size, \n",
        "                                           shuffle=True)\n",
        "\n",
        "test_loader = torch.utils.data.DataLoader(dataset=test_dataset,\n",
        "                                          batch_size=batch_size, \n",
        "                                          shuffle=False)\n",
        "\n",
        "classes = ('plane', 'car', 'bird', 'cat',\n",
        "           'deer', 'dog', 'frog', 'horse', 'ship', 'truck')\n",
        "\n"
      ],
      "execution_count": 5,
      "outputs": [
        {
          "output_type": "stream",
          "text": [
            "time: 5.18 ms\n"
          ],
          "name": "stdout"
        }
      ]
    },
    {
      "cell_type": "code",
      "metadata": {
        "id": "7hW9WNjPii86",
        "colab_type": "code",
        "outputId": "c661b114-0795-486e-fd71-e4a036b4c687",
        "colab": {
          "base_uri": "https://localhost:8080/",
          "height": 303
        }
      },
      "source": [
        "# functions to show an image\n",
        "\n",
        "\n",
        "def imshow(img):\n",
        "    img = img / 2 + 0.5     # unnormalize\n",
        "    npimg = img.numpy()\n",
        "    plt.imshow(np.transpose(npimg, (1, 2, 0)))\n",
        "    plt.show()\n",
        "\n",
        "\n",
        "# get some random training images\n",
        "dataiter = iter(train_loader)\n",
        "images, labels = dataiter.next()\n",
        "\n",
        "# show images\n",
        "imshow(torchvision.utils.make_grid(images))\n",
        "# print labels\n",
        "print(' '.join('%5s' % classes[labels[j]] for j in range(4)))"
      ],
      "execution_count": 6,
      "outputs": [
        {
          "output_type": "display_data",
          "data": {
            "image/png": "[encoded data removed]",
            "text/plain": [
              "<Figure size 432x288 with 1 Axes>"
            ]
          },
          "metadata": {
            "tags": []
          }
        },
        {
          "output_type": "stream",
          "text": [
            " ship horse   car truck\n",
            "time: 656 ms\n"
          ],
          "name": "stdout"
        }
      ]
    },
    {
      "cell_type": "code",
      "metadata": {
        "id": "-YJAT2jCimio",
        "colab_type": "code",
        "outputId": "26cd067d-d18f-47dd-a296-b04166ffb1cc",
        "colab": {
          "base_uri": "https://localhost:8080/",
          "height": 34
        }
      },
      "source": [
        "# 3x3 convolution\n",
        "def conv3x3(in_channels, out_channels, stride=1):\n",
        "    return nn.Conv2d(in_channels, out_channels, kernel_size=3, \n",
        "                     stride=stride, padding=1, bias=False)"
      ],
      "execution_count": 7,
      "outputs": [
        {
          "output_type": "stream",
          "text": [
            "time: 1.6 ms\n"
          ],
          "name": "stdout"
        }
      ]
    },
    {
      "cell_type": "code",
      "metadata": {
        "id": "xd6Th-OF7emh",
        "colab_type": "code",
        "outputId": "ec5fc2e6-dc6c-47d9-e32e-26aac4e4c3ec",
        "colab": {
          "base_uri": "https://localhost:8080/",
          "height": 34
        }
      },
      "source": [
        "class BasicBlock(nn.Module):\n",
        "    expansion = 1\n",
        "\n",
        "    def __init__(self, in_planes, planes, stride=1):\n",
        "        super(BasicBlock, self).__init__()\n",
        "        #dropout=0.4\n",
        "        #dropout = 0 if dropout is None else dropout\n",
        "        self.conv1 = nn.Conv2d(in_planes, planes, kernel_size=3, stride=stride, padding=1, bias=False)\n",
        "        self.bn1 = nn.BatchNorm2d(planes)\n",
        "        self.conv2 = nn.Conv2d(planes, planes, kernel_size=3, stride=1, padding=1, bias=False)\n",
        "        self.bn2 = nn.BatchNorm2d(planes)\n",
        "        #self.dropout = nn.Dropout(dropout)\n",
        "\n",
        "        self.shortcut = nn.Sequential()\n",
        "        if stride != 1 or in_planes != self.expansion*planes:\n",
        "            self.shortcut = nn.Sequential(\n",
        "                nn.Conv2d(in_planes, self.expansion*planes, kernel_size=1, stride=stride, bias=False),\n",
        "                nn.BatchNorm2d(self.expansion*planes)\n",
        "            )\n",
        "\n",
        "    def forward(self, x):\n",
        "        out = F.relu(self.bn1(self.conv1(x)))\n",
        "        out = self.bn2(self.conv2(out))\n",
        "        #out = self.dropout(out)\n",
        "        out += self.shortcut(x)\n",
        "        out = F.relu(out)\n",
        "        \n",
        "        return out"
      ],
      "execution_count": 8,
      "outputs": [
        {
          "output_type": "stream",
          "text": [
            "time: 20.2 ms\n"
          ],
          "name": "stdout"
        }
      ]
    },
    {
      "cell_type": "code",
      "metadata": {
        "id": "J0_toKu87e3j",
        "colab_type": "code",
        "outputId": "2d628526-9a7c-4b0d-ea5f-f6e182774e74",
        "colab": {
          "base_uri": "https://localhost:8080/",
          "height": 34
        }
      },
      "source": [
        "class Bottleneck(nn.Module):\n",
        "    expansion = 4\n",
        "\n",
        "    def __init__(self, in_planes, planes, stride=1):\n",
        "        super(Bottleneck, self).__init__()\n",
        "        dropout=0.30\n",
        "        self.conv1 = nn.Conv2d(in_planes, planes, kernel_size=1, bias=False)\n",
        "        self.bn1 = nn.BatchNorm2d(planes)\n",
        "        self.conv2 = nn.Conv2d(planes, planes, kernel_size=3, stride=stride, padding=1, bias=False)\n",
        "        self.bn2 = nn.BatchNorm2d(planes)\n",
        "        self.conv3 = nn.Conv2d(planes, self.expansion*planes, kernel_size=1, bias=False)\n",
        "        self.bn3 = nn.BatchNorm2d(self.expansion*planes)\n",
        "        self.dropout = nn.Dropout(dropout)\n",
        "\n",
        "        self.shortcut = nn.Sequential()\n",
        "        if stride != 1 or in_planes != self.expansion*planes:\n",
        "            self.shortcut = nn.Sequential(\n",
        "                nn.Conv2d(in_planes, self.expansion*planes, kernel_size=1, stride=stride, bias=False),\n",
        "                nn.BatchNorm2d(self.expansion*planes)\n",
        "            )\n",
        "\n",
        "    def forward(self, x):\n",
        "        out = F.relu(self.bn1(self.conv1(x)))\n",
        "        out = F.relu(self.bn2(self.conv2(out)))\n",
        "        out = self.bn3(self.conv3(out))\n",
        "        out = self.dropout(out)\n",
        "        out += self.shortcut(x)\n",
        "        out = F.relu(out)\n",
        "        return out"
      ],
      "execution_count": 9,
      "outputs": [
        {
          "output_type": "stream",
          "text": [
            "time: 19.4 ms\n"
          ],
          "name": "stdout"
        }
      ]
    },
    {
      "cell_type": "code",
      "metadata": {
        "id": "HpFNWO6-7ejB",
        "colab_type": "code",
        "outputId": "3214f30a-06dd-4f04-a6d5-aad79ae5d5bf",
        "colab": {
          "base_uri": "https://localhost:8080/",
          "height": 34
        }
      },
      "source": [
        "class ResNet(nn.Module):\n",
        "    def __init__(self, block, num_blocks, num_classes=10):\n",
        "        super(ResNet, self).__init__()\n",
        "        self.in_planes = 16\n",
        "\n",
        "        self.conv1 = nn.Conv2d(3, 16, kernel_size=3, stride=1, padding=1, bias=False)\n",
        "        self.bn1 = nn.BatchNorm2d(16)\n",
        "        self.layer1 = self._make_layer(block, 16, num_blocks[0], stride=1)\n",
        "        self.layer2 = self._make_layer(block, 32, num_blocks[1], stride=2)\n",
        "        self.layer3 = self._make_layer(block, 64, num_blocks[2], stride=2)\n",
        "        self.layer4 = self._make_layer(block, 128, num_blocks[3], stride=2)\n",
        "        self.linear = nn.Linear(128*block.expansion, num_classes)\n",
        "\n",
        "    def _make_layer(self, block, planes, num_blocks, stride):\n",
        "        strides = [stride] + [1]*(num_blocks-1)\n",
        "        layers = []\n",
        "        for stride in strides:\n",
        "            layers.append(block(self.in_planes, planes, stride))\n",
        "            self.in_planes = planes * block.expansion\n",
        "        return nn.Sequential(*layers)\n",
        "\n",
        "    def forward(self, x):\n",
        "        out = F.relu(self.bn1(self.conv1(x)))\n",
        "        out = self.layer1(out)\n",
        "        out = self.layer2(out)\n",
        "        out = self.layer3(out)\n",
        "        out = self.layer4(out)\n",
        "        out = F.avg_pool2d(out, 4)\n",
        "        out = out.view(out.size(0), -1)\n",
        "        out = self.linear(out)\n",
        "        return out"
      ],
      "execution_count": 10,
      "outputs": [
        {
          "output_type": "stream",
          "text": [
            "time: 22.4 ms\n"
          ],
          "name": "stdout"
        }
      ]
    },
    {
      "cell_type": "code",
      "metadata": {
        "id": "VivXxrw08DW7",
        "colab_type": "code",
        "outputId": "84bd50ee-c2a8-4fe0-b96c-7e7d670f4a57",
        "colab": {
          "base_uri": "https://localhost:8080/",
          "height": 34
        }
      },
      "source": [
        "#RESNET-18\n",
        "model = ResNet(BasicBlock, [2,2,2,2]).to(device)\n",
        "#RESNET-34\n",
        "#model = ResNet(BasicBlock, [3,4,6,3]).to(device)\n",
        "#RESNET-50\n",
        "#model = ResNet(Bottleneck, [3,4,6,3]).to(device)\n",
        "#RESNET-101\n",
        "#model = ResNet(Bottleneck, [3,4,23,3]).to(device)\n",
        "#RESNET-152\n",
        "#model = ResNet(Bottleneck, [3,8,36,3]).to(device)\n"
      ],
      "execution_count": 11,
      "outputs": [
        {
          "output_type": "stream",
          "text": [
            "time: 8.91 s\n"
          ],
          "name": "stdout"
        }
      ]
    },
    {
      "cell_type": "code",
      "metadata": {
        "id": "EiyEBpKI8Dge",
        "colab_type": "code",
        "outputId": "c4e5f3a7-8eb6-4cf8-f895-1862d1014854",
        "colab": {
          "base_uri": "https://localhost:8080/",
          "height": 34
        }
      },
      "source": [
        "# Loss and optimizer\n",
        "criterion = nn.CrossEntropyLoss()\n",
        "#optimizer = torch.optim.Adam(model.parameters(), lr=learning_rate)\n",
        "#optimizer = torch.optim.Adam(model.parameters(), lr=learning_rate,weight_decay=1e-5)\n",
        "#optimizer = torch.optim.Adam(model.parameters(), lr=learning_rate, momentum=0.9, weight_decay=5e-4)\n",
        "optimizer = torch.optim.SGD(model.parameters(), lr=learning_rate, momentum=0.9, weight_decay=5e-4)\n",
        "#optimizer = torch.optim.SGD(model.parameters(), lr=learning_rate)\n",
        "\n",
        "# For updating learning rate\n",
        "def update_lr(optimizer, lr):    \n",
        "    for param_group in optimizer.param_groups:\n",
        "        param_group['lr'] = lr"
      ],
      "execution_count": 12,
      "outputs": [
        {
          "output_type": "stream",
          "text": [
            "time: 5.6 ms\n"
          ],
          "name": "stdout"
        }
      ]
    },
    {
      "cell_type": "code",
      "metadata": {
        "id": "dRNxNEUy8DeB",
        "colab_type": "code",
        "outputId": "d76eec52-e2a9-48f7-b6e9-5c5ad3c2e1d3",
        "colab": {
          "base_uri": "https://localhost:8080/",
          "height": 1000
        }
      },
      "source": [
        "# Train the model\n",
        "total_step = len(train_loader)\n",
        "curr_lr = learning_rate\n",
        "for epoch in range(num_epochs):\n",
        "\n",
        "    if (epoch+1) % 10 == 0:\n",
        "      if batch_size>2:\n",
        "        batch_size /= 2\n",
        "      else:\n",
        "        batch_size=2\n",
        "    else:\n",
        "      batch_size\n",
        "    \n",
        "    correct = 0\n",
        "    total = 0\n",
        "    for i,(images, labels) in enumerate(train_loader):\n",
        "        images = images.to(device)\n",
        "        labels = labels.to(device)\n",
        "\n",
        "        # Forward pass\n",
        "        outputs = model(images)\n",
        "        loss = criterion(outputs, labels)\n",
        "\n",
        "        # Backward and optimize\n",
        "        optimizer.zero_grad()\n",
        "        loss.backward()\n",
        "        optimizer.step()\n",
        "\n",
        "        _, predicted = torch.max(outputs.data, 1)\n",
        "        total += labels.size(0)\n",
        "        correct += (predicted == labels).sum().item()\n",
        "\n",
        "        #if (i+1) % 100 == 0:\n",
        "          \n",
        "    print (\"Epoch [{}/{}], Batch_size: {}  Train Loss: {:.4f} Train Accuracy: {} %\"\n",
        "                   .format(epoch+1, num_epochs, batch_size,  loss.item(),round((100 * correct / total),2)))\n",
        "    #print(batch_size)\n",
        "    # Decay learning rate\n",
        "    if (epoch+1) % 20 == 0:\n",
        "        curr_lr /= 3\n",
        "        update_lr(optimizer, curr_lr)"
      ],
      "execution_count": 13,
      "outputs": [
        {
          "output_type": "stream",
          "text": [
            "Epoch [1/80], Batch_size: 512  Train Loss: 1.7540 Train Accuracy: 33.13 %\n",
            "Epoch [2/80], Batch_size: 512  Train Loss: 1.3253 Train Accuracy: 48.36 %\n",
            "Epoch [3/80], Batch_size: 512  Train Loss: 1.1602 Train Accuracy: 56.14 %\n",
            "Epoch [4/80], Batch_size: 512  Train Loss: 1.0393 Train Accuracy: 62.26 %\n",
            "Epoch [5/80], Batch_size: 512  Train Loss: 0.9431 Train Accuracy: 67.65 %\n",
            "Epoch [6/80], Batch_size: 512  Train Loss: 0.6686 Train Accuracy: 71.13 %\n",
            "Epoch [7/80], Batch_size: 512  Train Loss: 0.6532 Train Accuracy: 74.23 %\n",
            "Epoch [8/80], Batch_size: 512  Train Loss: 0.6639 Train Accuracy: 76.1 %\n",
            "Epoch [9/80], Batch_size: 512  Train Loss: 0.7294 Train Accuracy: 78.85 %\n",
            "Epoch [10/80], Batch_size: 256.0  Train Loss: 0.6306 Train Accuracy: 80.1 %\n",
            "Epoch [11/80], Batch_size: 256.0  Train Loss: 0.5084 Train Accuracy: 81.32 %\n",
            "Epoch [12/80], Batch_size: 256.0  Train Loss: 0.5815 Train Accuracy: 82.31 %\n",
            "Epoch [13/80], Batch_size: 256.0  Train Loss: 0.4834 Train Accuracy: 83.26 %\n",
            "Epoch [14/80], Batch_size: 256.0  Train Loss: 0.5065 Train Accuracy: 84.08 %\n",
            "Epoch [15/80], Batch_size: 256.0  Train Loss: 0.4165 Train Accuracy: 84.5 %\n",
            "Epoch [16/80], Batch_size: 256.0  Train Loss: 0.4051 Train Accuracy: 85.16 %\n",
            "Epoch [17/80], Batch_size: 256.0  Train Loss: 0.4444 Train Accuracy: 85.59 %\n",
            "Epoch [18/80], Batch_size: 256.0  Train Loss: 0.4999 Train Accuracy: 85.99 %\n",
            "Epoch [19/80], Batch_size: 256.0  Train Loss: 0.4456 Train Accuracy: 86.36 %\n",
            "Epoch [20/80], Batch_size: 128.0  Train Loss: 0.3947 Train Accuracy: 86.56 %\n",
            "Epoch [21/80], Batch_size: 128.0  Train Loss: 0.2879 Train Accuracy: 89.98 %\n",
            "Epoch [22/80], Batch_size: 128.0  Train Loss: 0.2693 Train Accuracy: 90.68 %\n",
            "Epoch [23/80], Batch_size: 128.0  Train Loss: 0.2520 Train Accuracy: 91.15 %\n",
            "Epoch [24/80], Batch_size: 128.0  Train Loss: 0.2460 Train Accuracy: 91.27 %\n",
            "Epoch [25/80], Batch_size: 128.0  Train Loss: 0.2133 Train Accuracy: 91.41 %\n",
            "Epoch [26/80], Batch_size: 128.0  Train Loss: 0.2406 Train Accuracy: 91.88 %\n",
            "Epoch [27/80], Batch_size: 128.0  Train Loss: 0.2216 Train Accuracy: 92.03 %\n",
            "Epoch [28/80], Batch_size: 128.0  Train Loss: 0.2981 Train Accuracy: 92.17 %\n",
            "Epoch [29/80], Batch_size: 128.0  Train Loss: 0.2161 Train Accuracy: 92.37 %\n",
            "Epoch [30/80], Batch_size: 64.0  Train Loss: 0.2358 Train Accuracy: 92.61 %\n",
            "Epoch [31/80], Batch_size: 64.0  Train Loss: 0.1537 Train Accuracy: 92.79 %\n",
            "Epoch [32/80], Batch_size: 64.0  Train Loss: 0.2861 Train Accuracy: 92.65 %\n",
            "Epoch [33/80], Batch_size: 64.0  Train Loss: 0.1996 Train Accuracy: 93.07 %\n",
            "Epoch [34/80], Batch_size: 64.0  Train Loss: 0.1719 Train Accuracy: 93.11 %\n",
            "Epoch [35/80], Batch_size: 64.0  Train Loss: 0.1979 Train Accuracy: 93.24 %\n",
            "Epoch [36/80], Batch_size: 64.0  Train Loss: 0.1628 Train Accuracy: 93.55 %\n",
            "Epoch [37/80], Batch_size: 64.0  Train Loss: 0.2204 Train Accuracy: 93.8 %\n",
            "Epoch [38/80], Batch_size: 64.0  Train Loss: 0.1647 Train Accuracy: 93.71 %\n",
            "Epoch [39/80], Batch_size: 64.0  Train Loss: 0.2340 Train Accuracy: 94.02 %\n",
            "Epoch [40/80], Batch_size: 32.0  Train Loss: 0.1484 Train Accuracy: 94.04 %\n",
            "Epoch [41/80], Batch_size: 32.0  Train Loss: 0.0876 Train Accuracy: 95.45 %\n",
            "Epoch [42/80], Batch_size: 32.0  Train Loss: 0.1270 Train Accuracy: 96.05 %\n",
            "Epoch [43/80], Batch_size: 32.0  Train Loss: 0.1099 Train Accuracy: 96.5 %\n",
            "Epoch [44/80], Batch_size: 32.0  Train Loss: 0.1195 Train Accuracy: 96.53 %\n",
            "Epoch [45/80], Batch_size: 32.0  Train Loss: 0.0831 Train Accuracy: 96.58 %\n",
            "Epoch [46/80], Batch_size: 32.0  Train Loss: 0.1029 Train Accuracy: 96.67 %\n",
            "Epoch [47/80], Batch_size: 32.0  Train Loss: 0.1094 Train Accuracy: 96.91 %\n",
            "Epoch [48/80], Batch_size: 32.0  Train Loss: 0.0821 Train Accuracy: 96.92 %\n",
            "Epoch [49/80], Batch_size: 32.0  Train Loss: 0.0617 Train Accuracy: 96.95 %\n",
            "Epoch [50/80], Batch_size: 16.0  Train Loss: 0.0586 Train Accuracy: 97.11 %\n",
            "Epoch [51/80], Batch_size: 16.0  Train Loss: 0.0746 Train Accuracy: 97.08 %\n",
            "Epoch [52/80], Batch_size: 16.0  Train Loss: 0.0633 Train Accuracy: 97.21 %\n",
            "Epoch [53/80], Batch_size: 16.0  Train Loss: 0.1090 Train Accuracy: 97.27 %\n",
            "Epoch [54/80], Batch_size: 16.0  Train Loss: 0.0971 Train Accuracy: 97.39 %\n",
            "Epoch [55/80], Batch_size: 16.0  Train Loss: 0.0855 Train Accuracy: 97.52 %\n",
            "Epoch [56/80], Batch_size: 16.0  Train Loss: 0.1024 Train Accuracy: 97.42 %\n",
            "Epoch [57/80], Batch_size: 16.0  Train Loss: 0.0652 Train Accuracy: 97.63 %\n",
            "Epoch [58/80], Batch_size: 16.0  Train Loss: 0.0556 Train Accuracy: 97.54 %\n",
            "Epoch [59/80], Batch_size: 16.0  Train Loss: 0.0512 Train Accuracy: 97.63 %\n",
            "Epoch [60/80], Batch_size: 8.0  Train Loss: 0.0681 Train Accuracy: 97.67 %\n",
            "Epoch [61/80], Batch_size: 8.0  Train Loss: 0.0570 Train Accuracy: 98.15 %\n",
            "Epoch [62/80], Batch_size: 8.0  Train Loss: 0.0713 Train Accuracy: 98.44 %\n",
            "Epoch [63/80], Batch_size: 8.0  Train Loss: 0.0470 Train Accuracy: 98.62 %\n",
            "Epoch [64/80], Batch_size: 8.0  Train Loss: 0.0397 Train Accuracy: 98.46 %\n",
            "Epoch [65/80], Batch_size: 8.0  Train Loss: 0.0265 Train Accuracy: 98.64 %\n",
            "Epoch [66/80], Batch_size: 8.0  Train Loss: 0.0293 Train Accuracy: 98.7 %\n",
            "Epoch [67/80], Batch_size: 8.0  Train Loss: 0.0464 Train Accuracy: 98.59 %\n",
            "Epoch [68/80], Batch_size: 8.0  Train Loss: 0.0370 Train Accuracy: 98.72 %\n",
            "Epoch [69/80], Batch_size: 8.0  Train Loss: 0.0412 Train Accuracy: 98.7 %\n",
            "Epoch [70/80], Batch_size: 4.0  Train Loss: 0.0320 Train Accuracy: 98.75 %\n",
            "Epoch [71/80], Batch_size: 4.0  Train Loss: 0.0582 Train Accuracy: 98.72 %\n",
            "Epoch [72/80], Batch_size: 4.0  Train Loss: 0.0453 Train Accuracy: 98.86 %\n",
            "Epoch [73/80], Batch_size: 4.0  Train Loss: 0.0405 Train Accuracy: 98.87 %\n",
            "Epoch [74/80], Batch_size: 4.0  Train Loss: 0.0222 Train Accuracy: 98.86 %\n",
            "Epoch [75/80], Batch_size: 4.0  Train Loss: 0.0467 Train Accuracy: 98.88 %\n",
            "Epoch [76/80], Batch_size: 4.0  Train Loss: 0.0152 Train Accuracy: 98.86 %\n",
            "Epoch [77/80], Batch_size: 4.0  Train Loss: 0.0342 Train Accuracy: 98.92 %\n",
            "Epoch [78/80], Batch_size: 4.0  Train Loss: 0.0237 Train Accuracy: 98.9 %\n",
            "Epoch [79/80], Batch_size: 4.0  Train Loss: 0.0199 Train Accuracy: 98.93 %\n",
            "Epoch [80/80], Batch_size: 2.0  Train Loss: 0.0476 Train Accuracy: 98.9 %\n",
            "time: 15min 20s\n"
          ],
          "name": "stdout"
        }
      ]
    },
    {
      "cell_type": "code",
      "metadata": {
        "id": "-2-vn6CLxSBq",
        "colab_type": "code",
        "outputId": "88bc70f8-0451-451c-9b87-f77290f20597",
        "colab": {
          "base_uri": "https://localhost:8080/",
          "height": 68
        }
      },
      "source": [
        "import matplotlib.pyplot as plt\n",
        "import numpy as np\n",
        "\n",
        "def convert_to_imshow_format(image):\n",
        "    # first convert back to [0,1] range from [-1,1] range\n",
        "    image = image / 2 + 0.5\n",
        "    image = image.numpy()\n",
        "    # convert from CHW to HWC\n",
        "    # from 3x32x32 to 32x32x3\n",
        "    return image.transpose(1,2,0)\n",
        "\n",
        "dataiter = iter(train_loader)\n",
        "images, labels = dataiter.next()\n",
        "\n",
        "fig, axes = plt.subplots(1, len(images), figsize=(12,2.5))\n",
        "for idx, image in enumerate(images):\n",
        "    axes[idx].imshow(convert_to_imshow_format(image))\n",
        "    axes[idx].set_title(classes[labels[idx]])\n",
        "    axes[idx].set_xticks([])\n",
        "    axes[idx].set_yticks([])"
      ],
      "execution_count": 14,
      "outputs": [
        {
          "output_type": "display_data",
          "data": {
            "image/png": "[encoded data removed]",
            "text/plain": [
              "<Figure size 864x180 with 512 Axes>"
            ]
          },
          "metadata": {
            "tags": []
          }
        },
        {
          "output_type": "stream",
          "text": [
            "time: 13.1 s\n"
          ],
          "name": "stdout"
        }
      ]
    },
    {
      "cell_type": "code",
      "metadata": {
        "id": "ytAhp0JWxCuV",
        "colab_type": "code",
        "outputId": "6e437016-bb4a-402d-ec33-15bf419c6885",
        "colab": {
          "base_uri": "https://localhost:8080/",
          "height": 68
        }
      },
      "source": [
        "dataiter = iter(test_loader)\n",
        "images, labels = dataiter.next()\n",
        "\n",
        "fig, axes = plt.subplots(1, len(images), figsize=(12,2.5))\n",
        "for idx, image in enumerate(images):\n",
        "    axes[idx].imshow(convert_to_imshow_format(image))\n",
        "    axes[idx].set_title(classes[labels[idx]])\n",
        "    axes[idx].set_xticks([])\n",
        "    axes[idx].set_yticks([])"
      ],
      "execution_count": 15,
      "outputs": [
        {
          "output_type": "display_data",
          "data": {
            "image/png": "[encoded data removed]",
            "text/plain": [
              "<Figure size 864x180 with 512 Axes>"
            ]
          },
          "metadata": {
            "tags": []
          }
        },
        {
          "output_type": "stream",
          "text": [
            "time: 13.3 s\n"
          ],
          "name": "stdout"
        }
      ]
    },
    {
      "cell_type": "code",
      "metadata": {
        "id": "4Bo-eyWBxn9T",
        "colab_type": "code",
        "outputId": "edaa48da-6b2d-4c12-d4e9-af5ffb5bb674",
        "colab": {
          "base_uri": "https://localhost:8080/",
          "height": 34
        }
      },
      "source": [
        "images = images.to(device)\n",
        "labels = labels.to(device)\n",
        "outputs = model(images)"
      ],
      "execution_count": 16,
      "outputs": [
        {
          "output_type": "stream",
          "text": [
            "time: 14 ms\n"
          ],
          "name": "stdout"
        }
      ]
    },
    {
      "cell_type": "code",
      "metadata": {
        "id": "Wv_wo9I6yIMW",
        "colab_type": "code",
        "outputId": "bc5b108f-9f3d-4f6c-b56b-3244afbfde59",
        "colab": {
          "base_uri": "https://localhost:8080/",
          "height": 34
        }
      },
      "source": [
        "sm = nn.Softmax(dim=1)\n",
        "sm_outputs = sm(outputs)"
      ],
      "execution_count": 17,
      "outputs": [
        {
          "output_type": "stream",
          "text": [
            "time: 5.79 ms\n"
          ],
          "name": "stdout"
        }
      ]
    },
    {
      "cell_type": "code",
      "metadata": {
        "id": "DfhHhpi2yO9q",
        "colab_type": "code",
        "outputId": "25c0d43c-3a4f-43bf-8e0a-c81ff3632ba4",
        "colab": {
          "base_uri": "https://localhost:8080/",
          "height": 1000
        }
      },
      "source": [
        "probs, index = torch.max(sm_outputs, dim=1)\n",
        "\n",
        "for p, i in zip(probs, index):\n",
        "    print('{0} - {1:.4f}'.format(classes[i], p))"
      ],
      "execution_count": 18,
      "outputs": [
        {
          "output_type": "stream",
          "text": [
            "cat - 0.9999\n",
            "ship - 1.0000\n",
            "ship - 0.8463\n",
            "ship - 0.5472\n",
            "frog - 1.0000\n",
            "frog - 1.0000\n",
            "car - 0.9880\n",
            "frog - 0.8181\n",
            "cat - 0.9999\n",
            "car - 1.0000\n",
            "plane - 1.0000\n",
            "truck - 1.0000\n",
            "dog - 0.9699\n",
            "horse - 1.0000\n",
            "truck - 1.0000\n",
            "frog - 0.9154\n",
            "dog - 1.0000\n",
            "horse - 1.0000\n",
            "ship - 1.0000\n",
            "frog - 1.0000\n",
            "horse - 0.9923\n",
            "plane - 1.0000\n",
            "deer - 0.9132\n",
            "truck - 1.0000\n",
            "dog - 0.9957\n",
            "bird - 0.9764\n",
            "deer - 0.9977\n",
            "plane - 1.0000\n",
            "truck - 1.0000\n",
            "frog - 1.0000\n",
            "frog - 1.0000\n",
            "dog - 1.0000\n",
            "deer - 0.4466\n",
            "dog - 0.8083\n",
            "truck - 1.0000\n",
            "cat - 0.9819\n",
            "deer - 0.9997\n",
            "car - 0.9988\n",
            "truck - 1.0000\n",
            "dog - 1.0000\n",
            "deer - 1.0000\n",
            "frog - 1.0000\n",
            "cat - 0.6382\n",
            "frog - 1.0000\n",
            "plane - 1.0000\n",
            "truck - 1.0000\n",
            "cat - 0.9999\n",
            "truck - 0.9919\n",
            "horse - 1.0000\n",
            "frog - 0.9998\n",
            "truck - 0.9998\n",
            "ship - 1.0000\n",
            "cat - 0.7089\n",
            "cat - 0.9946\n",
            "ship - 1.0000\n",
            "ship - 1.0000\n",
            "horse - 1.0000\n",
            "cat - 0.9998\n",
            "dog - 0.9997\n",
            "cat - 0.5916\n",
            "horse - 1.0000\n",
            "cat - 0.8977\n",
            "frog - 0.9987\n",
            "cat - 1.0000\n",
            "frog - 1.0000\n",
            "bird - 1.0000\n",
            "car - 0.9997\n",
            "bird - 1.0000\n",
            "cat - 0.8749\n",
            "horse - 0.9809\n",
            "bird - 0.9297\n",
            "frog - 1.0000\n",
            "ship - 1.0000\n",
            "ship - 1.0000\n",
            "plane - 1.0000\n",
            "bird - 1.0000\n",
            "truck - 1.0000\n",
            "cat - 1.0000\n",
            "cat - 0.9915\n",
            "ship - 1.0000\n",
            "ship - 1.0000\n",
            "car - 0.9974\n",
            "car - 1.0000\n",
            "horse - 1.0000\n",
            "bird - 1.0000\n",
            "truck - 0.6446\n",
            "bird - 0.6404\n",
            "horse - 1.0000\n",
            "ship - 1.0000\n",
            "truck - 0.9773\n",
            "plane - 1.0000\n",
            "cat - 0.9536\n",
            "ship - 1.0000\n",
            "frog - 0.9999\n",
            "deer - 1.0000\n",
            "frog - 0.9999\n",
            "frog - 0.9994\n",
            "plane - 0.9997\n",
            "plane - 1.0000\n",
            "horse - 1.0000\n",
            "horse - 0.9922\n",
            "horse - 0.9987\n",
            "frog - 0.9999\n",
            "cat - 1.0000\n",
            "car - 1.0000\n",
            "car - 1.0000\n",
            "cat - 0.9815\n",
            "frog - 1.0000\n",
            "ship - 0.9998\n",
            "horse - 0.9982\n",
            "deer - 1.0000\n",
            "plane - 1.0000\n",
            "frog - 0.9989\n",
            "bird - 1.0000\n",
            "car - 0.9999\n",
            "cat - 0.9705\n",
            "plane - 1.0000\n",
            "horse - 0.9646\n",
            "cat - 0.5119\n",
            "horse - 1.0000\n",
            "ship - 1.0000\n",
            "cat - 0.9995\n",
            "car - 1.0000\n",
            "bird - 1.0000\n",
            "ship - 1.0000\n",
            "plane - 0.8998\n",
            "ship - 1.0000\n",
            "cat - 0.6510\n",
            "dog - 0.9911\n",
            "bird - 1.0000\n",
            "deer - 1.0000\n",
            "car - 1.0000\n",
            "ship - 1.0000\n",
            "truck - 1.0000\n",
            "car - 0.9989\n",
            "bird - 1.0000\n",
            "truck - 1.0000\n",
            "horse - 1.0000\n",
            "bird - 0.9999\n",
            "truck - 0.5568\n",
            "frog - 1.0000\n",
            "dog - 0.9999\n",
            "frog - 1.0000\n",
            "cat - 0.9978\n",
            "ship - 1.0000\n",
            "bird - 0.5817\n",
            "frog - 1.0000\n",
            "frog - 0.9846\n",
            "dog - 0.9935\n",
            "dog - 0.8063\n",
            "ship - 0.9928\n",
            "truck - 0.9999\n",
            "frog - 0.9940\n",
            "plane - 1.0000\n",
            "plane - 0.9998\n",
            "dog - 0.9998\n",
            "bird - 1.0000\n",
            "truck - 1.0000\n",
            "dog - 0.5156\n",
            "deer - 1.0000\n",
            "bird - 0.9338\n",
            "car - 0.9999\n",
            "frog - 0.9984\n",
            "frog - 0.9769\n",
            "plane - 0.8249\n",
            "deer - 0.6309\n",
            "ship - 0.9973\n",
            "deer - 1.0000\n",
            "dog - 0.9999\n",
            "plane - 0.8557\n",
            "truck - 1.0000\n",
            "plane - 0.9993\n",
            "truck - 1.0000\n",
            "ship - 1.0000\n",
            "car - 0.6658\n",
            "truck - 1.0000\n",
            "cat - 1.0000\n",
            "horse - 1.0000\n",
            "cat - 0.7071\n",
            "plane - 1.0000\n",
            "plane - 1.0000\n",
            "dog - 1.0000\n",
            "bird - 1.0000\n",
            "bird - 0.5996\n",
            "cat - 1.0000\n",
            "ship - 1.0000\n",
            "frog - 1.0000\n",
            "cat - 1.0000\n",
            "bird - 0.6651\n",
            "plane - 0.8155\n",
            "dog - 1.0000\n",
            "ship - 0.9998\n",
            "plane - 0.9602\n",
            "truck - 0.8956\n",
            "horse - 1.0000\n",
            "horse - 0.9955\n",
            "ship - 1.0000\n",
            "ship - 0.9594\n",
            "horse - 0.6542\n",
            "ship - 1.0000\n",
            "dog - 0.7475\n",
            "car - 0.9903\n",
            "ship - 1.0000\n",
            "horse - 0.4002\n",
            "car - 1.0000\n",
            "cat - 1.0000\n",
            "plane - 1.0000\n",
            "dog - 1.0000\n",
            "horse - 1.0000\n",
            "truck - 1.0000\n",
            "horse - 1.0000\n",
            "deer - 0.9272\n",
            "dog - 0.9988\n",
            "truck - 0.9982\n",
            "ship - 0.9974\n",
            "bird - 0.9325\n",
            "horse - 1.0000\n",
            "truck - 0.9999\n",
            "ship - 1.0000\n",
            "bird - 1.0000\n",
            "horse - 1.0000\n",
            "frog - 0.9481\n",
            "truck - 1.0000\n",
            "deer - 0.7970\n",
            "deer - 0.9738\n",
            "truck - 0.9939\n",
            "frog - 0.8577\n",
            "deer - 1.0000\n",
            "dog - 0.9867\n",
            "bird - 0.5839\n",
            "dog - 1.0000\n",
            "car - 1.0000\n",
            "dog - 0.8605\n",
            "ship - 1.0000\n",
            "ship - 1.0000\n",
            "plane - 1.0000\n",
            "deer - 1.0000\n",
            "horse - 0.5826\n",
            "dog - 0.9999\n",
            "dog - 1.0000\n",
            "car - 1.0000\n",
            "car - 1.0000\n",
            "car - 0.6569\n",
            "truck - 1.0000\n",
            "plane - 1.0000\n",
            "cat - 0.9967\n",
            "car - 1.0000\n",
            "truck - 0.9995\n",
            "bird - 0.9998\n",
            "plane - 0.9962\n",
            "dog - 1.0000\n",
            "cat - 0.9999\n",
            "truck - 1.0000\n",
            "truck - 0.5413\n",
            "deer - 1.0000\n",
            "plane - 0.7350\n",
            "cat - 1.0000\n",
            "plane - 1.0000\n",
            "plane - 0.9642\n",
            "truck - 0.9986\n",
            "ship - 1.0000\n",
            "car - 1.0000\n",
            "dog - 0.9995\n",
            "horse - 0.9998\n",
            "ship - 0.9864\n",
            "ship - 1.0000\n",
            "bird - 0.9939\n",
            "deer - 1.0000\n",
            "horse - 1.0000\n",
            "plane - 0.6247\n",
            "bird - 1.0000\n",
            "cat - 0.9228\n",
            "frog - 1.0000\n",
            "cat - 0.9400\n",
            "ship - 1.0000\n",
            "cat - 0.5883\n",
            "plane - 0.9995\n",
            "dog - 0.9321\n",
            "deer - 1.0000\n",
            "cat - 0.9975\n",
            "truck - 1.0000\n",
            "car - 0.5039\n",
            "frog - 1.0000\n",
            "car - 1.0000\n",
            "truck - 1.0000\n",
            "truck - 1.0000\n",
            "car - 0.9999\n",
            "ship - 0.9998\n",
            "horse - 1.0000\n",
            "truck - 1.0000\n",
            "car - 1.0000\n",
            "bird - 1.0000\n",
            "frog - 1.0000\n",
            "truck - 0.6221\n",
            "cat - 0.9998\n",
            "deer - 1.0000\n",
            "frog - 1.0000\n",
            "plane - 1.0000\n",
            "plane - 1.0000\n",
            "frog - 1.0000\n",
            "frog - 1.0000\n",
            "frog - 1.0000\n",
            "deer - 0.8814\n",
            "bird - 0.9996\n",
            "frog - 0.9989\n",
            "car - 1.0000\n",
            "ship - 0.9368\n",
            "bird - 1.0000\n",
            "car - 0.9978\n",
            "deer - 0.9989\n",
            "ship - 0.9998\n",
            "frog - 1.0000\n",
            "plane - 0.7446\n",
            "plane - 0.8659\n",
            "deer - 1.0000\n",
            "plane - 1.0000\n",
            "horse - 0.9991\n",
            "horse - 1.0000\n",
            "dog - 1.0000\n",
            "dog - 1.0000\n",
            "cat - 1.0000\n",
            "dog - 1.0000\n",
            "bird - 0.9998\n",
            "cat - 0.9983\n",
            "deer - 0.9998\n",
            "car - 0.9998\n",
            "horse - 1.0000\n",
            "dog - 1.0000\n",
            "deer - 1.0000\n",
            "frog - 1.0000\n",
            "car - 1.0000\n",
            "truck - 0.9700\n",
            "frog - 0.7741\n",
            "frog - 1.0000\n",
            "frog - 1.0000\n",
            "truck - 1.0000\n",
            "cat - 1.0000\n",
            "ship - 1.0000\n",
            "plane - 0.9902\n",
            "horse - 1.0000\n",
            "bird - 0.9853\n",
            "frog - 0.9896\n",
            "bird - 0.9997\n",
            "dog - 1.0000\n",
            "ship - 1.0000\n",
            "dog - 0.9999\n",
            "deer - 1.0000\n",
            "frog - 1.0000\n",
            "ship - 1.0000\n",
            "truck - 1.0000\n",
            "truck - 1.0000\n",
            "car - 1.0000\n",
            "plane - 0.6374\n",
            "bird - 1.0000\n",
            "bird - 1.0000\n",
            "horse - 0.5299\n",
            "dog - 0.9414\n",
            "bird - 0.5720\n",
            "ship - 0.9977\n",
            "plane - 1.0000\n",
            "truck - 1.0000\n",
            "dog - 0.9974\n",
            "ship - 1.0000\n",
            "car - 1.0000\n",
            "truck - 1.0000\n",
            "deer - 1.0000\n",
            "car - 1.0000\n",
            "cat - 1.0000\n",
            "bird - 0.7960\n",
            "car - 1.0000\n",
            "deer - 0.9691\n",
            "horse - 1.0000\n",
            "truck - 1.0000\n",
            "deer - 0.9974\n",
            "bird - 1.0000\n",
            "horse - 1.0000\n",
            "plane - 0.9955\n",
            "horse - 1.0000\n",
            "ship - 0.9996\n",
            "frog - 1.0000\n",
            "frog - 0.9999\n",
            "truck - 1.0000\n",
            "plane - 1.0000\n",
            "truck - 0.9418\n",
            "dog - 0.9971\n",
            "ship - 0.9971\n",
            "horse - 1.0000\n",
            "bird - 0.9550\n",
            "bird - 1.0000\n",
            "dog - 0.9986\n",
            "car - 1.0000\n",
            "bird - 1.0000\n",
            "frog - 1.0000\n",
            "bird - 0.9998\n",
            "truck - 0.9741\n",
            "frog - 0.9957\n",
            "bird - 0.9862\n",
            "cat - 0.9935\n",
            "plane - 1.0000\n",
            "cat - 0.9301\n",
            "truck - 1.0000\n",
            "ship - 0.9871\n",
            "horse - 1.0000\n",
            "ship - 1.0000\n",
            "ship - 1.0000\n",
            "bird - 0.9986\n",
            "plane - 1.0000\n",
            "car - 1.0000\n",
            "ship - 1.0000\n",
            "bird - 0.5400\n",
            "horse - 1.0000\n",
            "plane - 0.6357\n",
            "dog - 0.7268\n",
            "frog - 0.9996\n",
            "car - 1.0000\n",
            "truck - 1.0000\n",
            "plane - 0.9949\n",
            "horse - 0.9998\n",
            "cat - 0.9832\n",
            "horse - 1.0000\n",
            "deer - 0.9952\n",
            "dog - 1.0000\n",
            "ship - 0.9886\n",
            "plane - 1.0000\n",
            "bird - 1.0000\n",
            "truck - 1.0000\n",
            "frog - 0.9881\n",
            "deer - 0.9988\n",
            "plane - 1.0000\n",
            "frog - 1.0000\n",
            "bird - 0.9996\n",
            "dog - 1.0000\n",
            "cat - 0.9920\n",
            "horse - 0.9374\n",
            "cat - 0.9840\n",
            "horse - 1.0000\n",
            "bird - 0.9956\n",
            "dog - 1.0000\n",
            "cat - 0.9999\n",
            "car - 0.9999\n",
            "car - 1.0000\n",
            "deer - 0.9999\n",
            "truck - 1.0000\n",
            "truck - 1.0000\n",
            "dog - 1.0000\n",
            "horse - 1.0000\n",
            "dog - 0.9999\n",
            "plane - 0.9445\n",
            "bird - 1.0000\n",
            "bird - 0.9768\n",
            "bird - 1.0000\n",
            "truck - 1.0000\n",
            "horse - 1.0000\n",
            "cat - 0.9978\n",
            "truck - 1.0000\n",
            "deer - 0.9999\n",
            "deer - 0.9918\n",
            "dog - 0.9856\n",
            "deer - 1.0000\n",
            "bird - 0.7314\n",
            "dog - 1.0000\n",
            "frog - 1.0000\n",
            "car - 1.0000\n",
            "deer - 0.9945\n",
            "deer - 0.9996\n",
            "deer - 1.0000\n",
            "deer - 1.0000\n",
            "cat - 1.0000\n",
            "horse - 0.9991\n",
            "ship - 0.9976\n",
            "deer - 0.9904\n",
            "horse - 1.0000\n",
            "ship - 1.0000\n",
            "ship - 0.4879\n",
            "dog - 0.9999\n",
            "horse - 1.0000\n",
            "frog - 1.0000\n",
            "plane - 0.6897\n",
            "dog - 0.8393\n",
            "deer - 1.0000\n",
            "ship - 0.9388\n",
            "frog - 1.0000\n",
            "ship - 1.0000\n",
            "dog - 0.9517\n",
            "dog - 1.0000\n",
            "ship - 0.8843\n",
            "truck - 1.0000\n",
            "truck - 1.0000\n",
            "dog - 0.9503\n",
            "plane - 1.0000\n",
            "car - 1.0000\n",
            "plane - 0.9922\n",
            "ship - 1.0000\n",
            "car - 1.0000\n",
            "car - 1.0000\n",
            "ship - 1.0000\n",
            "plane - 1.0000\n",
            "bird - 1.0000\n",
            "bird - 1.0000\n",
            "plane - 0.5128\n",
            "deer - 0.9999\n",
            "frog - 0.9951\n",
            "dog - 1.0000\n",
            "deer - 1.0000\n",
            "truck - 1.0000\n",
            "deer - 1.0000\n",
            "horse - 1.0000\n",
            "truck - 1.0000\n",
            "truck - 0.9704\n",
            "deer - 1.0000\n",
            "dog - 1.0000\n",
            "frog - 1.0000\n",
            "time: 104 ms\n"
          ],
          "name": "stdout"
        }
      ]
    },
    {
      "cell_type": "code",
      "metadata": {
        "id": "RiZftaxHyShZ",
        "colab_type": "code",
        "outputId": "9bf847c5-61f8-47d7-ae0d-85a2c397bac1",
        "colab": {
          "base_uri": "https://localhost:8080/",
          "height": 51
        }
      },
      "source": [
        "total_correct = 0\n",
        "total_images = 0\n",
        "confusion_matrix = np.zeros([10,10], int)\n",
        "with torch.no_grad():\n",
        "    for data in test_loader:\n",
        "        images, labels = data\n",
        "        images = images.to(device)\n",
        "        labels = labels.to(device)\n",
        "        outputs = model(images)\n",
        "        _, predicted = torch.max(outputs.data, 1)\n",
        "        total_images += labels.size(0)\n",
        "        total_correct += (predicted == labels).sum().item()\n",
        "        for i, l in enumerate(labels):\n",
        "            confusion_matrix[l.item(), predicted[i].item()] += 1 \n",
        "\n",
        "model_accuracy = total_correct / total_images * 100\n",
        "print('Model accuracy on {0} test images: {1:.2f}%'.format(total_images, model_accuracy))"
      ],
      "execution_count": 19,
      "outputs": [
        {
          "output_type": "stream",
          "text": [
            "Model accuracy on 10000 test images: 88.18%\n",
            "time: 1.52 s\n"
          ],
          "name": "stdout"
        }
      ]
    },
    {
      "cell_type": "code",
      "metadata": {
        "id": "6v5gH5D6y0sZ",
        "colab_type": "code",
        "outputId": "56ce39a4-bdd4-4537-b509-720218973112",
        "colab": {
          "base_uri": "https://localhost:8080/",
          "height": 221
        }
      },
      "source": [
        "print('{0:10s} - {1}'.format('Category','Accuracy'))\n",
        "for i, r in enumerate(confusion_matrix):\n",
        "    print('{0:10s} - {1:.1f}'.format(classes[i], r[i]/np.sum(r)*100))"
      ],
      "execution_count": 20,
      "outputs": [
        {
          "output_type": "stream",
          "text": [
            "Category   - Accuracy\n",
            "plane      - 87.5\n",
            "car        - 96.1\n",
            "bird       - 85.2\n",
            "cat        - 76.1\n",
            "deer       - 87.0\n",
            "dog        - 80.8\n",
            "frog       - 91.0\n",
            "horse      - 92.6\n",
            "ship       - 93.6\n",
            "truck      - 91.9\n",
            "time: 3.14 ms\n"
          ],
          "name": "stdout"
        }
      ]
    },
    {
      "cell_type": "code",
      "metadata": {
        "id": "UHszLmdNy5v_",
        "colab_type": "code",
        "outputId": "3d7a110e-d7d6-4eea-b9e1-1a4d6c1a9319",
        "colab": {
          "base_uri": "https://localhost:8080/",
          "height": 514
        }
      },
      "source": [
        "fig, ax = plt.subplots(1,1,figsize=(10,8))\n",
        "ax.matshow(confusion_matrix, aspect='auto', vmin=0, vmax=1000, cmap=plt.get_cmap('Blues'),)\n",
        "for (i, j), z in np.ndenumerate(confusion_matrix):\n",
        "    ax.text(j, i, '{:0.1f}'.format(z), ha='center', va='center',\n",
        "            bbox=dict(boxstyle='round', facecolor='white', edgecolor='0.3'))\n",
        "plt.ylabel('Actual Category')\n",
        "plt.yticks(range(10), classes)\n",
        "plt.xlabel('Predicted Category')\n",
        "plt.xticks(range(10), classes)\n",
        "plt.show()\n"
      ],
      "execution_count": 25,
      "outputs": [
        {
          "output_type": "display_data",
          "data": {
            "image/png": "[encoded data removed]",
            "text/plain": [
              "<Figure size 720x576 with 1 Axes>"
            ]
          },
          "metadata": {
            "tags": []
          }
        },
        {
          "output_type": "stream",
          "text": [
            "time: 435 ms\n"
          ],
          "name": "stdout"
        }
      ]
    },
    {
      "cell_type": "code",
      "metadata": {
        "id": "6GgvDmpGzEfH",
        "colab_type": "code",
        "outputId": "5a0dbcd2-7d2c-4e68-a137-ad0b86df3fe8",
        "colab": {
          "base_uri": "https://localhost:8080/",
          "height": 391
        }
      },
      "source": [
        "print('actual/pred'.ljust(16), end='')\n",
        "for i,c in enumerate(classes):\n",
        "    print(c.ljust(10), end='')\n",
        "print()\n",
        "for i,r in enumerate(confusion_matrix):\n",
        "    print(classes[i].ljust(16), end='')\n",
        "    for idx, p in enumerate(r):\n",
        "        print(str(p).ljust(10), end='')\n",
        "    print()\n",
        "    \n",
        "    r = r/np.sum(r)\n",
        "    print(''.ljust(16), end='')\n",
        "    for idx, p in enumerate(r):\n",
        "        print(str(p).ljust(10), end='')\n",
        "    print()"
      ],
      "execution_count": 22,
      "outputs": [
        {
          "output_type": "stream",
          "text": [
            "actual/pred     plane     car       bird      cat       deer      dog       frog      horse     ship      truck     \n",
            "plane           875       14        26        8         11        0         1         3         51        11        \n",
            "                0.875     0.014     0.026     0.008     0.011     0.0       0.001     0.003     0.051     0.011     \n",
            "car             6         961       0         1         0         1         1         1         7         22        \n",
            "                0.006     0.961     0.0       0.001     0.0       0.001     0.001     0.001     0.007     0.022     \n",
            "bird            24        3         852       36        24        17        25        12        4         3         \n",
            "                0.024     0.003     0.852     0.036     0.024     0.017     0.025     0.012     0.004     0.003     \n",
            "cat             6         4         32        761       31        87        34        27        7         11        \n",
            "                0.006     0.004     0.032     0.761     0.031     0.087     0.034     0.027     0.007     0.011     \n",
            "deer            7         2         26        25        870       22        14        31        0         3         \n",
            "                0.007     0.002     0.026     0.025     0.87      0.022     0.014     0.031     0.0       0.003     \n",
            "dog             4         0         29        97        20        808       8         26        2         6         \n",
            "                0.004     0.0       0.029     0.097     0.02      0.808     0.008     0.026     0.002     0.006     \n",
            "frog            6         1         23        36        12        5         910       4         0         3         \n",
            "                0.006     0.001     0.023     0.036     0.012     0.005     0.91      0.004     0.0       0.003     \n",
            "horse           10        2         11        15        14        18        1         926       0         3         \n",
            "                0.01      0.002     0.011     0.015     0.014     0.018     0.001     0.926     0.0       0.003     \n",
            "ship            23        9         5         4         0         1         5         1         936       16        \n",
            "                0.023     0.009     0.005     0.004     0.0       0.001     0.005     0.001     0.936     0.016     \n",
            "truck           10        45        3         3         1         1         2         2         14        919       \n",
            "                0.01      0.045     0.003     0.003     0.001     0.001     0.002     0.002     0.014     0.919     \n",
            "time: 26 ms\n"
          ],
          "name": "stdout"
        }
      ]
    },
    {
      "cell_type": "code",
      "metadata": {
        "id": "pZ5U1tkZ7ecu",
        "colab_type": "code",
        "outputId": "ab970cf0-52a7-49f0-9ba0-e9ae2b695482",
        "colab": {
          "base_uri": "https://localhost:8080/",
          "height": 34
        }
      },
      "source": [
        "# Save the model checkpoint\n",
        "torch.save(model.state_dict(), 'resnet.ckpt')"
      ],
      "execution_count": 23,
      "outputs": [
        {
          "output_type": "stream",
          "text": [
            "time: 28.7 ms\n"
          ],
          "name": "stdout"
        }
      ]
    },
    {
      "cell_type": "code",
      "metadata": {
        "id": "2x-t3dD2-H5A",
        "colab_type": "code",
        "outputId": "9554e413-21bd-42ad-d4b5-be4b7ef0f700",
        "colab": {
          "base_uri": "https://localhost:8080/",
          "height": 34
        }
      },
      "source": [
        "pytorch_total_params = sum(p.numel() for p in model.parameters())\n",
        "pytorch_total_params"
      ],
      "execution_count": 24,
      "outputs": [
        {
          "output_type": "execute_result",
          "data": {
            "text/plain": [
              "701466"
            ]
          },
          "metadata": {
            "tags": []
          },
          "execution_count": 24
        },
        {
          "output_type": "stream",
          "text": [
            "time: 3.14 ms\n"
          ],
          "name": "stdout"
        }
      ]
    }
  ]
}