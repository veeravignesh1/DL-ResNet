{
  "nbformat": 4,
  "nbformat_minor": 0,
  "metadata": {
    "colab": {
      "name": "RESNET_18_60_adam.ipynb",
      "provenance": [],
      "collapsed_sections": []
    },
    "kernelspec": {
      "name": "python3",
      "display_name": "Python 3"
    },
    "accelerator": "GPU"
  },
  "cells": [
    {
      "cell_type": "code",
      "metadata": {
        "id": "sJZZ9hNj7Ys1",
        "colab_type": "code",
        "outputId": "c3a7a92e-9e07-4736-84d3-f2243d7c0ef7",
        "colab": {
          "base_uri": "https://localhost:8080/",
          "height": 34
        }
      },
      "source": [
        "# ---------------------------------------------------------------------------- #\n",
        "# An implementation of https://arxiv.org/pdf/1512.03385.pdf                    #\n",
        "# See section 4.2 for the model architecture on CIFAR-10                       #\n",
        "# Some part of the code was referenced from below                              #\n",
        "# https://github.com/pytorch/vision/blob/master/torchvision/models/resnet.py   #\n",
        "# ---------------------------------------------------------------------------- #\n",
        "!pip install ipython-autotime\n",
        "%load_ext autotime\n",
        "import matplotlib.pyplot as plt\n",
        "import numpy as np\n",
        "import torch\n",
        "import torch.nn as nn\n",
        "import torch.nn.functional as F\n",
        "import torchvision\n",
        "import torchvision.transforms as transforms\n",
        "\n",
        "\n",
        "# Device configuration\n",
        "device = torch.device('cuda' if torch.cuda.is_available() else 'cpu')\n",
        "\n"
      ],
      "execution_count": 1,
      "outputs": [
        {
          "output_type": "stream",
          "text": [
            "Requirement already satisfied: ipython-autotime in /usr/local/lib/python3.6/dist-packages (0.1)\n"
          ],
          "name": "stdout"
        }
      ]
    },
    {
      "cell_type": "code",
      "metadata": {
        "id": "ixieggsE7eQR",
        "colab_type": "code",
        "outputId": "9dccb9be-7ee0-4727-8ec0-1b830679a78d",
        "colab": {
          "base_uri": "https://localhost:8080/",
          "height": 34
        }
      },
      "source": [
        "# Hyper-parameters\n",
        "num_epochs = 80\n",
        "learning_rate = 0.01\n",
        "batch_size=512"
      ],
      "execution_count": 2,
      "outputs": [
        {
          "output_type": "stream",
          "text": [
            "time: 799 µs\n"
          ],
          "name": "stdout"
        }
      ]
    },
    {
      "cell_type": "code",
      "metadata": {
        "id": "-RJoy91C7eTd",
        "colab_type": "code",
        "outputId": "4640cf9c-ffba-4da2-9f85-44f8d92e3dbc",
        "colab": {
          "base_uri": "https://localhost:8080/",
          "height": 34
        }
      },
      "source": [
        "# Image preprocessing modules\n",
        "transform = transforms.Compose([\n",
        "    transforms.Pad(4),\n",
        "    transforms.RandomHorizontalFlip(),\n",
        "    transforms.RandomCrop(32),\n",
        "    #transforms.ColorJitter(brightness=0, contrast=0, saturation=0, hue=0),\n",
        "    #transforms.RandomRotation(degrees=[-10,10], resample=False, expand=False, center=None, fill=0),\n",
        "    transforms.ToTensor(),\n",
        "    #transforms.Normalize((0.4914, 0.4822, 0.4465), (0.2023, 0.1994, 0.2010)),\n",
        "    #transforms.Normalize((0.5, 0.5, 0.5), (0.5, 0.5, 0.5))\n",
        "    ])"
      ],
      "execution_count": 3,
      "outputs": [
        {
          "output_type": "stream",
          "text": [
            "time: 4.57 ms\n"
          ],
          "name": "stdout"
        }
      ]
    },
    {
      "cell_type": "code",
      "metadata": {
        "id": "AKqgCvcN3G86",
        "colab_type": "code",
        "colab": {}
      },
      "source": [
        "#transform_train = transforms.Compose([\n",
        "#    transforms.RandomCrop(32, padding=4),\n",
        "#    transforms.RandomHorizontalFlip(),\n",
        "#    transforms.ToTensor(),\n",
        "#    transforms.Normalize((0.4914, 0.4822, 0.4465), (0.2023, 0.1994, 0.2010)),\n",
        "#])\n",
        "\n",
        "#transform_test = transforms.Compose([\n",
        "#    transforms.ToTensor(),\n",
        "#    transforms.Normalize((0.4914, 0.4822, 0.4465), (0.2023, 0.1994, 0.2010)),\n",
        "#])\n"
      ],
      "execution_count": 0,
      "outputs": []
    },
    {
      "cell_type": "code",
      "metadata": {
        "id": "4vFQ-c_D7eWp",
        "colab_type": "code",
        "outputId": "982a6b3d-e116-4e24-ac09-9a5a2f430bde",
        "colab": {
          "base_uri": "https://localhost:8080/",
          "height": 51
        }
      },
      "source": [
        "# CIFAR-10 dataset\n",
        "train_dataset = torchvision.datasets.CIFAR10(root='../../data/',\n",
        "                                             train=True, \n",
        "                                             transform=transform,\n",
        "                                             download=True)\n",
        "\n",
        "test_dataset = torchvision.datasets.CIFAR10(root='../../data/',\n",
        "                                            train=False, \n",
        "                                            transform=transforms.ToTensor())"
      ],
      "execution_count": 4,
      "outputs": [
        {
          "output_type": "stream",
          "text": [
            "Files already downloaded and verified\n",
            "time: 1.33 s\n"
          ],
          "name": "stdout"
        }
      ]
    },
    {
      "cell_type": "code",
      "metadata": {
        "id": "78eYeI8H7eZi",
        "colab_type": "code",
        "outputId": "76d008cd-3183-47f0-f98f-ecc9cee5ab24",
        "colab": {
          "base_uri": "https://localhost:8080/",
          "height": 34
        }
      },
      "source": [
        "# Data loader\n",
        "train_loader = torch.utils.data.DataLoader(dataset=train_dataset,\n",
        "                                           batch_size=batch_size, \n",
        "                                           shuffle=True)\n",
        "\n",
        "test_loader = torch.utils.data.DataLoader(dataset=test_dataset,\n",
        "                                          batch_size=batch_size, \n",
        "                                          shuffle=False)\n",
        "\n",
        "classes = ('plane', 'car', 'bird', 'cat',\n",
        "           'deer', 'dog', 'frog', 'horse', 'ship', 'truck')\n",
        "\n"
      ],
      "execution_count": 5,
      "outputs": [
        {
          "output_type": "stream",
          "text": [
            "time: 3.78 ms\n"
          ],
          "name": "stdout"
        }
      ]
    },
    {
      "cell_type": "code",
      "metadata": {
        "id": "7hW9WNjPii86",
        "colab_type": "code",
        "outputId": "5602dbf7-fd9f-4442-c638-e865b62e13d9",
        "colab": {
          "base_uri": "https://localhost:8080/",
          "height": 303
        }
      },
      "source": [
        "# functions to show an image\n",
        "\n",
        "\n",
        "def imshow(img):\n",
        "    img = img / 2 + 0.5     # unnormalize\n",
        "    npimg = img.numpy()\n",
        "    plt.imshow(np.transpose(npimg, (1, 2, 0)))\n",
        "    plt.show()\n",
        "\n",
        "\n",
        "# get some random training images\n",
        "dataiter = iter(train_loader)\n",
        "images, labels = dataiter.next()\n",
        "\n",
        "# show images\n",
        "imshow(torchvision.utils.make_grid(images))\n",
        "# print labels\n",
        "print(' '.join('%5s' % classes[labels[j]] for j in range(4)))"
      ],
      "execution_count": 6,
      "outputs": [
        {
          "output_type": "display_data",
          "data": {
            "image/png": "[encoded data removed]",
            "text/plain": [
              "<Figure size 432x288 with 1 Axes>"
            ]
          },
          "metadata": {
            "tags": []
          }
        },
        {
          "output_type": "stream",
          "text": [
            "truck horse truck   dog\n",
            "time: 285 ms\n"
          ],
          "name": "stdout"
        }
      ]
    },
    {
      "cell_type": "code",
      "metadata": {
        "id": "-YJAT2jCimio",
        "colab_type": "code",
        "outputId": "a04479ca-7768-4207-f5ce-d149a250477a",
        "colab": {
          "base_uri": "https://localhost:8080/",
          "height": 34
        }
      },
      "source": [
        "# 3x3 convolution\n",
        "def conv3x3(in_channels, out_channels, stride=1):\n",
        "    return nn.Conv2d(in_channels, out_channels, kernel_size=3, \n",
        "                     stride=stride, padding=1, bias=False)"
      ],
      "execution_count": 7,
      "outputs": [
        {
          "output_type": "stream",
          "text": [
            "time: 1.41 ms\n"
          ],
          "name": "stdout"
        }
      ]
    },
    {
      "cell_type": "code",
      "metadata": {
        "id": "xd6Th-OF7emh",
        "colab_type": "code",
        "outputId": "316019d2-e301-4ee7-ec06-0f858026c01c",
        "colab": {
          "base_uri": "https://localhost:8080/",
          "height": 34
        }
      },
      "source": [
        "class BasicBlock(nn.Module):\n",
        "    expansion = 1\n",
        "\n",
        "    def __init__(self, in_planes, planes, stride=1):\n",
        "        super(BasicBlock, self).__init__()\n",
        "        #dropout=0.4\n",
        "        #dropout = 0 if dropout is None else dropout\n",
        "        self.conv1 = nn.Conv2d(in_planes, planes, kernel_size=3, stride=stride, padding=1, bias=False)\n",
        "        self.bn1 = nn.BatchNorm2d(planes)\n",
        "        self.conv2 = nn.Conv2d(planes, planes, kernel_size=3, stride=1, padding=1, bias=False)\n",
        "        self.bn2 = nn.BatchNorm2d(planes)\n",
        "        #self.dropout = nn.Dropout(dropout)\n",
        "\n",
        "        self.shortcut = nn.Sequential()\n",
        "        if stride != 1 or in_planes != self.expansion*planes:\n",
        "            self.shortcut = nn.Sequential(\n",
        "                nn.Conv2d(in_planes, self.expansion*planes, kernel_size=1, stride=stride, bias=False),\n",
        "                nn.BatchNorm2d(self.expansion*planes)\n",
        "            )\n",
        "\n",
        "    def forward(self, x):\n",
        "        out = F.relu(self.bn1(self.conv1(x)))\n",
        "        out = self.bn2(self.conv2(out))\n",
        "        #out = self.dropout(out)\n",
        "        out += self.shortcut(x)\n",
        "        out = F.relu(out)\n",
        "        \n",
        "        return out"
      ],
      "execution_count": 8,
      "outputs": [
        {
          "output_type": "stream",
          "text": [
            "time: 17.9 ms\n"
          ],
          "name": "stdout"
        }
      ]
    },
    {
      "cell_type": "code",
      "metadata": {
        "id": "J0_toKu87e3j",
        "colab_type": "code",
        "outputId": "e1df51be-58df-4fff-926a-88e1e522575e",
        "colab": {
          "base_uri": "https://localhost:8080/",
          "height": 34
        }
      },
      "source": [
        "class Bottleneck(nn.Module):\n",
        "    expansion = 4\n",
        "\n",
        "    def __init__(self, in_planes, planes, stride=1):\n",
        "        super(Bottleneck, self).__init__()\n",
        "        dropout=0.30\n",
        "        self.conv1 = nn.Conv2d(in_planes, planes, kernel_size=1, bias=False)\n",
        "        self.bn1 = nn.BatchNorm2d(planes)\n",
        "        self.conv2 = nn.Conv2d(planes, planes, kernel_size=3, stride=stride, padding=1, bias=False)\n",
        "        self.bn2 = nn.BatchNorm2d(planes)\n",
        "        self.conv3 = nn.Conv2d(planes, self.expansion*planes, kernel_size=1, bias=False)\n",
        "        self.bn3 = nn.BatchNorm2d(self.expansion*planes)\n",
        "        self.dropout = nn.Dropout(dropout)\n",
        "\n",
        "        self.shortcut = nn.Sequential()\n",
        "        if stride != 1 or in_planes != self.expansion*planes:\n",
        "            self.shortcut = nn.Sequential(\n",
        "                nn.Conv2d(in_planes, self.expansion*planes, kernel_size=1, stride=stride, bias=False),\n",
        "                nn.BatchNorm2d(self.expansion*planes)\n",
        "            )\n",
        "\n",
        "    def forward(self, x):\n",
        "        out = F.relu(self.bn1(self.conv1(x)))\n",
        "        out = F.relu(self.bn2(self.conv2(out)))\n",
        "        out = self.bn3(self.conv3(out))\n",
        "        out = self.dropout(out)\n",
        "        out += self.shortcut(x)\n",
        "        out = F.relu(out)\n",
        "        return out"
      ],
      "execution_count": 9,
      "outputs": [
        {
          "output_type": "stream",
          "text": [
            "time: 23 ms\n"
          ],
          "name": "stdout"
        }
      ]
    },
    {
      "cell_type": "code",
      "metadata": {
        "id": "HpFNWO6-7ejB",
        "colab_type": "code",
        "outputId": "c328040b-3352-4f93-efc3-a7058f6a49d5",
        "colab": {
          "base_uri": "https://localhost:8080/",
          "height": 34
        }
      },
      "source": [
        "class ResNet(nn.Module):\n",
        "    def __init__(self, block, num_blocks, num_classes=10):\n",
        "        super(ResNet, self).__init__()\n",
        "        self.in_planes = 16\n",
        "\n",
        "        self.conv1 = nn.Conv2d(3, 16, kernel_size=3, stride=1, padding=1, bias=False)\n",
        "        self.bn1 = nn.BatchNorm2d(16)\n",
        "        self.layer1 = self._make_layer(block, 16, num_blocks[0], stride=1)\n",
        "        self.layer2 = self._make_layer(block, 32, num_blocks[1], stride=2)\n",
        "        self.layer3 = self._make_layer(block, 64, num_blocks[2], stride=2)\n",
        "        self.layer4 = self._make_layer(block, 128, num_blocks[3], stride=2)\n",
        "        self.linear = nn.Linear(128*block.expansion, num_classes)\n",
        "\n",
        "    def _make_layer(self, block, planes, num_blocks, stride):\n",
        "        strides = [stride] + [1]*(num_blocks-1)\n",
        "        layers = []\n",
        "        for stride in strides:\n",
        "            layers.append(block(self.in_planes, planes, stride))\n",
        "            self.in_planes = planes * block.expansion\n",
        "        return nn.Sequential(*layers)\n",
        "\n",
        "    def forward(self, x):\n",
        "        out = F.relu(self.bn1(self.conv1(x)))\n",
        "        out = self.layer1(out)\n",
        "        out = self.layer2(out)\n",
        "        out = self.layer3(out)\n",
        "        out = self.layer4(out)\n",
        "        out = F.avg_pool2d(out, 4)\n",
        "        out = out.view(out.size(0), -1)\n",
        "        out = self.linear(out)\n",
        "        return out"
      ],
      "execution_count": 10,
      "outputs": [
        {
          "output_type": "stream",
          "text": [
            "time: 21.4 ms\n"
          ],
          "name": "stdout"
        }
      ]
    },
    {
      "cell_type": "code",
      "metadata": {
        "id": "VivXxrw08DW7",
        "colab_type": "code",
        "outputId": "ac545811-724e-42eb-f616-d0f0aaa83ad8",
        "colab": {
          "base_uri": "https://localhost:8080/",
          "height": 34
        }
      },
      "source": [
        "#RESNET-18\n",
        "model = ResNet(BasicBlock, [2,2,2,2]).to(device)\n",
        "#RESNET-34\n",
        "#model = ResNet(BasicBlock, [3,4,6,3]).to(device)\n",
        "#RESNET-50\n",
        "#model = ResNet(Bottleneck, [3,4,6,3]).to(device)\n",
        "#RESNET-101\n",
        "#model = ResNet(Bottleneck, [3,4,23,3]).to(device)\n",
        "#RESNET-152\n",
        "#model = ResNet(Bottleneck, [3,8,36,3]).to(device)\n"
      ],
      "execution_count": 11,
      "outputs": [
        {
          "output_type": "stream",
          "text": [
            "time: 6.36 s\n"
          ],
          "name": "stdout"
        }
      ]
    },
    {
      "cell_type": "code",
      "metadata": {
        "id": "EiyEBpKI8Dge",
        "colab_type": "code",
        "outputId": "e3ab8e72-12c8-45f3-d485-0930df21b5db",
        "colab": {
          "base_uri": "https://localhost:8080/",
          "height": 34
        }
      },
      "source": [
        "# Loss and optimizer\n",
        "criterion = nn.CrossEntropyLoss()\n",
        "#optimizer = torch.optim.Adam(model.parameters(), lr=learning_rate)\n",
        "optimizer = torch.optim.Adam(model.parameters(), lr=learning_rate,weight_decay=1e-5)\n",
        "#optimizer = torch.optim.Adam(model.parameters(), lr=learning_rate, momentum=0.9, weight_decay=5e-4)\n",
        "#optimizer = torch.optim.SGD(model.parameters(), lr=learning_rate, momentum=0.9, weight_decay=5e-4)\n",
        "#optimizer = torch.optim.SGD(model.parameters(), lr=learning_rate)\n",
        "\n",
        "# For updating learning rate\n",
        "def update_lr(optimizer, lr):    \n",
        "    for param_group in optimizer.param_groups:\n",
        "        param_group['lr'] = lr"
      ],
      "execution_count": 12,
      "outputs": [
        {
          "output_type": "stream",
          "text": [
            "time: 4.62 ms\n"
          ],
          "name": "stdout"
        }
      ]
    },
    {
      "cell_type": "code",
      "metadata": {
        "id": "dRNxNEUy8DeB",
        "colab_type": "code",
        "outputId": "a225dba8-6a00-4995-a208-4a48544dfc93",
        "colab": {
          "base_uri": "https://localhost:8080/",
          "height": 1000
        }
      },
      "source": [
        "# Train the model\n",
        "total_step = len(train_loader)\n",
        "curr_lr = learning_rate\n",
        "for epoch in range(num_epochs):\n",
        "\n",
        "    if (epoch+1) % 10 == 0:\n",
        "      if batch_size>2:\n",
        "        batch_size /= 2\n",
        "      else:\n",
        "        batch_size=2\n",
        "    else:\n",
        "      batch_size\n",
        "    \n",
        "    correct = 0\n",
        "    total = 0\n",
        "    for i,(images, labels) in enumerate(train_loader):\n",
        "        images = images.to(device)\n",
        "        labels = labels.to(device)\n",
        "\n",
        "        # Forward pass\n",
        "        outputs = model(images)\n",
        "        loss = criterion(outputs, labels)\n",
        "\n",
        "        # Backward and optimize\n",
        "        optimizer.zero_grad()\n",
        "        loss.backward()\n",
        "        optimizer.step()\n",
        "\n",
        "        _, predicted = torch.max(outputs.data, 1)\n",
        "        total += labels.size(0)\n",
        "        correct += (predicted == labels).sum().item()\n",
        "\n",
        "        #if (i+1) % 100 == 0:\n",
        "          \n",
        "    print (\"Epoch [{}/{}], Batch_size: {}  Train Loss: {:.4f} Train Accuracy: {} %\"\n",
        "                   .format(epoch+1, num_epochs, batch_size,  loss.item(),round((100 * correct / total),2)))\n",
        "    #print(batch_size)\n",
        "    # Decay learning rate\n",
        "    if (epoch+1) % 20 == 0:\n",
        "        curr_lr /= 3\n",
        "        update_lr(optimizer, curr_lr)"
      ],
      "execution_count": 13,
      "outputs": [
        {
          "output_type": "stream",
          "text": [
            "Epoch [1/80], Batch_size: 512  Train Loss: 1.5181 Train Accuracy: 30.61 %\n",
            "Epoch [2/80], Batch_size: 512  Train Loss: 1.2050 Train Accuracy: 47.3 %\n",
            "Epoch [3/80], Batch_size: 512  Train Loss: 1.2215 Train Accuracy: 57.55 %\n",
            "Epoch [4/80], Batch_size: 512  Train Loss: 0.9344 Train Accuracy: 63.78 %\n",
            "Epoch [5/80], Batch_size: 512  Train Loss: 0.9631 Train Accuracy: 67.98 %\n",
            "Epoch [6/80], Batch_size: 512  Train Loss: 0.8586 Train Accuracy: 72.08 %\n",
            "Epoch [7/80], Batch_size: 512  Train Loss: 0.6970 Train Accuracy: 75.19 %\n",
            "Epoch [8/80], Batch_size: 512  Train Loss: 0.6496 Train Accuracy: 77.23 %\n",
            "Epoch [9/80], Batch_size: 512  Train Loss: 0.5585 Train Accuracy: 79.07 %\n",
            "Epoch [10/80], Batch_size: 256.0  Train Loss: 0.5090 Train Accuracy: 80.12 %\n",
            "Epoch [11/80], Batch_size: 256.0  Train Loss: 0.5355 Train Accuracy: 81.26 %\n",
            "Epoch [12/80], Batch_size: 256.0  Train Loss: 0.5385 Train Accuracy: 82.39 %\n",
            "Epoch [13/80], Batch_size: 256.0  Train Loss: 0.4657 Train Accuracy: 82.78 %\n",
            "Epoch [14/80], Batch_size: 256.0  Train Loss: 0.3859 Train Accuracy: 83.77 %\n",
            "Epoch [15/80], Batch_size: 256.0  Train Loss: 0.3888 Train Accuracy: 84.44 %\n",
            "Epoch [16/80], Batch_size: 256.0  Train Loss: 0.5089 Train Accuracy: 84.93 %\n",
            "Epoch [17/80], Batch_size: 256.0  Train Loss: 0.5255 Train Accuracy: 85.07 %\n",
            "Epoch [18/80], Batch_size: 256.0  Train Loss: 0.3577 Train Accuracy: 85.65 %\n",
            "Epoch [19/80], Batch_size: 256.0  Train Loss: 0.3408 Train Accuracy: 85.98 %\n",
            "Epoch [20/80], Batch_size: 128.0  Train Loss: 0.4845 Train Accuracy: 86.54 %\n",
            "Epoch [21/80], Batch_size: 128.0  Train Loss: 0.3340 Train Accuracy: 89.36 %\n",
            "Epoch [22/80], Batch_size: 128.0  Train Loss: 0.2147 Train Accuracy: 90.46 %\n",
            "Epoch [23/80], Batch_size: 128.0  Train Loss: 0.2216 Train Accuracy: 90.85 %\n",
            "Epoch [24/80], Batch_size: 128.0  Train Loss: 0.2810 Train Accuracy: 90.99 %\n",
            "Epoch [25/80], Batch_size: 128.0  Train Loss: 0.1883 Train Accuracy: 91.09 %\n",
            "Epoch [26/80], Batch_size: 128.0  Train Loss: 0.2318 Train Accuracy: 91.65 %\n",
            "Epoch [27/80], Batch_size: 128.0  Train Loss: 0.2594 Train Accuracy: 91.57 %\n",
            "Epoch [28/80], Batch_size: 128.0  Train Loss: 0.1808 Train Accuracy: 91.82 %\n",
            "Epoch [29/80], Batch_size: 128.0  Train Loss: 0.3011 Train Accuracy: 91.98 %\n",
            "Epoch [30/80], Batch_size: 64.0  Train Loss: 0.2548 Train Accuracy: 91.85 %\n",
            "Epoch [31/80], Batch_size: 64.0  Train Loss: 0.2308 Train Accuracy: 92.24 %\n",
            "Epoch [32/80], Batch_size: 64.0  Train Loss: 0.1791 Train Accuracy: 92.56 %\n",
            "Epoch [33/80], Batch_size: 64.0  Train Loss: 0.2245 Train Accuracy: 92.71 %\n",
            "Epoch [34/80], Batch_size: 64.0  Train Loss: 0.2541 Train Accuracy: 92.73 %\n",
            "Epoch [35/80], Batch_size: 64.0  Train Loss: 0.2761 Train Accuracy: 93.1 %\n",
            "Epoch [36/80], Batch_size: 64.0  Train Loss: 0.2148 Train Accuracy: 92.95 %\n",
            "Epoch [37/80], Batch_size: 64.0  Train Loss: 0.1751 Train Accuracy: 93.41 %\n",
            "Epoch [38/80], Batch_size: 64.0  Train Loss: 0.1924 Train Accuracy: 93.52 %\n",
            "Epoch [39/80], Batch_size: 64.0  Train Loss: 0.2236 Train Accuracy: 93.55 %\n",
            "Epoch [40/80], Batch_size: 32.0  Train Loss: 0.1618 Train Accuracy: 93.77 %\n",
            "Epoch [41/80], Batch_size: 32.0  Train Loss: 0.1264 Train Accuracy: 95.23 %\n",
            "Epoch [42/80], Batch_size: 32.0  Train Loss: 0.0926 Train Accuracy: 95.78 %\n",
            "Epoch [43/80], Batch_size: 32.0  Train Loss: 0.1036 Train Accuracy: 96.21 %\n",
            "Epoch [44/80], Batch_size: 32.0  Train Loss: 0.0941 Train Accuracy: 96.32 %\n",
            "Epoch [45/80], Batch_size: 32.0  Train Loss: 0.0780 Train Accuracy: 96.48 %\n",
            "Epoch [46/80], Batch_size: 32.0  Train Loss: 0.0915 Train Accuracy: 96.48 %\n",
            "Epoch [47/80], Batch_size: 32.0  Train Loss: 0.0920 Train Accuracy: 96.56 %\n",
            "Epoch [48/80], Batch_size: 32.0  Train Loss: 0.1027 Train Accuracy: 96.67 %\n",
            "Epoch [49/80], Batch_size: 32.0  Train Loss: 0.1019 Train Accuracy: 96.75 %\n",
            "Epoch [50/80], Batch_size: 16.0  Train Loss: 0.0973 Train Accuracy: 96.7 %\n",
            "Epoch [51/80], Batch_size: 16.0  Train Loss: 0.1260 Train Accuracy: 96.96 %\n",
            "Epoch [52/80], Batch_size: 16.0  Train Loss: 0.1052 Train Accuracy: 97.01 %\n",
            "Epoch [53/80], Batch_size: 16.0  Train Loss: 0.0621 Train Accuracy: 97.06 %\n",
            "Epoch [54/80], Batch_size: 16.0  Train Loss: 0.0597 Train Accuracy: 97.1 %\n",
            "Epoch [55/80], Batch_size: 16.0  Train Loss: 0.0886 Train Accuracy: 97.08 %\n",
            "Epoch [56/80], Batch_size: 16.0  Train Loss: 0.0725 Train Accuracy: 97.34 %\n",
            "Epoch [57/80], Batch_size: 16.0  Train Loss: 0.0852 Train Accuracy: 97.28 %\n",
            "Epoch [58/80], Batch_size: 16.0  Train Loss: 0.0709 Train Accuracy: 97.42 %\n",
            "Epoch [59/80], Batch_size: 16.0  Train Loss: 0.0882 Train Accuracy: 97.44 %\n",
            "Epoch [60/80], Batch_size: 8.0  Train Loss: 0.0691 Train Accuracy: 97.56 %\n",
            "Epoch [61/80], Batch_size: 8.0  Train Loss: 0.0634 Train Accuracy: 98.01 %\n",
            "Epoch [62/80], Batch_size: 8.0  Train Loss: 0.0609 Train Accuracy: 98.2 %\n",
            "Epoch [63/80], Batch_size: 8.0  Train Loss: 0.0616 Train Accuracy: 98.34 %\n",
            "Epoch [64/80], Batch_size: 8.0  Train Loss: 0.0505 Train Accuracy: 98.48 %\n",
            "Epoch [65/80], Batch_size: 8.0  Train Loss: 0.0397 Train Accuracy: 98.46 %\n",
            "Epoch [66/80], Batch_size: 8.0  Train Loss: 0.0837 Train Accuracy: 98.49 %\n",
            "Epoch [67/80], Batch_size: 8.0  Train Loss: 0.0415 Train Accuracy: 98.51 %\n",
            "Epoch [68/80], Batch_size: 8.0  Train Loss: 0.0598 Train Accuracy: 98.53 %\n",
            "Epoch [69/80], Batch_size: 8.0  Train Loss: 0.0355 Train Accuracy: 98.55 %\n",
            "Epoch [70/80], Batch_size: 4.0  Train Loss: 0.0279 Train Accuracy: 98.67 %\n",
            "Epoch [71/80], Batch_size: 4.0  Train Loss: 0.0448 Train Accuracy: 98.67 %\n",
            "Epoch [72/80], Batch_size: 4.0  Train Loss: 0.0427 Train Accuracy: 98.7 %\n",
            "Epoch [73/80], Batch_size: 4.0  Train Loss: 0.0471 Train Accuracy: 98.7 %\n",
            "Epoch [74/80], Batch_size: 4.0  Train Loss: 0.0722 Train Accuracy: 98.68 %\n",
            "Epoch [75/80], Batch_size: 4.0  Train Loss: 0.0290 Train Accuracy: 98.8 %\n",
            "Epoch [76/80], Batch_size: 4.0  Train Loss: 0.0405 Train Accuracy: 98.86 %\n",
            "Epoch [77/80], Batch_size: 4.0  Train Loss: 0.0340 Train Accuracy: 98.8 %\n",
            "Epoch [78/80], Batch_size: 4.0  Train Loss: 0.0584 Train Accuracy: 98.82 %\n",
            "Epoch [79/80], Batch_size: 4.0  Train Loss: 0.0367 Train Accuracy: 98.87 %\n",
            "Epoch [80/80], Batch_size: 2.0  Train Loss: 0.0410 Train Accuracy: 98.95 %\n",
            "time: 21min 59s\n"
          ],
          "name": "stdout"
        }
      ]
    },
    {
      "cell_type": "code",
      "metadata": {
        "id": "-2-vn6CLxSBq",
        "colab_type": "code",
        "colab": {
          "base_uri": "https://localhost:8080/",
          "height": 68
        },
        "outputId": "a8b6b0a4-3c18-480a-d160-a0f95ea9eedc"
      },
      "source": [
        "import matplotlib.pyplot as plt\n",
        "import numpy as np\n",
        "\n",
        "def convert_to_imshow_format(image):\n",
        "    # first convert back to [0,1] range from [-1,1] range\n",
        "    image = image / 2 + 0.5\n",
        "    image = image.numpy()\n",
        "    # convert from CHW to HWC\n",
        "    # from 3x32x32 to 32x32x3\n",
        "    return image.transpose(1,2,0)\n",
        "\n",
        "dataiter = iter(train_loader)\n",
        "images, labels = dataiter.next()\n",
        "\n",
        "fig, axes = plt.subplots(1, len(images), figsize=(12,2.5))\n",
        "for idx, image in enumerate(images):\n",
        "    axes[idx].imshow(convert_to_imshow_format(image))\n",
        "    axes[idx].set_title(classes[labels[idx]])\n",
        "    axes[idx].set_xticks([])\n",
        "    axes[idx].set_yticks([])"
      ],
      "execution_count": 14,
      "outputs": [
        {
          "output_type": "display_data",
          "data": {
            "image/png": "[encoded data removed]",
            "text/plain": [
              "<Figure size 864x180 with 512 Axes>"
            ]
          },
          "metadata": {
            "tags": []
          }
        },
        {
          "output_type": "stream",
          "text": [
            "time: 13.7 s\n"
          ],
          "name": "stdout"
        }
      ]
    },
    {
      "cell_type": "code",
      "metadata": {
        "id": "ytAhp0JWxCuV",
        "colab_type": "code",
        "colab": {
          "base_uri": "https://localhost:8080/",
          "height": 68
        },
        "outputId": "aa713ca5-19c0-41c4-adc5-18f689c57953"
      },
      "source": [
        "dataiter = iter(test_loader)\n",
        "images, labels = dataiter.next()\n",
        "\n",
        "fig, axes = plt.subplots(1, len(images), figsize=(12,2.5))\n",
        "for idx, image in enumerate(images):\n",
        "    axes[idx].imshow(convert_to_imshow_format(image))\n",
        "    axes[idx].set_title(classes[labels[idx]])\n",
        "    axes[idx].set_xticks([])\n",
        "    axes[idx].set_yticks([])"
      ],
      "execution_count": 15,
      "outputs": [
        {
          "output_type": "display_data",
          "data": {
            "image/png": "[encoded data removed]",
            "text/plain": [
              "<Figure size 864x180 with 512 Axes>"
            ]
          },
          "metadata": {
            "tags": []
          }
        },
        {
          "output_type": "stream",
          "text": [
            "time: 13.8 s\n"
          ],
          "name": "stdout"
        }
      ]
    },
    {
      "cell_type": "code",
      "metadata": {
        "id": "4Bo-eyWBxn9T",
        "colab_type": "code",
        "colab": {
          "base_uri": "https://localhost:8080/",
          "height": 34
        },
        "outputId": "b4a2ac9c-8be2-4fe0-c002-41ccbcdd2abf"
      },
      "source": [
        "images = images.to(device)\n",
        "labels = labels.to(device)\n",
        "outputs = model(images)"
      ],
      "execution_count": 16,
      "outputs": [
        {
          "output_type": "stream",
          "text": [
            "time: 11.3 ms\n"
          ],
          "name": "stdout"
        }
      ]
    },
    {
      "cell_type": "code",
      "metadata": {
        "id": "Wv_wo9I6yIMW",
        "colab_type": "code",
        "colab": {
          "base_uri": "https://localhost:8080/",
          "height": 34
        },
        "outputId": "e6d9b834-2fa6-43a0-fa3a-e02747a41326"
      },
      "source": [
        "sm = nn.Softmax(dim=1)\n",
        "sm_outputs = sm(outputs)"
      ],
      "execution_count": 17,
      "outputs": [
        {
          "output_type": "stream",
          "text": [
            "time: 1.66 ms\n"
          ],
          "name": "stdout"
        }
      ]
    },
    {
      "cell_type": "code",
      "metadata": {
        "id": "DfhHhpi2yO9q",
        "colab_type": "code",
        "colab": {
          "base_uri": "https://localhost:8080/",
          "height": 1000
        },
        "outputId": "6b218ab0-f698-4e8e-b407-6ed37d74edd7"
      },
      "source": [
        "probs, index = torch.max(sm_outputs, dim=1)\n",
        "\n",
        "for p, i in zip(probs, index):\n",
        "    print('{0} - {1:.4f}'.format(classes[i], p))"
      ],
      "execution_count": 18,
      "outputs": [
        {
          "output_type": "stream",
          "text": [
            "cat - 0.7451\n",
            "ship - 1.0000\n",
            "ship - 0.8138\n",
            "car - 0.8307\n",
            "frog - 1.0000\n",
            "frog - 0.9686\n",
            "car - 0.7460\n",
            "frog - 1.0000\n",
            "cat - 0.9894\n",
            "car - 0.9979\n",
            "plane - 1.0000\n",
            "truck - 1.0000\n",
            "dog - 0.9999\n",
            "horse - 0.9961\n",
            "truck - 1.0000\n",
            "ship - 0.9869\n",
            "dog - 1.0000\n",
            "horse - 1.0000\n",
            "ship - 1.0000\n",
            "frog - 1.0000\n",
            "horse - 0.9981\n",
            "plane - 0.9990\n",
            "deer - 1.0000\n",
            "truck - 1.0000\n",
            "dog - 1.0000\n",
            "bird - 0.7684\n",
            "cat - 0.9985\n",
            "plane - 1.0000\n",
            "truck - 1.0000\n",
            "frog - 1.0000\n",
            "cat - 0.9941\n",
            "dog - 1.0000\n",
            "deer - 0.9478\n",
            "dog - 0.9997\n",
            "truck - 1.0000\n",
            "bird - 0.9477\n",
            "deer - 1.0000\n",
            "truck - 0.9897\n",
            "truck - 1.0000\n",
            "dog - 1.0000\n",
            "deer - 1.0000\n",
            "frog - 1.0000\n",
            "plane - 0.4028\n",
            "frog - 1.0000\n",
            "plane - 1.0000\n",
            "truck - 1.0000\n",
            "cat - 0.9999\n",
            "truck - 0.9995\n",
            "horse - 1.0000\n",
            "frog - 1.0000\n",
            "truck - 0.9997\n",
            "ship - 1.0000\n",
            "horse - 0.9722\n",
            "cat - 0.9947\n",
            "ship - 1.0000\n",
            "ship - 1.0000\n",
            "horse - 0.9997\n",
            "cat - 0.9859\n",
            "dog - 0.9944\n",
            "frog - 0.4966\n",
            "horse - 1.0000\n",
            "dog - 0.7343\n",
            "frog - 0.8022\n",
            "cat - 0.9147\n",
            "frog - 0.9999\n",
            "bird - 1.0000\n",
            "car - 0.9352\n",
            "bird - 0.9999\n",
            "cat - 1.0000\n",
            "deer - 0.9394\n",
            "bird - 0.9999\n",
            "frog - 1.0000\n",
            "ship - 1.0000\n",
            "ship - 1.0000\n",
            "plane - 0.9954\n",
            "bird - 1.0000\n",
            "truck - 1.0000\n",
            "cat - 0.9996\n",
            "dog - 0.4872\n",
            "ship - 1.0000\n",
            "ship - 1.0000\n",
            "car - 0.5076\n",
            "car - 1.0000\n",
            "horse - 1.0000\n",
            "bird - 0.9985\n",
            "cat - 0.9891\n",
            "bird - 0.9717\n",
            "horse - 1.0000\n",
            "ship - 1.0000\n",
            "truck - 0.9990\n",
            "plane - 1.0000\n",
            "cat - 0.9106\n",
            "ship - 1.0000\n",
            "frog - 1.0000\n",
            "deer - 0.9441\n",
            "frog - 0.9077\n",
            "frog - 0.9618\n",
            "plane - 0.9986\n",
            "plane - 1.0000\n",
            "horse - 1.0000\n",
            "horse - 0.9561\n",
            "dog - 1.0000\n",
            "frog - 0.9988\n",
            "cat - 1.0000\n",
            "car - 1.0000\n",
            "car - 0.9466\n",
            "cat - 0.9999\n",
            "frog - 1.0000\n",
            "ship - 0.9999\n",
            "horse - 1.0000\n",
            "deer - 0.9907\n",
            "plane - 1.0000\n",
            "frog - 0.9998\n",
            "bird - 1.0000\n",
            "car - 1.0000\n",
            "cat - 1.0000\n",
            "plane - 0.9967\n",
            "deer - 0.5273\n",
            "cat - 0.3168\n",
            "horse - 0.9999\n",
            "ship - 1.0000\n",
            "cat - 0.9977\n",
            "car - 1.0000\n",
            "bird - 1.0000\n",
            "ship - 0.9999\n",
            "bird - 0.9135\n",
            "ship - 1.0000\n",
            "cat - 0.9997\n",
            "cat - 0.5738\n",
            "bird - 1.0000\n",
            "deer - 1.0000\n",
            "car - 1.0000\n",
            "ship - 1.0000\n",
            "truck - 1.0000\n",
            "truck - 0.9907\n",
            "bird - 1.0000\n",
            "truck - 0.9907\n",
            "truck - 0.9997\n",
            "bird - 1.0000\n",
            "plane - 0.7149\n",
            "frog - 0.9997\n",
            "dog - 1.0000\n",
            "frog - 1.0000\n",
            "horse - 0.9767\n",
            "ship - 1.0000\n",
            "horse - 0.9996\n",
            "frog - 1.0000\n",
            "dog - 0.9162\n",
            "dog - 1.0000\n",
            "bird - 0.9964\n",
            "plane - 0.5666\n",
            "cat - 0.4223\n",
            "frog - 1.0000\n",
            "plane - 1.0000\n",
            "plane - 0.9983\n",
            "dog - 0.9999\n",
            "bird - 1.0000\n",
            "truck - 1.0000\n",
            "dog - 0.9117\n",
            "deer - 1.0000\n",
            "bird - 0.9940\n",
            "car - 1.0000\n",
            "frog - 0.6026\n",
            "frog - 1.0000\n",
            "plane - 0.9477\n",
            "bird - 0.8662\n",
            "ship - 1.0000\n",
            "deer - 1.0000\n",
            "dog - 0.9999\n",
            "plane - 1.0000\n",
            "truck - 1.0000\n",
            "plane - 0.9528\n",
            "truck - 1.0000\n",
            "ship - 0.9131\n",
            "truck - 0.5364\n",
            "truck - 1.0000\n",
            "cat - 0.9770\n",
            "horse - 1.0000\n",
            "dog - 0.9583\n",
            "plane - 0.7461\n",
            "plane - 1.0000\n",
            "dog - 0.9999\n",
            "bird - 1.0000\n",
            "bird - 0.8528\n",
            "cat - 0.9999\n",
            "ship - 1.0000\n",
            "frog - 1.0000\n",
            "cat - 0.9723\n",
            "deer - 0.4703\n",
            "plane - 0.9385\n",
            "dog - 0.9999\n",
            "ship - 0.9981\n",
            "plane - 0.9981\n",
            "car - 1.0000\n",
            "horse - 1.0000\n",
            "horse - 0.9946\n",
            "ship - 1.0000\n",
            "ship - 0.9968\n",
            "horse - 0.6489\n",
            "ship - 1.0000\n",
            "cat - 0.9989\n",
            "car - 0.9718\n",
            "ship - 1.0000\n",
            "horse - 0.7742\n",
            "car - 1.0000\n",
            "cat - 1.0000\n",
            "plane - 1.0000\n",
            "dog - 1.0000\n",
            "horse - 1.0000\n",
            "truck - 1.0000\n",
            "horse - 0.6950\n",
            "horse - 0.9759\n",
            "dog - 0.9999\n",
            "truck - 0.7292\n",
            "ship - 0.9611\n",
            "plane - 0.9452\n",
            "horse - 1.0000\n",
            "truck - 1.0000\n",
            "ship - 1.0000\n",
            "bird - 1.0000\n",
            "horse - 0.9949\n",
            "cat - 0.9569\n",
            "truck - 1.0000\n",
            "deer - 0.8607\n",
            "dog - 0.6381\n",
            "truck - 1.0000\n",
            "deer - 0.6827\n",
            "deer - 1.0000\n",
            "dog - 0.9767\n",
            "bird - 0.6549\n",
            "dog - 0.9997\n",
            "car - 1.0000\n",
            "dog - 0.8576\n",
            "ship - 0.9258\n",
            "ship - 1.0000\n",
            "plane - 1.0000\n",
            "deer - 1.0000\n",
            "plane - 0.5471\n",
            "dog - 1.0000\n",
            "dog - 0.9999\n",
            "car - 1.0000\n",
            "car - 1.0000\n",
            "car - 0.9779\n",
            "truck - 1.0000\n",
            "plane - 1.0000\n",
            "cat - 0.7320\n",
            "car - 1.0000\n",
            "truck - 0.9970\n",
            "bird - 1.0000\n",
            "cat - 0.6741\n",
            "dog - 1.0000\n",
            "cat - 0.9931\n",
            "truck - 0.9907\n",
            "truck - 0.7717\n",
            "deer - 1.0000\n",
            "cat - 0.7145\n",
            "cat - 1.0000\n",
            "plane - 1.0000\n",
            "plane - 0.9563\n",
            "truck - 0.9987\n",
            "ship - 0.9999\n",
            "car - 1.0000\n",
            "cat - 0.9997\n",
            "horse - 1.0000\n",
            "plane - 0.5596\n",
            "ship - 0.9999\n",
            "bird - 0.9732\n",
            "deer - 1.0000\n",
            "horse - 1.0000\n",
            "cat - 0.7838\n",
            "bird - 1.0000\n",
            "cat - 1.0000\n",
            "frog - 1.0000\n",
            "cat - 0.8130\n",
            "ship - 1.0000\n",
            "cat - 0.9356\n",
            "plane - 0.9992\n",
            "dog - 0.9958\n",
            "deer - 0.9963\n",
            "cat - 0.9973\n",
            "truck - 0.5287\n",
            "plane - 1.0000\n",
            "frog - 1.0000\n",
            "car - 1.0000\n",
            "truck - 0.9993\n",
            "truck - 1.0000\n",
            "car - 0.9719\n",
            "ship - 0.9944\n",
            "horse - 0.9055\n",
            "truck - 1.0000\n",
            "car - 1.0000\n",
            "bird - 1.0000\n",
            "frog - 1.0000\n",
            "car - 0.6926\n",
            "cat - 1.0000\n",
            "bird - 0.9966\n",
            "frog - 1.0000\n",
            "plane - 1.0000\n",
            "plane - 1.0000\n",
            "frog - 1.0000\n",
            "frog - 1.0000\n",
            "frog - 1.0000\n",
            "cat - 0.5575\n",
            "bird - 1.0000\n",
            "frog - 1.0000\n",
            "car - 1.0000\n",
            "truck - 0.9913\n",
            "bird - 1.0000\n",
            "truck - 0.9997\n",
            "bird - 0.9243\n",
            "ship - 1.0000\n",
            "frog - 1.0000\n",
            "plane - 0.5094\n",
            "bird - 0.9264\n",
            "deer - 1.0000\n",
            "plane - 1.0000\n",
            "horse - 0.9999\n",
            "horse - 1.0000\n",
            "dog - 1.0000\n",
            "dog - 1.0000\n",
            "cat - 1.0000\n",
            "dog - 1.0000\n",
            "bird - 0.9987\n",
            "cat - 0.9998\n",
            "cat - 0.6468\n",
            "car - 0.9999\n",
            "horse - 1.0000\n",
            "dog - 0.9999\n",
            "deer - 0.9999\n",
            "frog - 0.9994\n",
            "car - 1.0000\n",
            "truck - 0.9981\n",
            "cat - 0.9894\n",
            "frog - 1.0000\n",
            "frog - 1.0000\n",
            "truck - 0.9965\n",
            "cat - 1.0000\n",
            "ship - 1.0000\n",
            "plane - 0.9900\n",
            "horse - 1.0000\n",
            "bird - 0.9995\n",
            "frog - 1.0000\n",
            "horse - 0.5895\n",
            "dog - 0.9997\n",
            "ship - 1.0000\n",
            "dog - 0.9996\n",
            "deer - 1.0000\n",
            "frog - 1.0000\n",
            "ship - 1.0000\n",
            "truck - 0.9965\n",
            "truck - 1.0000\n",
            "car - 1.0000\n",
            "plane - 0.9483\n",
            "bird - 1.0000\n",
            "bird - 1.0000\n",
            "cat - 0.4864\n",
            "dog - 0.5741\n",
            "bird - 0.6827\n",
            "ship - 1.0000\n",
            "plane - 1.0000\n",
            "truck - 1.0000\n",
            "dog - 0.9997\n",
            "ship - 1.0000\n",
            "car - 1.0000\n",
            "truck - 0.9951\n",
            "deer - 1.0000\n",
            "car - 1.0000\n",
            "dog - 0.5056\n",
            "deer - 0.9963\n",
            "car - 1.0000\n",
            "deer - 0.9320\n",
            "horse - 1.0000\n",
            "truck - 0.9537\n",
            "deer - 1.0000\n",
            "bird - 1.0000\n",
            "horse - 1.0000\n",
            "plane - 0.5910\n",
            "horse - 1.0000\n",
            "ship - 0.6660\n",
            "frog - 1.0000\n",
            "frog - 1.0000\n",
            "truck - 0.9998\n",
            "plane - 1.0000\n",
            "plane - 0.9922\n",
            "dog - 0.9981\n",
            "plane - 0.9298\n",
            "horse - 1.0000\n",
            "bird - 0.9936\n",
            "dog - 0.7405\n",
            "dog - 0.9891\n",
            "car - 1.0000\n",
            "bird - 1.0000\n",
            "frog - 1.0000\n",
            "bird - 0.9915\n",
            "truck - 0.8440\n",
            "deer - 0.6898\n",
            "bird - 1.0000\n",
            "cat - 1.0000\n",
            "plane - 1.0000\n",
            "cat - 0.9724\n",
            "truck - 0.9959\n",
            "ship - 0.7417\n",
            "horse - 1.0000\n",
            "ship - 1.0000\n",
            "ship - 1.0000\n",
            "bird - 0.7689\n",
            "plane - 1.0000\n",
            "car - 0.9988\n",
            "ship - 1.0000\n",
            "bird - 1.0000\n",
            "horse - 1.0000\n",
            "truck - 1.0000\n",
            "dog - 0.9797\n",
            "frog - 1.0000\n",
            "car - 0.9623\n",
            "truck - 1.0000\n",
            "plane - 1.0000\n",
            "horse - 0.9943\n",
            "cat - 0.8283\n",
            "horse - 1.0000\n",
            "cat - 0.7663\n",
            "dog - 0.9994\n",
            "ship - 1.0000\n",
            "plane - 1.0000\n",
            "bird - 1.0000\n",
            "truck - 1.0000\n",
            "bird - 0.9655\n",
            "cat - 0.8964\n",
            "plane - 1.0000\n",
            "frog - 1.0000\n",
            "bird - 0.9042\n",
            "dog - 1.0000\n",
            "cat - 0.9630\n",
            "horse - 0.8877\n",
            "cat - 0.9834\n",
            "horse - 1.0000\n",
            "bird - 1.0000\n",
            "dog - 0.9876\n",
            "cat - 1.0000\n",
            "truck - 0.8565\n",
            "car - 1.0000\n",
            "deer - 1.0000\n",
            "truck - 1.0000\n",
            "truck - 1.0000\n",
            "dog - 1.0000\n",
            "horse - 0.9984\n",
            "bird - 0.9953\n",
            "plane - 1.0000\n",
            "bird - 1.0000\n",
            "plane - 0.9844\n",
            "bird - 0.9997\n",
            "truck - 0.9999\n",
            "horse - 0.9999\n",
            "cat - 0.9868\n",
            "truck - 0.9990\n",
            "deer - 0.9018\n",
            "deer - 0.7504\n",
            "dog - 0.9870\n",
            "deer - 0.9999\n",
            "frog - 0.9999\n",
            "dog - 1.0000\n",
            "frog - 1.0000\n",
            "car - 1.0000\n",
            "deer - 0.9999\n",
            "cat - 0.9855\n",
            "deer - 1.0000\n",
            "deer - 1.0000\n",
            "cat - 1.0000\n",
            "horse - 0.9995\n",
            "ship - 1.0000\n",
            "deer - 0.9525\n",
            "horse - 1.0000\n",
            "ship - 1.0000\n",
            "ship - 0.9890\n",
            "dog - 0.9849\n",
            "horse - 1.0000\n",
            "frog - 0.9800\n",
            "ship - 0.9847\n",
            "dog - 0.9970\n",
            "deer - 0.9999\n",
            "car - 0.9971\n",
            "frog - 1.0000\n",
            "ship - 1.0000\n",
            "cat - 0.4945\n",
            "dog - 1.0000\n",
            "ship - 0.9981\n",
            "truck - 1.0000\n",
            "truck - 1.0000\n",
            "dog - 0.9971\n",
            "plane - 1.0000\n",
            "car - 1.0000\n",
            "plane - 0.8294\n",
            "ship - 1.0000\n",
            "car - 1.0000\n",
            "car - 1.0000\n",
            "ship - 1.0000\n",
            "plane - 0.9997\n",
            "bird - 1.0000\n",
            "bird - 1.0000\n",
            "plane - 0.9985\n",
            "deer - 0.9999\n",
            "frog - 0.9998\n",
            "dog - 0.9988\n",
            "deer - 1.0000\n",
            "truck - 1.0000\n",
            "deer - 1.0000\n",
            "horse - 1.0000\n",
            "truck - 1.0000\n",
            "truck - 0.7684\n",
            "deer - 1.0000\n",
            "dog - 1.0000\n",
            "frog - 1.0000\n",
            "time: 131 ms\n"
          ],
          "name": "stdout"
        }
      ]
    },
    {
      "cell_type": "code",
      "metadata": {
        "id": "RiZftaxHyShZ",
        "colab_type": "code",
        "colab": {
          "base_uri": "https://localhost:8080/",
          "height": 51
        },
        "outputId": "51299c15-9172-4275-e881-c23bb019f62c"
      },
      "source": [
        "total_correct = 0\n",
        "total_images = 0\n",
        "confusion_matrix = np.zeros([10,10], int)\n",
        "with torch.no_grad():\n",
        "    for data in test_loader:\n",
        "        images, labels = data\n",
        "        images = images.to(device)\n",
        "        labels = labels.to(device)\n",
        "        outputs = model(images)\n",
        "        _, predicted = torch.max(outputs.data, 1)\n",
        "        total_images += labels.size(0)\n",
        "        total_correct += (predicted == labels).sum().item()\n",
        "        for i, l in enumerate(labels):\n",
        "            confusion_matrix[l.item(), predicted[i].item()] += 1 \n",
        "\n",
        "model_accuracy = total_correct / total_images * 100\n",
        "print('Model accuracy on {0} test images: {1:.2f}%'.format(total_images, model_accuracy))"
      ],
      "execution_count": 19,
      "outputs": [
        {
          "output_type": "stream",
          "text": [
            "Model accuracy on 10000 test images: 85.71%\n",
            "time: 2.18 s\n"
          ],
          "name": "stdout"
        }
      ]
    },
    {
      "cell_type": "code",
      "metadata": {
        "id": "6v5gH5D6y0sZ",
        "colab_type": "code",
        "colab": {
          "base_uri": "https://localhost:8080/",
          "height": 221
        },
        "outputId": "31f2149e-c42d-41d7-e6cf-a86394689561"
      },
      "source": [
        "print('{0:10s} - {1}'.format('Category','Accuracy'))\n",
        "for i, r in enumerate(confusion_matrix):\n",
        "    print('{0:10s} - {1:.1f}'.format(classes[i], r[i]/np.sum(r)*100))"
      ],
      "execution_count": 20,
      "outputs": [
        {
          "output_type": "stream",
          "text": [
            "Category   - Accuracy\n",
            "plane      - 88.1\n",
            "car        - 90.4\n",
            "bird       - 81.3\n",
            "cat        - 76.5\n",
            "deer       - 82.8\n",
            "dog        - 77.3\n",
            "frog       - 90.1\n",
            "horse      - 90.0\n",
            "ship       - 92.6\n",
            "truck      - 88.0\n",
            "time: 2.66 ms\n"
          ],
          "name": "stdout"
        }
      ]
    },
    {
      "cell_type": "code",
      "metadata": {
        "id": "UHszLmdNy5v_",
        "colab_type": "code",
        "colab": {
          "base_uri": "https://localhost:8080/",
          "height": 405
        },
        "outputId": "ccfa55c1-aedd-410e-e092-20a3ae2515d0"
      },
      "source": [
        "fig, ax = plt.subplots(1,1,figsize=(8,6))\n",
        "ax.matshow(confusion_matrix, aspect='auto', vmin=0, vmax=1000, cmap=plt.get_cmap('Blues'))\n",
        "plt.ylabel('Actual Category')\n",
        "plt.yticks(range(10), classes)\n",
        "plt.xlabel('Predicted Category')\n",
        "plt.xticks(range(10), classes)\n",
        "plt.show()"
      ],
      "execution_count": 21,
      "outputs": [
        {
          "output_type": "display_data",
          "data": {
            "image/png": "[encoded data removed]",
            "text/plain": [
              "<Figure size 576x432 with 1 Axes>"
            ]
          },
          "metadata": {
            "tags": []
          }
        },
        {
          "output_type": "stream",
          "text": [
            "time: 147 ms\n"
          ],
          "name": "stdout"
        }
      ]
    },
    {
      "cell_type": "code",
      "metadata": {
        "id": "6GgvDmpGzEfH",
        "colab_type": "code",
        "colab": {
          "base_uri": "https://localhost:8080/",
          "height": 391
        },
        "outputId": "9cfe5691-57a2-4573-c7cd-8a8136913bdd"
      },
      "source": [
        "print('actual/pred'.ljust(16), end='')\n",
        "for i,c in enumerate(classes):\n",
        "    print(c.ljust(10), end='')\n",
        "print()\n",
        "for i,r in enumerate(confusion_matrix):\n",
        "    print(classes[i].ljust(16), end='')\n",
        "    for idx, p in enumerate(r):\n",
        "        print(str(p).ljust(10), end='')\n",
        "    print()\n",
        "    \n",
        "    r = r/np.sum(r)\n",
        "    print(''.ljust(16), end='')\n",
        "    for idx, p in enumerate(r):\n",
        "        print(str(p).ljust(10), end='')\n",
        "    print()"
      ],
      "execution_count": 22,
      "outputs": [
        {
          "output_type": "stream",
          "text": [
            "actual/pred     plane     car       bird      cat       deer      dog       frog      horse     ship      truck     \n",
            "plane           881       10        26        17        5         2         6         3         39        11        \n",
            "                0.881     0.01      0.026     0.017     0.005     0.002     0.006     0.003     0.039     0.011     \n",
            "car             20        904       2         9         2         2         3         2         22        34        \n",
            "                0.02      0.904     0.002     0.009     0.002     0.002     0.003     0.002     0.022     0.034     \n",
            "bird            28        0         813       37        28        26        40        16        5         7         \n",
            "                0.028     0.0       0.813     0.037     0.028     0.026     0.04      0.016     0.005     0.007     \n",
            "cat             10        3         27        765       29        98        26        22        9         11        \n",
            "                0.01      0.003     0.027     0.765     0.029     0.098     0.026     0.022     0.009     0.011     \n",
            "deer            10        1         39        38        828       16        17        43        3         5         \n",
            "                0.01      0.001     0.039     0.038     0.828     0.016     0.017     0.043     0.003     0.005     \n",
            "dog             8         0         31        126       16        773       12        23        2         9         \n",
            "                0.008     0.0       0.031     0.126     0.016     0.773     0.012     0.023     0.002     0.009     \n",
            "frog            8         0         22        30        16        11        901       6         3         3         \n",
            "                0.008     0.0       0.022     0.03      0.016     0.011     0.901     0.006     0.003     0.003     \n",
            "horse           16        2         12        25        16        22        1         900       0         6         \n",
            "                0.016     0.002     0.012     0.025     0.016     0.022     0.001     0.9       0.0       0.006     \n",
            "ship            24        15        4         3         1         3         2         2         926       20        \n",
            "                0.024     0.015     0.004     0.003     0.001     0.003     0.002     0.002     0.926     0.02      \n",
            "truck           28        38        3         16        1         3         2         4         25        880       \n",
            "                0.028     0.038     0.003     0.016     0.001     0.003     0.002     0.004     0.025     0.88      \n",
            "time: 41.6 ms\n"
          ],
          "name": "stdout"
        }
      ]
    },
    {
      "cell_type": "code",
      "metadata": {
        "id": "pZ5U1tkZ7ecu",
        "colab_type": "code",
        "colab": {
          "base_uri": "https://localhost:8080/",
          "height": 34
        },
        "outputId": "963e10f4-f323-4f19-acd0-24a1fc2919ff"
      },
      "source": [
        "# Save the model checkpoint\n",
        "torch.save(model.state_dict(), 'resnet.ckpt')"
      ],
      "execution_count": 23,
      "outputs": [
        {
          "output_type": "stream",
          "text": [
            "time: 22.7 ms\n"
          ],
          "name": "stdout"
        }
      ]
    },
    {
      "cell_type": "code",
      "metadata": {
        "id": "2x-t3dD2-H5A",
        "colab_type": "code",
        "colab": {
          "base_uri": "https://localhost:8080/",
          "height": 34
        },
        "outputId": "06ca2e09-06fa-4b68-ccaa-5f61cbcecfa1"
      },
      "source": [
        "pytorch_total_params = sum(p.numel() for p in model.parameters())\n",
        "pytorch_total_params"
      ],
      "execution_count": 24,
      "outputs": [
        {
          "output_type": "execute_result",
          "data": {
            "text/plain": [
              "701466"
            ]
          },
          "metadata": {
            "tags": []
          },
          "execution_count": 24
        },
        {
          "output_type": "stream",
          "text": [
            "time: 4.19 ms\n"
          ],
          "name": "stdout"
        }
      ]
    }
  ]
}